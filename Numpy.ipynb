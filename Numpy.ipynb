{
 "cells": [
  {
   "cell_type": "markdown",
   "id": "7634821f-f472-4f63-9690-ef1a6fdc440a",
   "metadata": {
    "tags": []
   },
   "source": [
    "# Assignment Numpy"
   ]
  },
  {
   "cell_type": "markdown",
   "id": "278c9093-07ab-4d3b-933e-f427f8e13c67",
   "metadata": {},
   "source": [
    "Consider the below code to answer further questions:Q1. Is there any difference in the data type of variables list_ and array_list? If there is then write a code\n",
    "to print the data types of both the variables."
   ]
  },
  {
   "cell_type": "code",
   "execution_count": 21,
   "id": "36bd284e-1a4c-4871-bac6-97f0bad64ad2",
   "metadata": {},
   "outputs": [
    {
     "data": {
      "text/plain": [
       "array(['1', '2', '3', '4', '5'], dtype='<U1')"
      ]
     },
     "execution_count": 21,
     "metadata": {},
     "output_type": "execute_result"
    }
   ],
   "source": [
    "import numpy as np\n",
    "list_ = list(range(1,6))\n",
    "list_ = [str(i) for i in list_]\n",
    "array_list = np.array(object = list_)\n",
    "array_list"
   ]
  },
  {
   "cell_type": "code",
   "execution_count": 15,
   "id": "b73e143b-37c8-41e2-b326-eb381f8de155",
   "metadata": {},
   "outputs": [
    {
     "data": {
      "text/plain": [
       "numpy.ndarray"
      ]
     },
     "execution_count": 15,
     "metadata": {},
     "output_type": "execute_result"
    }
   ],
   "source": [
    "type(array_list)"
   ]
  },
  {
   "cell_type": "code",
   "execution_count": 16,
   "id": "dd2013de-f548-419f-a30d-d13e55ad4096",
   "metadata": {},
   "outputs": [
    {
     "data": {
      "text/plain": [
       "list"
      ]
     },
     "execution_count": 16,
     "metadata": {},
     "output_type": "execute_result"
    }
   ],
   "source": [
    "type(list_)"
   ]
  },
  {
   "cell_type": "markdown",
   "id": "9eea4420-b2db-4f4d-9f90-12af55670759",
   "metadata": {},
   "source": [
    "Q2. Write a code to print the data type of each and every element of both the variables list_ and\n",
    "arra_list."
   ]
  },
  {
   "cell_type": "code",
   "execution_count": 20,
   "id": "60bb0048-b44e-4c93-a5be-07801bd7e3e0",
   "metadata": {},
   "outputs": [
    {
     "name": "stdout",
     "output_type": "stream",
     "text": [
      "<class 'numpy.str_'> <class 'str'>\n",
      "<class 'numpy.str_'> <class 'str'>\n",
      "<class 'numpy.str_'> <class 'str'>\n",
      "<class 'numpy.str_'> <class 'str'>\n",
      "<class 'numpy.str_'> <class 'str'>\n"
     ]
    }
   ],
   "source": [
    "for i in range(len(list_)):\n",
    "    print(type(array_list[i]), type(list_[i]))"
   ]
  },
  {
   "cell_type": "markdown",
   "id": "b6a88488-84e1-452a-b16e-94ec12e805b1",
   "metadata": {
    "tags": []
   },
   "source": [
    "Q3. Considering the following changes in the variable, array_list: Will there be any difference in the data type of the elements present in both the variables, list_ and\n",
    "arra_list? If so then print the data types of each and every element present in both the variables, list_\n",
    "and arra_list."
   ]
  },
  {
   "cell_type": "code",
   "execution_count": 22,
   "id": "f50b5467-9c15-4356-b83e-b378596f1f1b",
   "metadata": {},
   "outputs": [],
   "source": [
    "array_list = np.array(object = list_, dtype = int)"
   ]
  },
  {
   "cell_type": "code",
   "execution_count": 23,
   "id": "5085e213-b6a0-46c5-b015-1bd3f3cc3b8d",
   "metadata": {},
   "outputs": [
    {
     "data": {
      "text/plain": [
       "array([1, 2, 3, 4, 5])"
      ]
     },
     "execution_count": 23,
     "metadata": {},
     "output_type": "execute_result"
    }
   ],
   "source": [
    "array_list"
   ]
  },
  {
   "cell_type": "code",
   "execution_count": 24,
   "id": "215273b6-2f7b-4f49-8e55-916987b1aa91",
   "metadata": {},
   "outputs": [
    {
     "name": "stdout",
     "output_type": "stream",
     "text": [
      "<class 'numpy.int64'> <class 'str'>\n",
      "<class 'numpy.int64'> <class 'str'>\n",
      "<class 'numpy.int64'> <class 'str'>\n",
      "<class 'numpy.int64'> <class 'str'>\n",
      "<class 'numpy.int64'> <class 'str'>\n"
     ]
    }
   ],
   "source": [
    "for i in range(len(list_)):\n",
    "    print(type(array_list[i]), type(list_[i]))"
   ]
  },
  {
   "cell_type": "markdown",
   "id": "1bad0c1c-11ad-4ed9-9a3d-2b496d3ed92d",
   "metadata": {},
   "source": [
    "The arraylist is changed to int type"
   ]
  },
  {
   "cell_type": "markdown",
   "id": "82832c48-1eab-4d94-911e-6cda3f459368",
   "metadata": {},
   "source": [
    "Q4. Write a code to find the following characteristics of variable, num_array:\n",
    "(i) shape\n",
    "(ii) size"
   ]
  },
  {
   "cell_type": "code",
   "execution_count": 34,
   "id": "b4f956c0-0771-4475-96c4-9bd61a3fa16a",
   "metadata": {},
   "outputs": [
    {
     "data": {
      "text/plain": [
       "array([[ 0,  1,  2,  3],\n",
       "       [ 4,  5,  6,  7],\n",
       "       [ 8,  9, 10, 11],\n",
       "       [12, 13, 14, 15],\n",
       "       [16, 17, 18, 19]])"
      ]
     },
     "execution_count": 34,
     "metadata": {},
     "output_type": "execute_result"
    }
   ],
   "source": [
    "array = np.arange(20).reshape(5,4)\n",
    "array"
   ]
  },
  {
   "cell_type": "code",
   "execution_count": 35,
   "id": "383ff397-c06f-4a6f-aba4-12f63210d41f",
   "metadata": {},
   "outputs": [
    {
     "data": {
      "text/plain": [
       "20"
      ]
     },
     "execution_count": 35,
     "metadata": {},
     "output_type": "execute_result"
    }
   ],
   "source": [
    "array.size"
   ]
  },
  {
   "cell_type": "code",
   "execution_count": 36,
   "id": "4c0e7488-8988-4294-b58f-4bf3c3d43d04",
   "metadata": {},
   "outputs": [
    {
     "data": {
      "text/plain": [
       "(5, 4)"
      ]
     },
     "execution_count": 36,
     "metadata": {},
     "output_type": "execute_result"
    }
   ],
   "source": [
    "array.shape"
   ]
  },
  {
   "cell_type": "markdown",
   "id": "d07b5aa4-41b8-4a4d-9d44-c76e4732a37a",
   "metadata": {
    "tags": []
   },
   "source": [
    "The size gives the no of elements in an array whereas the shape gives the num of rows and columns in any dimensional array."
   ]
  },
  {
   "cell_type": "markdown",
   "id": "9730af2d-ab83-4d2e-b25c-39ce00bf1d2d",
   "metadata": {},
   "source": [
    "Q5. Write a code to create numpy array of 3*3 matrix containing zeros only, using a numpy array\n",
    "creation function.\n",
    "[Hint: The size of the array will be 9 and the shape will be (3,3).]"
   ]
  },
  {
   "cell_type": "code",
   "execution_count": 37,
   "id": "8b29488b-3264-46f8-a1ce-6eee67c71ab0",
   "metadata": {},
   "outputs": [
    {
     "data": {
      "text/plain": [
       "array([[0, 0, 0],\n",
       "       [0, 0, 0],\n",
       "       [0, 0, 0]])"
      ]
     },
     "execution_count": 37,
     "metadata": {},
     "output_type": "execute_result"
    }
   ],
   "source": [
    "np.zeros([3,3], dtype = int)"
   ]
  },
  {
   "cell_type": "markdown",
   "id": "b16d4382-1920-401f-8adb-b713603ab566",
   "metadata": {
    "tags": []
   },
   "source": [
    "Q6. Create an identity matrix of shape (5,5) using numpy functions?"
   ]
  },
  {
   "cell_type": "code",
   "execution_count": 41,
   "id": "85f46b25-cdb6-4486-b710-704a44e5d68c",
   "metadata": {},
   "outputs": [
    {
     "data": {
      "text/plain": [
       "array([[1., 0., 0., 0., 0.],\n",
       "       [0., 1., 0., 0., 0.],\n",
       "       [0., 0., 1., 0., 0.],\n",
       "       [0., 0., 0., 1., 0.],\n",
       "       [0., 0., 0., 0., 1.]])"
      ]
     },
     "execution_count": 41,
     "metadata": {},
     "output_type": "execute_result"
    }
   ],
   "source": [
    "np.eye(5)"
   ]
  },
  {
   "cell_type": "code",
   "execution_count": 40,
   "id": "14b15b66-e4c9-4912-aecf-f29490aebee5",
   "metadata": {},
   "outputs": [
    {
     "data": {
      "text/plain": [
       "array([[1., 0., 0.],\n",
       "       [0., 1., 0.],\n",
       "       [0., 0., 1.]])"
      ]
     },
     "execution_count": 40,
     "metadata": {},
     "output_type": "execute_result"
    }
   ],
   "source": [
    "np.identity(3)"
   ]
  },
  {
   "cell_type": "code",
   "execution_count": null,
   "id": "ca614508-0836-4ade-8612-cbfa5bb6a592",
   "metadata": {},
   "outputs": [],
   "source": []
  },
  {
   "cell_type": "code",
   "execution_count": null,
   "id": "8c28d0f7-9b70-43f2-a950-63baad0db837",
   "metadata": {},
   "outputs": [],
   "source": []
  },
  {
   "cell_type": "code",
   "execution_count": null,
   "id": "a22c9de6-399c-47d9-bedd-08b37443401c",
   "metadata": {},
   "outputs": [],
   "source": []
  },
  {
   "cell_type": "code",
   "execution_count": null,
   "id": "b0c2817a-c60c-4875-bd19-b8a88c4ab31b",
   "metadata": {},
   "outputs": [],
   "source": []
  },
  {
   "cell_type": "code",
   "execution_count": null,
   "id": "25c8ae29-413c-40bb-a16b-d3a67565acfb",
   "metadata": {},
   "outputs": [],
   "source": []
  },
  {
   "cell_type": "code",
   "execution_count": null,
   "id": "1ddd3539-7366-4f33-a778-dedc810012d9",
   "metadata": {},
   "outputs": [],
   "source": []
  },
  {
   "cell_type": "code",
   "execution_count": null,
   "id": "e3b2a5e8-32d0-429d-b11c-d26e564ce86c",
   "metadata": {},
   "outputs": [],
   "source": []
  }
 ],
 "metadata": {
  "kernelspec": {
   "display_name": "Python 3 (ipykernel)",
   "language": "python",
   "name": "python3"
  },
  "language_info": {
   "codemirror_mode": {
    "name": "ipython",
    "version": 3
   },
   "file_extension": ".py",
   "mimetype": "text/x-python",
   "name": "python",
   "nbconvert_exporter": "python",
   "pygments_lexer": "ipython3",
   "version": "3.10.8"
  }
 },
 "nbformat": 4,
 "nbformat_minor": 5
}
