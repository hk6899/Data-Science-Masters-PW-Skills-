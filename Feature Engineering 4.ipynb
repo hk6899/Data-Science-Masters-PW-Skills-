{
 "cells": [
  {
   "cell_type": "markdown",
   "id": "daa5c22c-95c1-4d63-b961-be3454dc72c1",
   "metadata": {
    "tags": []
   },
   "source": [
    "# Assignement Feature Engineering - Covariance and Correlation"
   ]
  },
  {
   "cell_type": "markdown",
   "id": "1607fe07-d022-4602-8ce3-a364e9aae4d2",
   "metadata": {},
   "source": [
    "Q1. Pearson correlation coefficient is a measure of the linear relationship between two variables. Suppose\n",
    "you have collected data on the amount of time students spend studying for an exam and their final exam\n",
    "scores. Calculate the Pearson correlation coefficient between these two variables and interpret the result."
   ]
  },
  {
   "cell_type": "code",
   "execution_count": 3,
   "id": "2116a1ec-0417-4b26-819f-9b94f7f37ec5",
   "metadata": {},
   "outputs": [
    {
     "name": "stdout",
     "output_type": "stream",
     "text": [
      "Pearson Correlation Coefficient: 1.0\n",
      "                               Amount of Time Spent Studying  \\\n",
      "Amount of Time Spent Studying                            1.0   \n",
      "Final Exam Scores                                        1.0   \n",
      "\n",
      "                               Final Exam Scores  \n",
      "Amount of Time Spent Studying                1.0  \n",
      "Final Exam Scores                            1.0  \n"
     ]
    }
   ],
   "source": [
    "import pandas as pd\n",
    "\n",
    "# Sample data in a pandas DataFrame\n",
    "data = {\n",
    "    'Amount of Time Spent Studying': [10, 20, 30, 40, 50],\n",
    "    'Final Exam Scores': [60, 70, 80, 90, 100]\n",
    "}\n",
    "\n",
    "df = pd.DataFrame(data)\n",
    "\n",
    "# Calculate the Pearson correlation coefficient\n",
    "correlation_coefficient = df['Amount of Time Spent Studying'].corr(df['Final Exam Scores'])\n",
    "\n",
    "print(\"Pearson Correlation Coefficient:\", correlation_coefficient)\n",
    "\n",
    "print(df.corr(method='pearson'))"
   ]
  },
  {
   "cell_type": "markdown",
   "id": "554994d0-46e5-4527-b089-dd84f84f5149",
   "metadata": {},
   "source": [
    "Q2. Spearman's rank correlation is a measure of the monotonic relationship between two variables.\n",
    "Suppose you have collected data on the amount of sleep individuals get each night and their overall job\n",
    "satisfaction level on a scale of 1 to 10. Calculate the Spearman's rank correlation between these two\n",
    "variables and interpret the result."
   ]
  },
  {
   "cell_type": "code",
   "execution_count": 6,
   "id": "47e30078-6c1c-486a-847a-02b6129b052d",
   "metadata": {},
   "outputs": [
    {
     "data": {
      "text/html": [
       "<div>\n",
       "<style scoped>\n",
       "    .dataframe tbody tr th:only-of-type {\n",
       "        vertical-align: middle;\n",
       "    }\n",
       "\n",
       "    .dataframe tbody tr th {\n",
       "        vertical-align: top;\n",
       "    }\n",
       "\n",
       "    .dataframe thead th {\n",
       "        text-align: right;\n",
       "    }\n",
       "</style>\n",
       "<table border=\"1\" class=\"dataframe\">\n",
       "  <thead>\n",
       "    <tr style=\"text-align: right;\">\n",
       "      <th></th>\n",
       "      <th>sleep_hrs</th>\n",
       "      <th>job_satisfaction</th>\n",
       "    </tr>\n",
       "  </thead>\n",
       "  <tbody>\n",
       "    <tr>\n",
       "      <th>sleep_hrs</th>\n",
       "      <td>1.000000</td>\n",
       "      <td>0.974679</td>\n",
       "    </tr>\n",
       "    <tr>\n",
       "      <th>job_satisfaction</th>\n",
       "      <td>0.974679</td>\n",
       "      <td>1.000000</td>\n",
       "    </tr>\n",
       "  </tbody>\n",
       "</table>\n",
       "</div>"
      ],
      "text/plain": [
       "                  sleep_hrs  job_satisfaction\n",
       "sleep_hrs          1.000000          0.974679\n",
       "job_satisfaction   0.974679          1.000000"
      ]
     },
     "execution_count": 6,
     "metadata": {},
     "output_type": "execute_result"
    }
   ],
   "source": [
    "import pandas as pd\n",
    "sleep_data = {'sleep_hrs': [7, 6, 8, 5, 6],\n",
    "             'job_satisfaction': [8, 6, 9, 4, 7]}\n",
    "df = pd.DataFrame(sleep_data)\n",
    "df.corr(method='spearman')"
   ]
  },
  {
   "cell_type": "markdown",
   "id": "30bf99b5-6db0-49b2-966d-20c521638616",
   "metadata": {},
   "source": [
    "Q3. Suppose you are conducting a study to examine the relationship between the number of hours of\n",
    "exercise per week and body mass index (BMI) in a sample of adults. You collected data on both variables\n",
    "for 50 participants. Calculate the Pearson correlation coefficient and the Spearman's rank correlation\n",
    "between these two variables and compare the results."
   ]
  },
  {
   "cell_type": "code",
   "execution_count": 7,
   "id": "17f804e9-7907-40f1-9bb9-6c4cc14402df",
   "metadata": {},
   "outputs": [
    {
     "name": "stdout",
     "output_type": "stream",
     "text": [
      "Pearson Correlation Coefficient: 0.9778844988723556\n",
      "Spearman's Rank Correlation: 0.9819418646247194\n"
     ]
    }
   ],
   "source": [
    "import pandas as pd\n",
    "\n",
    "# Sample data for exercise hours and BMI\n",
    "data = {\n",
    "    'Exercise Hours': [3, 5, 2, 6, 4, 2, 1, 7, 5, 3, 6, 2, 4, 3, 5, 1, 6, 7, 4, 3, 2, 5, 3, 4, 6, 1, 2, 5, 4, 6, 3, 2, 5, 4, 1, 3, 6, 4, 7, 2, 5, 4, 1, 3, 6, 2, 5, 4],\n",
    "    'BMI': [24.1, 26.3, 22.7, 28.5, 25.2, 23.0, 21.4, 29.0, 26.9, 23.5, 28.8, 23.3, 25.7, 24.8, 26.4, 21.8, 28.9, 29.8, 25.9, 24.6, 22.1, 26.1, 24.2, 25.3, 27.7, 20.8, 22.5, 26.7, 25.8, 28.1, 24.5, 21.3, 25.6, 25.1, 20.0, 23.9, 28.2, 26.0, 30.5, 22.2, 27.4, 24.9, 20.5, 23.4, 29.3, 22.8, 27.1, 25.5]\n",
    "}\n",
    "\n",
    "df = pd.DataFrame(data)\n",
    "\n",
    "# Calculate the Pearson correlation coefficient\n",
    "pearson_corr = df['Exercise Hours'].corr(df['BMI'])\n",
    "\n",
    "# Calculate the Spearman's rank correlation coefficient\n",
    "spearman_corr = df['Exercise Hours'].corr(df['BMI'], method='spearman')\n",
    "\n",
    "print(\"Pearson Correlation Coefficient:\", pearson_corr)\n",
    "print(\"Spearman's Rank Correlation:\", spearman_corr)\n"
   ]
  },
  {
   "cell_type": "markdown",
   "id": "f18861b6-3cda-41c4-b6fe-4b3a7dff76ad",
   "metadata": {},
   "source": [
    "Q4. A researcher is interested in examining the relationship between the number of hours individuals\n",
    "spend watching television per day and their level of physical activity. The researcher collected data on\n",
    "both variables from a sample of 50 participants. Calculate the Pearson correlation coefficient between\n",
    "these two variables."
   ]
  },
  {
   "cell_type": "code",
   "execution_count": 8,
   "id": "b359a276-8c97-4378-99bd-3af82ce4b9e1",
   "metadata": {},
   "outputs": [
    {
     "name": "stdout",
     "output_type": "stream",
     "text": [
      "Pearson Correlation Coefficient: -0.19822663499222595\n"
     ]
    }
   ],
   "source": [
    "import pandas as pd\n",
    "\n",
    "# Sample data for hours of TV and physical activity\n",
    "data = {\n",
    "    'Hours of TV': [2, 1, 3, 4, 2, 5, 1, 3, 2, 4, 1, 2, 3, 5, 4, 2, 3, 1, 4, 2, 5, 3, 2, 4, 1, 3, 2, 5, 4, 2, 3, 1, 4, 2, 5, 3, 2, 4, 1, 3, 2, 5, 4, 2, 3, 1, 4, 2, 5],\n",
    "    'Physical Activity Level': [3, 4, 2, 2, 3, 1, 4, 2, 3, 1, 4, 3, 2, 1, 2, 3, 4, 3, 1, 2, 3, 4, 3, 2, 2, 1, 3, 4, 2, 2, 3, 1, 4, 3, 2, 2, 3, 4, 1, 3, 3, 2, 4, 1, 2, 2, 3, 4, 1]\n",
    "}\n",
    "\n",
    "df = pd.DataFrame(data)\n",
    "\n",
    "# Calculate the Pearson correlation coefficient\n",
    "pearson_corr = df['Hours of TV'].corr(df['Physical Activity Level'])\n",
    "\n",
    "print(\"Pearson Correlation Coefficient:\", pearson_corr)\n"
   ]
  },
  {
   "cell_type": "markdown",
   "id": "9d06e445-382a-49e1-b65d-a73059113bb7",
   "metadata": {
    "tags": []
   },
   "source": [
    "Q5. A survey was conducted to examine the relationship between age and preference for a particular\n",
    "brand of soft drink. The survey results are shown below:"
   ]
  },
  {
   "cell_type": "code",
   "execution_count": 10,
   "id": "072ab7ac-ae35-4d2e-b2b3-c1364f841587",
   "metadata": {},
   "outputs": [],
   "source": [
    "data = {'Age' : [25,42,37,19,31,28],\n",
    "       'Soft Drink Preference': ['coke','pepsi','MD','coke','pepsi','coke']}"
   ]
  },
  {
   "cell_type": "code",
   "execution_count": 17,
   "id": "f32e6fca-c042-4187-8919-3f1e34b019ed",
   "metadata": {},
   "outputs": [
    {
     "name": "stdout",
     "output_type": "stream",
     "text": [
      "                            Age  Soft Drink Preference\n",
      "Age                    1.000000               0.277746\n",
      "Soft Drink Preference  0.277746               1.000000\n"
     ]
    }
   ],
   "source": [
    "import pandas as pd\n",
    "from sklearn.preprocessing import LabelEncoder\n",
    "le = LabelEncoder()\n",
    "\n",
    "df = pd.DataFrame(data)\n",
    "df['Soft Drink Preference'] = le.fit_transform(df['Soft Drink Preference'])\n",
    "# Calculate the Pearson correlation coefficient\n",
    "print(df.corr(method='spearman'))"
   ]
  },
  {
   "cell_type": "markdown",
   "id": "c7cfea1f-4834-4ed3-bdf5-44a053c87c7b",
   "metadata": {},
   "source": [
    "Q6. A company is interested in examining the relationship between the number of sales calls made per day\n",
    "and the number of sales made per week. The company collected data on both variables from a sample of\n",
    "30 sales representatives. Calculate the Pearson correlation coefficient between these two variables."
   ]
  },
  {
   "cell_type": "code",
   "execution_count": 18,
   "id": "958cc9fa-0af8-4476-bfbf-85945297d464",
   "metadata": {},
   "outputs": [
    {
     "name": "stdout",
     "output_type": "stream",
     "text": [
      "Pearson Correlation Coefficient: 0.9672060286139649\n"
     ]
    }
   ],
   "source": [
    "import pandas as pd\n",
    "\n",
    "# Sample data for sales calls and sales made\n",
    "data = {\n",
    "    'Sales Calls per Day': [20, 22, 18, 25, 21, 24, 19, 20, 23, 17, 22, 21, 26, 18, 20, 23, 22, 24, 19, 25, 20, 23, 19, 21, 22, 18, 24, 20, 22, 17],\n",
    "    'Sales Made per Week': [5, 6, 4, 7, 5, 7, 4, 5, 6, 4, 6, 5, 8, 4, 5, 7, 6, 7, 4, 7, 5, 6, 4, 5, 6, 4, 7, 5, 6, 4]\n",
    "}\n",
    "\n",
    "df = pd.DataFrame(data)\n",
    "\n",
    "# Calculate the Pearson correlation coefficient\n",
    "pearson_corr = df['Sales Calls per Day'].corr(df['Sales Made per Week'])\n",
    "\n",
    "print(\"Pearson Correlation Coefficient:\", pearson_corr)\n"
   ]
  },
  {
   "cell_type": "code",
   "execution_count": null,
   "id": "c775c1fc-e622-4dc1-9dc3-d4bd2e5c1395",
   "metadata": {},
   "outputs": [],
   "source": []
  },
  {
   "cell_type": "code",
   "execution_count": null,
   "id": "bd620300-3c4c-451d-bcb0-d4a07fcab89c",
   "metadata": {},
   "outputs": [],
   "source": []
  },
  {
   "cell_type": "code",
   "execution_count": null,
   "id": "d9fa7d1c-1343-4c2f-a5e9-dc80afc8d934",
   "metadata": {},
   "outputs": [],
   "source": []
  },
  {
   "cell_type": "code",
   "execution_count": null,
   "id": "815dd201-23b9-4722-a71c-a853fa912df7",
   "metadata": {},
   "outputs": [],
   "source": []
  },
  {
   "cell_type": "code",
   "execution_count": null,
   "id": "747e4275-5200-40f6-b7b7-b65cbdbf5514",
   "metadata": {},
   "outputs": [],
   "source": []
  },
  {
   "cell_type": "code",
   "execution_count": null,
   "id": "6f5a2d64-f262-4f24-8e35-d26cb01b1ea5",
   "metadata": {},
   "outputs": [],
   "source": []
  }
 ],
 "metadata": {
  "kernelspec": {
   "display_name": "Python 3 (ipykernel)",
   "language": "python",
   "name": "python3"
  },
  "language_info": {
   "codemirror_mode": {
    "name": "ipython",
    "version": 3
   },
   "file_extension": ".py",
   "mimetype": "text/x-python",
   "name": "python",
   "nbconvert_exporter": "python",
   "pygments_lexer": "ipython3",
   "version": "3.10.8"
  }
 },
 "nbformat": 4,
 "nbformat_minor": 5
}
