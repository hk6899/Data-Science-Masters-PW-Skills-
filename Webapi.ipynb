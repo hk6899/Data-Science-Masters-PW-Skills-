{
 "cells": [
  {
   "cell_type": "markdown",
   "id": "4cc884c6-5dde-4c4f-8331-e73ce81e3fad",
   "metadata": {},
   "source": [
    "# Assignment WebAPI"
   ]
  },
  {
   "cell_type": "markdown",
   "id": "983ec325-1955-476c-9a00-83ac4f9363f1",
   "metadata": {},
   "source": [
    "Q1. What is an API? Give an example, where an API is used in real life."
   ]
  },
  {
   "cell_type": "markdown",
   "id": "bc8e39cf-707d-431e-9b24-625f7f3dbee6",
   "metadata": {},
   "source": [
    "An API allows two software applications to interact with each other by sharing data and functionality. An API acts as a mediator between two applications, enabling them to communicate with each other. Eg: In Google when we search, we get results. This is done by an api."
   ]
  },
  {
   "cell_type": "markdown",
   "id": "3f98a502-b124-4125-b75d-bb8c1e55b40e",
   "metadata": {},
   "source": [
    "Q2. Give advantages and disadvantages of using API."
   ]
  },
  {
   "cell_type": "markdown",
   "id": "5f440802-618e-42e6-bfe0-88a24d2ceda4",
   "metadata": {},
   "source": [
    "Pro: Simplifying Unnecessary Complexities for Speed.\n",
    "Con: More Generation of api results Loss of Control.\n",
    "Pro: Lighter Load for DevOps.\n",
    "Pro: Greater Alignment."
   ]
  },
  {
   "cell_type": "markdown",
   "id": "05d5322c-f296-4984-90ab-a7a24c187942",
   "metadata": {},
   "source": [
    "Q3. What is a Web API? Differentiate between API and Web API."
   ]
  },
  {
   "cell_type": "markdown",
   "id": "b99fed64-e8aa-4954-8fe1-820126d39eb8",
   "metadata": {},
   "source": [
    "A Web API is a set of standards and protocols for accessing web-based software applications or web tools. It provides a way for different software systems to communicate with each other over the internet. The difference is Web API uses HTTP Protocol where as an API uses TCP/SMTP/Http protocol. Web api is a subset of api."
   ]
  },
  {
   "cell_type": "markdown",
   "id": "f4417024-03ae-482d-bcb2-b54408c017bf",
   "metadata": {},
   "source": [
    "Q4. Explain REST and SOAP Architecture. Mention shortcomings of SOAP."
   ]
  },
  {
   "cell_type": "markdown",
   "id": "416c530b-1afb-4616-ba79-15206ffaba71",
   "metadata": {},
   "source": [
    "REST is a set of architectural principles attuned to the needs of lightweight web services and mobile applications. Because it's a set of guidelines, it leaves the implementation of these recommendations to developers. SOAP is a standard protocol that was first designed so that applications built with different languages and on different platforms could communicate. The disadvantage of SOAP is that it imposes built-in rules that increase its complexity and overhead, which can lead to longer page load times."
   ]
  },
  {
   "cell_type": "markdown",
   "id": "82fedd8a-7d8a-477e-8de4-7b0256551bf0",
   "metadata": {},
   "source": [
    "Q5. Differentiate between REST and SOAP."
   ]
  },
  {
   "cell_type": "code",
   "execution_count": null,
   "id": "49cb93c8-cf7a-4a28-9f70-dcdf21d4b83e",
   "metadata": {},
   "outputs": [],
   "source": []
  },
  {
   "cell_type": "code",
   "execution_count": null,
   "id": "2efaab68-4859-4c32-8da6-5e0ea31c2d0b",
   "metadata": {},
   "outputs": [],
   "source": []
  },
  {
   "cell_type": "code",
   "execution_count": null,
   "id": "3cf26b6a-a09f-40e3-9396-3a980f2808d8",
   "metadata": {},
   "outputs": [],
   "source": []
  },
  {
   "cell_type": "code",
   "execution_count": null,
   "id": "70874b6b-6551-4a31-8e0f-80bec8111a30",
   "metadata": {},
   "outputs": [],
   "source": []
  },
  {
   "cell_type": "code",
   "execution_count": null,
   "id": "86a19671-e5c3-4fbc-8664-a5cbd4826946",
   "metadata": {},
   "outputs": [],
   "source": []
  }
 ],
 "metadata": {
  "kernelspec": {
   "display_name": "Python 3 (ipykernel)",
   "language": "python",
   "name": "python3"
  },
  "language_info": {
   "codemirror_mode": {
    "name": "ipython",
    "version": 3
   },
   "file_extension": ".py",
   "mimetype": "text/x-python",
   "name": "python",
   "nbconvert_exporter": "python",
   "pygments_lexer": "ipython3",
   "version": "3.10.8"
  }
 },
 "nbformat": 4,
 "nbformat_minor": 5
}
