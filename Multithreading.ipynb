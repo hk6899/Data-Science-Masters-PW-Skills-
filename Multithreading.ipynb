{
 "cells": [
  {
   "cell_type": "markdown",
   "id": "77e608bb-40a7-4e7c-adf0-5bed78a5e7c9",
   "metadata": {},
   "source": [
    "# Multithreading Assignment"
   ]
  },
  {
   "cell_type": "markdown",
   "id": "40e17f4c-a828-476c-9a5e-11ed18fe0206",
   "metadata": {},
   "source": [
    "Q1. What is multithreading in python? hy is it used? Name the module used to handle threads in python "
   ]
  },
  {
   "cell_type": "markdown",
   "id": "88eaca31-33df-4fda-ae1e-91ed364116dc",
   "metadata": {},
   "source": [
    " Multithreading is a threading technique in Python programming to run multiple threads concurrently by rapidly switching between threads with a CPU help (called context switching). A thread is the smalllest unit or subprocess of the same program or same core. It is usedto improve the perfomance of the program. threading module is used.\n",
    " "
   ]
  },
  {
   "cell_type": "markdown",
   "id": "5d66844a-7169-40f8-b908-6d20a232a1e2",
   "metadata": {},
   "source": [
    "Q2. Why threading module used? Write the use of the following functions"
   ]
  },
  {
   "cell_type": "markdown",
   "id": "07b12905-c5e5-4be9-9d8f-a14510fff13b",
   "metadata": {},
   "source": [
    "threading module is used to perform multithreading in python. activecount is used to count currently active or running threads. currentThread() is used to check which thread is currently running on the process. threading.enumerate() returns a list of all Thread objects currently alive. The list includes daemonic threads, dummy thread objects created by current_thread(), and the main thread. It excludes terminated threads and threads that have not yet been started."
   ]
  },
  {
   "cell_type": "markdown",
   "id": "c12bea87-d535-41d0-b7e1-f3fb8a56fead",
   "metadata": {},
   "source": [
    "Q3. Explain the functions"
   ]
  },
  {
   "cell_type": "markdown",
   "id": "9e1140b6-71a7-4350-b61b-21f1d40e9f5a",
   "metadata": {},
   "source": [
    " run() function is used to run the threads. start() functions initialises the threads and once it is called, threads are created and it internally calls run method. join method is used so that once the execution of one thread is completed then it allows the other thread to start the process.isalive method checks whether the thread is alive (ie) functional or not"
   ]
  },
  {
   "cell_type": "markdown",
   "id": "6f235db4-6e39-4c5d-8f62-71a1fab8c1dd",
   "metadata": {},
   "source": [
    "Q4. Write a python program to create two threads. Thread one must print the list of squares and thread\n",
    "two must print the list of cubes"
   ]
  },
  {
   "cell_type": "code",
   "execution_count": 16,
   "id": "c2b8f4a9-d32d-487e-92f3-7e1bb90a9e40",
   "metadata": {},
   "outputs": [
    {
     "name": "stdout",
     "output_type": "stream",
     "text": [
      "1\n",
      "16\n",
      "25\n",
      "36\n",
      "49\n",
      "1\n",
      "64\n",
      "125\n",
      "216\n",
      "343\n"
     ]
    }
   ],
   "source": [
    "import threading, time\n",
    "def square(num_list):\n",
    "    for num in num_list:\n",
    "        print(num*num)\n",
    "        # time.sleep(1)\n",
    "def cube(num_list):\n",
    "    for num in num_list:\n",
    "        print(num**3)\n",
    "        # time.sleep(1)\n",
    "num_list = [1,4,5,6,7]\n",
    "t1 = threading.Thread(target = square, args =(num_list,))\n",
    "t2= threading.Thread(target = cube, args =(num_list,))\n",
    "t1.start()\n",
    "t2.start()"
   ]
  },
  {
   "cell_type": "markdown",
   "id": "3fb91da8-ab51-4005-a384-9e917a002aa2",
   "metadata": {},
   "source": [
    "Q5. State advantages and disadvantages of multithreading"
   ]
  },
  {
   "cell_type": "markdown",
   "id": "e5849a22-e67f-4674-92d7-8dad44c905a7",
   "metadata": {},
   "source": [
    "Multithreading in Python streamlines the efficient utilization of resources as the threads share the same memory and data space. It also allows the concurrent appearance of multiple tasks and reduces the response time. This improves the performance. Python virtual machine is not a thread-safe interpreter, meaning that the interpreter can execute only one thread at any given moment. This limitation is enforced by the Python Global Interpreter Lock (GIL), which essentially limits one Python thread to run at a time"
   ]
  },
  {
   "cell_type": "markdown",
   "id": "0111ac19-ce17-49c2-96f0-c5ca0a16b36f",
   "metadata": {},
   "source": [
    "6. Explain deadlocks and race conditions."
   ]
  },
  {
   "cell_type": "markdown",
   "id": "dd67f388-f30a-4046-8218-a82c79c6694c",
   "metadata": {},
   "source": [
    "When two processes are waiting for each other directly or indirectly, it is called deadlock. Race condition is When two processes are competing with each other causing data corruption.\n",
    "\n"
   ]
  },
  {
   "cell_type": "code",
   "execution_count": null,
   "id": "6714675b-fb88-47bd-84ef-72157e45c29a",
   "metadata": {},
   "outputs": [],
   "source": []
  },
  {
   "cell_type": "code",
   "execution_count": null,
   "id": "1e8a5373-c2e8-45ee-bed2-a2687bf4c3d3",
   "metadata": {},
   "outputs": [],
   "source": []
  },
  {
   "cell_type": "code",
   "execution_count": null,
   "id": "e08e1100-4c16-4c90-a71d-b12792ff5845",
   "metadata": {},
   "outputs": [],
   "source": []
  },
  {
   "cell_type": "code",
   "execution_count": null,
   "id": "d61ccf17-849c-45e6-b1d6-e686841482cb",
   "metadata": {},
   "outputs": [],
   "source": []
  }
 ],
 "metadata": {
  "kernelspec": {
   "display_name": "Python 3 (ipykernel)",
   "language": "python",
   "name": "python3"
  },
  "language_info": {
   "codemirror_mode": {
    "name": "ipython",
    "version": 3
   },
   "file_extension": ".py",
   "mimetype": "text/x-python",
   "name": "python",
   "nbconvert_exporter": "python",
   "pygments_lexer": "ipython3",
   "version": "3.10.8"
  }
 },
 "nbformat": 4,
 "nbformat_minor": 5
}
