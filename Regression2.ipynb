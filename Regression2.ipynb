{
 "cells": [
  {
   "cell_type": "markdown",
   "id": "e4bce1af-6591-4271-974d-d41a5ac10ed8",
   "metadata": {},
   "source": [
    "# Assignment Linear Regression 2"
   ]
  },
  {
   "cell_type": "markdown",
   "id": "b004189b-0985-4ca1-a46c-0aefcfde9c69",
   "metadata": {},
   "source": [
    "Q1. Explain the concept of R-squared in linear regression models. How is it calculated, and what does it\n",
    "represent?"
   ]
  },
  {
   "cell_type": "markdown",
   "id": "f3ece3fb-3a07-4af1-ab45-7ebe3749f731",
   "metadata": {},
   "source": [
    "R-squared is a perfomance metric used in linear regression. It disuss about the proportion of the variance in dependent variable w.r.t independent variable. R-squared = 1 - (SSE / SST)\n",
    "Where:\n",
    "SSE (Sum of Squared Errors) = Σ(y_actual - y_predicted)^2\n",
    "SST (Total Sum of Squares) = Σ(y_actual - mean(y))^2\n",
    "In other words, R-squared measures the proportion of the total variation in the dependent variable (y) that is explained by the independent variable(s) (x)"
   ]
  },
  {
   "cell_type": "markdown",
   "id": "dc0eecac-6a5a-4782-9e0b-543e836d17fc",
   "metadata": {},
   "source": [
    "Q2. Define adjusted R-squared and explain how it differs from the regular R-squared."
   ]
  },
  {
   "cell_type": "markdown",
   "id": "f8782357-e0d7-43eb-9416-1861d1b61edf",
   "metadata": {
    "tags": []
   },
   "source": [
    "Adjusted r squared is used as perfomance metric where,it predicts better when multiple features are there. \n",
    "adusted_rsq = (1-r^2)(n-1)/(n-p-1). p-no of independent features, n-no of data pts"
   ]
  },
  {
   "cell_type": "markdown",
   "id": "e9bdcbb9-22d1-474a-bfaf-78e840216e1b",
   "metadata": {},
   "source": [
    "Q3. When is it more appropriate to use adjusted R-squared?"
   ]
  },
  {
   "cell_type": "markdown",
   "id": "98ed8d0a-7712-4936-a0a4-cd576929b000",
   "metadata": {},
   "source": [
    "Adjusted r squared is used as perfomance metric where,it predicts better when multiple features are there. "
   ]
  },
  {
   "cell_type": "markdown",
   "id": "3bba6f60-21ce-4c9c-ab2c-6ef24cd3ce01",
   "metadata": {},
   "source": [
    "Q4. What are RMSE, MSE, and MAE in the context of regression analysis? How are these metrics\n",
    "calculated, and what do they represent?"
   ]
  },
  {
   "cell_type": "markdown",
   "id": "c9b25f05-fd0c-469d-bcdc-d3ff6d2782a6",
   "metadata": {},
   "source": [
    "In the context of regression analysis, RMSE, MSE, and MAE are three commonly used metrics to evaluate the performance of a regression model. These metrics help to assess the accuracy and reliability of the model in predicting the target variable.\n",
    "MSE = Σ[(y_actual - y_predicted)^2 / n]\n",
    "Where:\n",
    "* y_actual is the actual value of the target variable\n",
    "* y_predicted is the predicted value of the target variable\n",
    "* n is the sample size\n",
    "Calculation:\n",
    "MAE = Σ|y_actual - y_predicted| / n\n",
    "Where:\n",
    "* y_actual is the actual value of the target variable\n",
    "* y_predicted is the predicted value of the target variable\n",
    "* n is the sample size\n",
    "RMSE = √[MSE]\n",
    "MSE = Σ[(y_actual - y_predicted)^2 / n]\n",
    "Where:\n",
    "* y_actual is the actual value of the target variable\n",
    "* y_predicted is the predicted value of the target variable\n",
    "* n is the sample size"
   ]
  },
  {
   "cell_type": "markdown",
   "id": "0308759f-4f15-4d06-8407-b5b9e7f9fb4e",
   "metadata": {},
   "source": [
    "Q5. Discuss the advantages and disadvantages of using RMSE, MSE, and MAE as evaluation metrics in\n",
    "regression analysis."
   ]
  },
  {
   "cell_type": "markdown",
   "id": "165999ca-ec21-4681-93e7-17b645aca343",
   "metadata": {
    "tags": []
   },
   "source": [
    "Advantages\n",
    "MSE -- It is differentiable. It has only one local and global minima.\n",
    "MAE -- It is robust to  outliers. It is in same unit as we r not squaring the error.\n",
    "RMSE -- It is in same unit. It is differentiable.\n",
    "Disadvantages\n",
    "MSE -- It is not robust to outliers.\n",
    "MAE-- It is taking time for convergence. Optimisation is complex/\n",
    "RMSE -- Not robust to outlierd."
   ]
  },
  {
   "cell_type": "markdown",
   "id": "9675bdf9-dafb-4c5a-b4c7-e23b42fb2574",
   "metadata": {},
   "source": [
    "Q6. Explain the concept of Lasso regularization. How does it differ from Ridge regularization, and when is\n",
    "it more appropriate to use?"
   ]
  },
  {
   "cell_type": "markdown",
   "id": "7640caf4-3ec8-4c20-92af-50dc6f5bc386",
   "metadata": {},
   "source": [
    "Lasso also called L1 regularisation, is a concpet of penalising the regular regression by adding the slope and lambda(hyperparameter). It differs from ridge regression as ridge uses the square of the slope. Ridge is used for preventing overfitting while lasso is used for feature selection."
   ]
  },
  {
   "cell_type": "markdown",
   "id": "34b11f14-38e5-4751-8f81-f0ff78dbdc46",
   "metadata": {},
   "source": [
    "Q7. How do regularized linear models help to prevent overfitting in machine learning? Provide an\n",
    "example to illustrate."
   ]
  },
  {
   "cell_type": "markdown",
   "id": "9912c912-4dd5-44ad-b36d-29daccf77bc6",
   "metadata": {
    "tags": []
   },
   "source": [
    "Regularized linear models help prevent overfitting in machine learning by adding a penalty term to the loss function that discourages large values of the model's weights. This encourages the model to find a simpler solution that generalizes better to new data."
   ]
  },
  {
   "cell_type": "markdown",
   "id": "a1547237-8b57-4993-a2ad-c84c17020646",
   "metadata": {},
   "source": [
    "Q8. Discuss the limitations of regularized linear models and explain why they may not always be the best\n",
    "choice for regression analysis."
   ]
  },
  {
   "cell_type": "markdown",
   "id": "cb316551-faf0-483c-a174-5dac3ed7494c",
   "metadata": {},
   "source": [
    "Regularized linear models, such as Lasso regression, have several limitations that may make them less desirable for certain regression analysis tasks. Here are some of the limitations and why they may not always be the best choice:\n",
    "1. Assumptions: Regularized linear models assume that the relationship between the independent and dependent variables is linear. However, in some cases, the relationship may be non-linear, and a non-linear model may be more appropriate.\n",
    "2. Overfitting: Regularized linear models are designed to prevent overfitting by adding a penalty term to the loss function. However, if the penalty term is too severe, it may lead to underfitting, where the model is too simple and fails to capture the underlying patterns in the data.\n",
    "3. Choosing the regularization parameter: The regularization parameter controls the strength of the penalty term in the loss function. Choosing the appropriate value for the regularization parameter can be challenging, and the model's performance can be sensitive to the choice of this parameter.\n",
    "4. Computational complexity: Regularized linear models can be computationally expensive to optimize, especially for large datasets. This can limit their use in applications where real-time predictions are required."
   ]
  },
  {
   "cell_type": "markdown",
   "id": "da67b65f-533d-4578-ad04-c632cc4f7835",
   "metadata": {},
   "source": [
    "Q9. You are comparing the performance of two regression models using different evaluation metrics.\n",
    "Model A has an RMSE of 10, while Model B has an MAE of 8. Which model would you choose as the better\n",
    "performer, and why? Are there any limitations to your choice of metric?"
   ]
  },
  {
   "cell_type": "markdown",
   "id": "f1161b13-a14d-49f6-8b30-c638d77a4c61",
   "metadata": {},
   "source": [
    "As the error of MAE is less, we can go with MAE. MAE also has robust to outliers, while rmse is not, so MAE has overall advantage"
   ]
  },
  {
   "cell_type": "code",
   "execution_count": null,
   "id": "6c5b43c6-b9e7-47a4-baee-037c298cb429",
   "metadata": {},
   "outputs": [],
   "source": []
  },
  {
   "cell_type": "markdown",
   "id": "62fe262d-7fc9-4962-8bd8-bbe5a20e7a32",
   "metadata": {},
   "source": [
    "Q10. You are comparing the performance of two regularized linear models using different types of\n",
    "regularization. Model A uses Ridge regularization with a regularization parameter of 0.1, while Model B\n",
    "uses Lasso regularization with a regularization parameter of 0.5. Which model would you choose as the\n",
    "better performer, and why? Are there any trade-offs or limitations to your choice of regularization\n",
    "method?"
   ]
  },
  {
   "cell_type": "markdown",
   "id": "3540f392-023e-4586-91c1-5543d48dcb34",
   "metadata": {},
   "source": [
    "Based on the scenario and the dataset we can make that call. If the data is prone to outliers use ridge, if it has multicolinearity, use lasso.There are trade-offs between the two regularization methods. Ridge regularization can produce models that are more interpretable and easier to visualize."
   ]
  },
  {
   "cell_type": "code",
   "execution_count": null,
   "id": "6829ca8d-51d2-4861-a0b9-b4ba72fdb997",
   "metadata": {},
   "outputs": [],
   "source": []
  },
  {
   "cell_type": "code",
   "execution_count": null,
   "id": "d7f4f416-6166-4346-afdf-f2c8a92ed111",
   "metadata": {},
   "outputs": [],
   "source": []
  },
  {
   "cell_type": "code",
   "execution_count": null,
   "id": "4d1f2b9d-5180-4ba5-acc0-ec4cdac40c2d",
   "metadata": {},
   "outputs": [],
   "source": []
  },
  {
   "cell_type": "code",
   "execution_count": null,
   "id": "252bcdc3-e999-4b7e-89e9-2fe16cb6c072",
   "metadata": {},
   "outputs": [],
   "source": []
  },
  {
   "cell_type": "code",
   "execution_count": null,
   "id": "9288cb70-678f-4b59-aef0-f9a046797ae0",
   "metadata": {},
   "outputs": [],
   "source": []
  },
  {
   "cell_type": "code",
   "execution_count": null,
   "id": "92b09fb0-2618-4601-959e-838f55f29f8a",
   "metadata": {},
   "outputs": [],
   "source": []
  },
  {
   "cell_type": "code",
   "execution_count": null,
   "id": "d3f367a0-5dfc-4bb3-b619-d93ac7a3bad2",
   "metadata": {},
   "outputs": [],
   "source": []
  },
  {
   "cell_type": "code",
   "execution_count": null,
   "id": "29cb58f9-f933-4f2d-886e-866c018ba11b",
   "metadata": {},
   "outputs": [],
   "source": []
  },
  {
   "cell_type": "code",
   "execution_count": null,
   "id": "a8b679f2-b1f6-49a2-b86d-38380b69e4c3",
   "metadata": {},
   "outputs": [],
   "source": []
  },
  {
   "cell_type": "code",
   "execution_count": null,
   "id": "459039a9-380a-41dd-8d56-639205d7962a",
   "metadata": {},
   "outputs": [],
   "source": []
  },
  {
   "cell_type": "code",
   "execution_count": null,
   "id": "e058df83-a044-405b-b171-8be70b70e1d3",
   "metadata": {},
   "outputs": [],
   "source": []
  },
  {
   "cell_type": "code",
   "execution_count": null,
   "id": "f8fb3356-3d4f-43ba-9831-6b993ff95d3e",
   "metadata": {},
   "outputs": [],
   "source": []
  },
  {
   "cell_type": "code",
   "execution_count": null,
   "id": "1a639a97-4fe3-4851-a9cc-bb240d47df91",
   "metadata": {},
   "outputs": [],
   "source": []
  },
  {
   "cell_type": "code",
   "execution_count": null,
   "id": "961c2e7b-bd6e-4760-95ea-91aeac3326a8",
   "metadata": {},
   "outputs": [],
   "source": []
  },
  {
   "cell_type": "code",
   "execution_count": null,
   "id": "29b4253a-4066-4fe8-a0f4-bfdf1fb8a221",
   "metadata": {},
   "outputs": [],
   "source": []
  },
  {
   "cell_type": "code",
   "execution_count": null,
   "id": "e42c681f-7d1e-41eb-acbe-2ce77eed65f6",
   "metadata": {},
   "outputs": [],
   "source": []
  },
  {
   "cell_type": "code",
   "execution_count": null,
   "id": "92efafae-3589-4498-8771-ae5deff047e7",
   "metadata": {},
   "outputs": [],
   "source": []
  },
  {
   "cell_type": "code",
   "execution_count": null,
   "id": "3c24a507-d9a8-4782-882a-d9521b43b108",
   "metadata": {},
   "outputs": [],
   "source": []
  },
  {
   "cell_type": "code",
   "execution_count": null,
   "id": "b480b28f-3c56-42c2-8cbf-0685f5b5b6d0",
   "metadata": {},
   "outputs": [],
   "source": []
  },
  {
   "cell_type": "code",
   "execution_count": null,
   "id": "fc3b81e1-3eff-484c-91d4-cb1525f67f9b",
   "metadata": {},
   "outputs": [],
   "source": []
  },
  {
   "cell_type": "code",
   "execution_count": null,
   "id": "d4c20396-b59b-4eae-9fa5-79d844a35ded",
   "metadata": {},
   "outputs": [],
   "source": []
  },
  {
   "cell_type": "code",
   "execution_count": null,
   "id": "12a49ac9-8fcf-47bf-9529-af145c78328a",
   "metadata": {},
   "outputs": [],
   "source": []
  },
  {
   "cell_type": "code",
   "execution_count": null,
   "id": "0ea419fd-ed39-4a4d-9eda-906f590dd13e",
   "metadata": {},
   "outputs": [],
   "source": []
  },
  {
   "cell_type": "code",
   "execution_count": null,
   "id": "e5d1a061-4557-4376-a9fc-33d0caa860e1",
   "metadata": {},
   "outputs": [],
   "source": []
  },
  {
   "cell_type": "code",
   "execution_count": null,
   "id": "e2159ffd-98bd-4846-9b2d-f7e09c50b12c",
   "metadata": {},
   "outputs": [],
   "source": []
  },
  {
   "cell_type": "code",
   "execution_count": null,
   "id": "1f7de61b-b2c4-4459-99c4-03b2cd506819",
   "metadata": {},
   "outputs": [],
   "source": []
  },
  {
   "cell_type": "code",
   "execution_count": null,
   "id": "e60008cd-995a-4434-a0c3-e7381d8dbc7e",
   "metadata": {},
   "outputs": [],
   "source": []
  },
  {
   "cell_type": "code",
   "execution_count": null,
   "id": "2148ac5f-ba42-495f-8752-969bbfb74c1b",
   "metadata": {},
   "outputs": [],
   "source": []
  },
  {
   "cell_type": "code",
   "execution_count": null,
   "id": "dcf5872f-422c-4f25-8979-e720137c2ed0",
   "metadata": {},
   "outputs": [],
   "source": []
  },
  {
   "cell_type": "code",
   "execution_count": null,
   "id": "6168cd3f-2e61-4442-8540-5aa7104fcae8",
   "metadata": {},
   "outputs": [],
   "source": []
  },
  {
   "cell_type": "code",
   "execution_count": null,
   "id": "582f714d-0d36-4501-b7b3-5d8df09a55f6",
   "metadata": {},
   "outputs": [],
   "source": []
  },
  {
   "cell_type": "code",
   "execution_count": null,
   "id": "e14856e5-63a5-4198-a78d-6435c538973c",
   "metadata": {},
   "outputs": [],
   "source": []
  },
  {
   "cell_type": "code",
   "execution_count": null,
   "id": "f7ec632e-b52b-4a14-931b-3a0c0a8d9968",
   "metadata": {},
   "outputs": [],
   "source": []
  },
  {
   "cell_type": "code",
   "execution_count": null,
   "id": "c54841b3-b2e9-4acd-a58f-1eedf48a47af",
   "metadata": {},
   "outputs": [],
   "source": []
  }
 ],
 "metadata": {
  "kernelspec": {
   "display_name": "Python 3 (ipykernel)",
   "language": "python",
   "name": "python3"
  },
  "language_info": {
   "codemirror_mode": {
    "name": "ipython",
    "version": 3
   },
   "file_extension": ".py",
   "mimetype": "text/x-python",
   "name": "python",
   "nbconvert_exporter": "python",
   "pygments_lexer": "ipython3",
   "version": "3.10.8"
  }
 },
 "nbformat": 4,
 "nbformat_minor": 5
}
