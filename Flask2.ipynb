{
 "cells": [
  {
   "cell_type": "markdown",
   "id": "3082e41f-807a-41b5-b773-b82abd9d84c6",
   "metadata": {},
   "source": [
    "# Assignment Flask 2"
   ]
  },
  {
   "cell_type": "markdown",
   "id": "005ac7fd-acf3-4568-801f-46432fb89b26",
   "metadata": {
    "tags": []
   },
   "source": [
    "Q1. Explain GET and POST methods."
   ]
  },
  {
   "cell_type": "markdown",
   "id": "102d0c4f-4428-429a-b748-54fb7301124e",
   "metadata": {},
   "source": [
    "Get method is used to the information from the server. It also can act as a post method except that its not secure. The parameters posted can be seen in url. Post method is used to post any parameters ad perform its api. It is more secure"
   ]
  },
  {
   "cell_type": "markdown",
   "id": "a04e44d4-040c-42c4-808d-383eff6f862a",
   "metadata": {
    "tags": []
   },
   "source": [
    "Q2. Why is request used in Flask?"
   ]
  },
  {
   "cell_type": "markdown",
   "id": "1b82185f-55fd-492e-ae7d-f94799a26e16",
   "metadata": {},
   "source": [
    "The Request, in Flask, is an object that contains all the data sent from the Client to Server. This data can be recovered using the GET/POST Methods."
   ]
  },
  {
   "cell_type": "markdown",
   "id": "8223f3a1-61c6-4c08-9127-00dc2256bcb1",
   "metadata": {
    "tags": []
   },
   "source": [
    "Q3. Why is redirect() used in Flask?"
   ]
  },
  {
   "cell_type": "markdown",
   "id": "6784958c-94c2-41a7-bd12-16566355a149",
   "metadata": {},
   "source": [
    "Redirection in Flask can be done by returning a redirect response object, created by invoking the redirect() function. The same method is used for redirecting to other routes on the same application and external websites."
   ]
  },
  {
   "cell_type": "markdown",
   "id": "ff566fe6-7bba-473c-839a-9a9d4284bf2b",
   "metadata": {
    "tags": []
   },
   "source": [
    "Q4. What are templates in Flask? Why is the render_template() function used?"
   ]
  },
  {
   "cell_type": "markdown",
   "id": "de565eff-e01c-4a36-880a-9255ca9d7a43",
   "metadata": {},
   "source": [
    "Templates are files that contain static data as well as placeholders for dynamic data. A template is rendered with specific data to produce a final document. Flask uses the Jinja template library to render templates. In your application, you will use templates to render HTML which will display in the user's browser. render_template() is used to render and displaythe html page in the browser for the particular api."
   ]
  },
  {
   "cell_type": "markdown",
   "id": "0cc58ad0-46a3-4a40-8a99-1ec1dff207ea",
   "metadata": {
    "tags": []
   },
   "source": [
    "Q5. Create a simple API. Use Postman to test it. Attach the screenshot of the output in the Jupyter Notebook."
   ]
  },
  {
   "cell_type": "markdown",
   "id": "32ad508a-70a0-4af0-8f07-0a022ce7e44e",
   "metadata": {},
   "source": [
    "API CODE:\n",
    "@app.route(\"/welcome\")\n",
    "def welcome():\n",
    "    s= '''Company Name: ABC Corporation,\\n\\\n",
    "            Location: India\n",
    "            Contact Detail: 999-999-9999'''\n",
    "    return s\n",
    "@app.route(\"/calculate\", methods = ['POST'])\n",
    "def calculate():\n",
    "    op = request.json['op']\n",
    "    if op == 'add':\n",
    "        a = int(request.json['a'])\n",
    "        b = int(request.json['b'])\n",
    "        c = a+b\n",
    "        return str(c)"
   ]
  },
  {
   "cell_type": "code",
   "execution_count": null,
   "id": "7b6530c5-0e78-48e8-87d2-4cb8b4828e06",
   "metadata": {},
   "outputs": [],
   "source": []
  }
 ],
 "metadata": {
  "kernelspec": {
   "display_name": "Python 3 (ipykernel)",
   "language": "python",
   "name": "python3"
  },
  "language_info": {
   "codemirror_mode": {
    "name": "ipython",
    "version": 3
   },
   "file_extension": ".py",
   "mimetype": "text/x-python",
   "name": "python",
   "nbconvert_exporter": "python",
   "pygments_lexer": "ipython3",
   "version": "3.10.8"
  }
 },
 "nbformat": 4,
 "nbformat_minor": 5
}
