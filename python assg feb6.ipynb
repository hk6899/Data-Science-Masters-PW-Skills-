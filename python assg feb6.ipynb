{
 "cells": [
  {
   "cell_type": "markdown",
   "id": "33b8f43b-6fed-4937-b5fb-7266eef2230c",
   "metadata": {},
   "source": [
    "# Assignment feb 6 Python"
   ]
  },
  {
   "cell_type": "markdown",
   "id": "f38e5d31-412a-47ce-bcfb-05269a051600",
   "metadata": {},
   "source": [
    "### Q1. Create a function which will take a list as an argument and return the product of all the numbers after creating a flat list. Use the below-given list as an argument for your function."
   ]
  },
  {
   "cell_type": "code",
   "execution_count": 19,
   "id": "9dec158a-348a-4911-841d-8fa876a63432",
   "metadata": {},
   "outputs": [],
   "source": [
    "def get_product_list(list1):    \n",
    "    mul=1\n",
    "    for i in list1:\n",
    "        if type(i) is int:\n",
    "            mul*=i\n",
    "        elif type(i) is list or type(i) is tuple or type(i) is set:\n",
    "            for j in i:\n",
    "                if type(j) is int:\n",
    "                    mul*=j\n",
    "        elif type(i) is dict:\n",
    "            for j in i:\n",
    "                if type(j) is int:\n",
    "                    mul*=j\n",
    "                if type(i[j]) is int:\n",
    "                    mul*=j\n",
    "                if type(i[j]) is list or type(i[j]) is tuple or type(i[j]) is set:\n",
    "                    for k in i[j]:\n",
    "                        if type(k) is int:\n",
    "                            mul*=k\n",
    "    return mul\n",
    "    \n",
    "    # print(i,type(i))"
   ]
  },
  {
   "cell_type": "code",
   "execution_count": 20,
   "id": "37efd7cd-e920-4adf-b898-3e0d7728f8aa",
   "metadata": {},
   "outputs": [
    {
     "data": {
      "text/plain": [
       "121609171734914278789230624768000"
      ]
     },
     "execution_count": 20,
     "metadata": {},
     "output_type": "execute_result"
    }
   ],
   "source": [
    "get_product_list(list1 = [1,2,3,4, [44,55,66, True], False, (34,56,78,89,34), {1,2,3,3,2,1}, {1:34, \"key2\": [55, 67, 78, 89], 4: (45,\n",
    "22, 61, 34)}, [56, 'data science'], 'Machine Learning'])"
   ]
  },
  {
   "cell_type": "markdown",
   "id": "4deabc39-0bcb-4413-8c14-4c8ef8b12745",
   "metadata": {},
   "source": [
    "### Q2. Write a python program for encrypting a message sent to you by your friend. The logic of encryption should be such that, for a the output should be z. For b, the output should be y. For c, the output should be x respectively. Also, the whitespace should be replaced with a dollar sign. Keep the punctuation marks unchanged."
   ]
  },
  {
   "cell_type": "code",
   "execution_count": 44,
   "id": "0a5fb10a-a54f-4f44-97b4-e39a2bd42b31",
   "metadata": {},
   "outputs": [],
   "source": [
    "s = \"I want to become a Data Scientist\"\n",
    "temp = ''"
   ]
  },
  {
   "cell_type": "code",
   "execution_count": 45,
   "id": "be739f20-c541-4f19-b993-145b156fc7a4",
   "metadata": {},
   "outputs": [],
   "source": [
    "s_low = s.lower()"
   ]
  },
  {
   "cell_type": "code",
   "execution_count": 46,
   "id": "25cd01a5-7b4b-4757-8463-20195c8d8af2",
   "metadata": {},
   "outputs": [],
   "source": [
    "for i in s_low:\n",
    "    if i == \" \":\n",
    "        temp+=\" \"\n",
    "    else:\n",
    "        temp += chr(ord('z') - ord(i) + ord('a'))"
   ]
  },
  {
   "cell_type": "code",
   "execution_count": 47,
   "id": "7e5c6487-d724-4254-b3f7-33c6461f408e",
   "metadata": {},
   "outputs": [
    {
     "data": {
      "text/plain": [
       "'r dzmg gl yvxlnv z wzgz hxrvmgrhg'"
      ]
     },
     "execution_count": 47,
     "metadata": {},
     "output_type": "execute_result"
    }
   ],
   "source": [
    "temp"
   ]
  },
  {
   "cell_type": "code",
   "execution_count": null,
   "id": "ded39aa0-2ce9-48d4-83c0-7bf8a85be35e",
   "metadata": {},
   "outputs": [],
   "source": []
  },
  {
   "cell_type": "code",
   "execution_count": null,
   "id": "5ca37671-6e51-4383-9835-91d18a4c4ade",
   "metadata": {},
   "outputs": [],
   "source": []
  },
  {
   "cell_type": "code",
   "execution_count": null,
   "id": "0f393a2c-e387-46d8-8324-c72062ea8a4c",
   "metadata": {},
   "outputs": [],
   "source": []
  }
 ],
 "metadata": {
  "kernelspec": {
   "display_name": "Python 3 (ipykernel)",
   "language": "python",
   "name": "python3"
  },
  "language_info": {
   "codemirror_mode": {
    "name": "ipython",
    "version": 3
   },
   "file_extension": ".py",
   "mimetype": "text/x-python",
   "name": "python",
   "nbconvert_exporter": "python",
   "pygments_lexer": "ipython3",
   "version": "3.10.8"
  }
 },
 "nbformat": 4,
 "nbformat_minor": 5
}
