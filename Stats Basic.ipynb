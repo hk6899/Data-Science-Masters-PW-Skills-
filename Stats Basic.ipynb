{
 "cells": [
  {
   "cell_type": "markdown",
   "id": "8736e67c-13e3-4fc5-815a-46c58c7ee2c7",
   "metadata": {},
   "source": [
    "# Assignment Statistics Basic\n"
   ]
  },
  {
   "cell_type": "markdown",
   "id": "25851709-37a6-42e9-964c-a1334888ae3e",
   "metadata": {},
   "source": [
    "Q1. What is Statistics?"
   ]
  },
  {
   "cell_type": "markdown",
   "id": "70943e6a-e428-4d74-bd49-015fb8c211c3",
   "metadata": {},
   "source": [
    "1. Statistics is the science of collecting, organizing and analyzing the data. Data is the facts or pieces of information"
   ]
  },
  {
   "cell_type": "markdown",
   "id": "9c288132-7f01-4aa7-9274-89d078b5ef06",
   "metadata": {},
   "source": [
    "Q2. Define the different types of statistics and give an example of when each type might be used."
   ]
  },
  {
   "cell_type": "markdown",
   "id": "6284303e-1654-4ac4-9609-c8acf74fb7ff",
   "metadata": {},
   "source": [
    "2. Descriptive and Inferential Statistics. Descriptive stats is used for organising and summarising the data.Eg : Avg height of students in a class. Inferential Statistics is using with the measured value of smaller population to form conclusion for a larger population. Eg If the avg height of the class is same as the avg height of whole college."
   ]
  },
  {
   "cell_type": "markdown",
   "id": "e51df8e0-3b4a-432b-9bd5-e457638c941b",
   "metadata": {},
   "source": [
    "Q3. What are the different types of data and how do they differ from each other? Provide an example of\n",
    "each type of data."
   ]
  },
  {
   "cell_type": "markdown",
   "id": "ea048e56-05be-421f-9791-7fc28cdee908",
   "metadata": {},
   "source": [
    "3. Quantative : Its of 2 types : Discrete (whole Num). Eg :No of students in class. Continous (Any value). Eg: Speed. Other type of data is QUALITATIVE: Nominal (Catagorical) Eg: Gender, Ordinal (Ranking based) Eg; Good avg bad"
   ]
  },
  {
   "cell_type": "markdown",
   "id": "9aaec3ed-57d7-43ca-a26e-41db248c5bb6",
   "metadata": {},
   "source": [
    "Q4. Categorise the following datasets with respect to quantitative and qualitative data types:\n",
    "(i) Grading in exam: A+, A, B+, B, C+, C, D, E\n",
    "(ii) Colour of mangoes: yellow, green, orange, red\n",
    "(iii) Height data of a class: [178.9, 179, 179.5, 176, 177.2, 178.3, 175.8,...]\n",
    "(iv) Number of mangoes exported by a farm: [500, 600, 478, 672, ...]"
   ]
  },
  {
   "cell_type": "markdown",
   "id": "a127b910-2c27-491c-856e-bea3a4787837",
   "metadata": {},
   "source": [
    "i. Ordinal ii.Nominal iii.Continous iv.Discrete"
   ]
  },
  {
   "cell_type": "markdown",
   "id": "10da05ae-df1d-4a03-8c95-b3882262dce1",
   "metadata": {},
   "source": [
    "Q5. Explain the concept of levels of measurement and give an example of a variable for each level."
   ]
  },
  {
   "cell_type": "markdown",
   "id": "198e7d01-dd31-4aa5-b66e-b26c4b867ccc",
   "metadata": {},
   "source": [
    "5. Levels of measurement is used in data collection phase where we collect different types of data and inorder to measure them we use the level of measurement concept.There are 4 types. Nominal Scale Eg: Colors of shirt bought by 10 people. Ordinal Scale(Ranking and difference b/w them cant be measured). Eg: Degrees from PHd to Bchelors can be ranked but difference cant be measured. Intreval Scale (Rank based, No 0 start value, Difference b/w data can be measured but not ratio). Eg : Temprature (Can be <0, cant find ratio in it). Ratio Scale(Rank based, 0 start val,difference and ratio are measurable) Eg:Grades"
   ]
  },
  {
   "cell_type": "markdown",
   "id": "99a5f79c-265d-405a-8246-1660ac1724c4",
   "metadata": {},
   "source": [
    "Q6. Why is it important to understand the level of measurement when analyzing data? Provide an\n",
    "example to illustrate your answer."
   ]
  },
  {
   "cell_type": "markdown",
   "id": "5eda2f53-87a3-42aa-a2a9-8b0575319d54",
   "metadata": {},
   "source": [
    "It is important because "
   ]
  },
  {
   "cell_type": "markdown",
   "id": "6e1d3eaa-b49a-456e-b885-8f4cf717c93d",
   "metadata": {
    "tags": []
   },
   "source": [
    "Q7. How nominal data type is different from ordinal data type."
   ]
  },
  {
   "cell_type": "markdown",
   "id": "a1537995-46fa-4c18-b057-f8fbccba2998",
   "metadata": {
    "tags": []
   },
   "source": [
    "In Nominal we use just the catagories like colors, gender but in ordinal the catagories are ranking based like good, bad"
   ]
  },
  {
   "cell_type": "markdown",
   "id": "db7532fa-42ed-4ada-a3d9-e3cf73418dbc",
   "metadata": {},
   "source": [
    "Q8. Which type of plot can be used to display data in terms of range?"
   ]
  },
  {
   "cell_type": "markdown",
   "id": "87ea88bd-4166-44ae-b3f4-346139a39ac9",
   "metadata": {
    "tags": []
   },
   "source": [
    "Histogram"
   ]
  },
  {
   "cell_type": "markdown",
   "id": "8fe04e36-11c2-4e3f-8066-5bc4524f785d",
   "metadata": {
    "tags": []
   },
   "source": [
    "Q9. Describe the difference between descriptive and inferential statistics. Give an example of each\n",
    "type of statistics and explain how they are used."
   ]
  },
  {
   "cell_type": "markdown",
   "id": "ecbd8a80-cf71-4419-b19d-c8e63dff5b03",
   "metadata": {},
   "source": [
    " Descriptive stats is used for organising and summarising the data.Eg : Avg height of students in a class while Inferential Statistics is using with the measured value of smaller population to form conclusion for a larger population. Eg If the avg height of the class is same as the avg height of whole college."
   ]
  },
  {
   "cell_type": "markdown",
   "id": "e21481a4-4a2e-4b3f-a4d4-c26fd83d4ec5",
   "metadata": {},
   "source": [
    "Q10. What are some common measures of central tendency and variability used in statistics? Explain\n",
    "how each measure can be used to describe a dataset."
   ]
  },
  {
   "cell_type": "markdown",
   "id": "6ac56144-7420-403b-9626-1b78e0ed7350",
   "metadata": {},
   "source": [
    "Mean, Median and Mode. Mean can be used to find the avg values of a column in a dataset, Median used to find middle value in a sorted dataset.The mode is the value that appears most frequently in a data set. A set of data may have one mode, more than one mode, or no mode at all."
   ]
  },
  {
   "cell_type": "code",
   "execution_count": null,
   "id": "e556fb96-2214-4b4c-903b-52893769da63",
   "metadata": {},
   "outputs": [],
   "source": []
  },
  {
   "cell_type": "code",
   "execution_count": null,
   "id": "25a6e6d0-e71c-4c10-87d2-b6f3b2eeba58",
   "metadata": {},
   "outputs": [],
   "source": []
  },
  {
   "cell_type": "code",
   "execution_count": null,
   "id": "bdadf739-3f1d-4c16-a455-6be158d18758",
   "metadata": {},
   "outputs": [],
   "source": []
  },
  {
   "cell_type": "code",
   "execution_count": null,
   "id": "077219c4-c1f6-452a-8849-319deed342f9",
   "metadata": {},
   "outputs": [],
   "source": []
  },
  {
   "cell_type": "code",
   "execution_count": null,
   "id": "dbc2ffc9-5cd8-4060-81ae-98de022bde52",
   "metadata": {},
   "outputs": [],
   "source": []
  },
  {
   "cell_type": "code",
   "execution_count": null,
   "id": "78ed8928-1a6a-4752-b1d9-3c77fae89c51",
   "metadata": {},
   "outputs": [],
   "source": []
  },
  {
   "cell_type": "code",
   "execution_count": null,
   "id": "5b58d508-d514-492f-a709-0a1d8584217b",
   "metadata": {},
   "outputs": [],
   "source": []
  },
  {
   "cell_type": "code",
   "execution_count": null,
   "id": "ee49583d-d226-44f8-af06-079d1a0cc1af",
   "metadata": {},
   "outputs": [],
   "source": []
  },
  {
   "cell_type": "code",
   "execution_count": null,
   "id": "50b39c28-9fa8-4ddb-b3fb-a3ac2c21d6a4",
   "metadata": {},
   "outputs": [],
   "source": []
  },
  {
   "cell_type": "code",
   "execution_count": null,
   "id": "a82fd169-6039-4331-9bb8-fc0e29dd710c",
   "metadata": {},
   "outputs": [],
   "source": []
  },
  {
   "cell_type": "code",
   "execution_count": null,
   "id": "8941a737-745f-4ad7-b861-8d4da3bc3891",
   "metadata": {},
   "outputs": [],
   "source": []
  },
  {
   "cell_type": "code",
   "execution_count": null,
   "id": "456104bf-f0f0-45ce-81eb-54080eed0dae",
   "metadata": {},
   "outputs": [],
   "source": []
  },
  {
   "cell_type": "code",
   "execution_count": null,
   "id": "c56d7430-f41e-4719-a028-d42982beb974",
   "metadata": {},
   "outputs": [],
   "source": []
  },
  {
   "cell_type": "code",
   "execution_count": null,
   "id": "92b8d081-343c-4fd4-b2a1-1f0a534c9374",
   "metadata": {},
   "outputs": [],
   "source": []
  },
  {
   "cell_type": "code",
   "execution_count": null,
   "id": "5327dfcc-c0a6-42c4-9e01-9d7a8eddde8f",
   "metadata": {},
   "outputs": [],
   "source": []
  },
  {
   "cell_type": "code",
   "execution_count": null,
   "id": "e44af9ec-2273-4ece-9655-610d011d828f",
   "metadata": {},
   "outputs": [],
   "source": []
  },
  {
   "cell_type": "code",
   "execution_count": null,
   "id": "45bbaa6d-6d05-4385-80bf-52d39c074980",
   "metadata": {},
   "outputs": [],
   "source": []
  },
  {
   "cell_type": "code",
   "execution_count": null,
   "id": "47e0ff3a-d635-4b56-a7f2-96c80f0186f9",
   "metadata": {},
   "outputs": [],
   "source": []
  },
  {
   "cell_type": "code",
   "execution_count": null,
   "id": "17ab65be-a8de-4020-a212-3b144c9c5565",
   "metadata": {},
   "outputs": [],
   "source": []
  },
  {
   "cell_type": "code",
   "execution_count": null,
   "id": "c4c231b5-ca9d-4ec6-bd5b-a8068f75cecf",
   "metadata": {},
   "outputs": [],
   "source": []
  },
  {
   "cell_type": "code",
   "execution_count": null,
   "id": "4ad8c97d-5672-48dc-8a61-3c9aa7fdb1df",
   "metadata": {},
   "outputs": [],
   "source": []
  },
  {
   "cell_type": "code",
   "execution_count": null,
   "id": "f8323cb4-5438-427c-a3fc-57f787fd9a6d",
   "metadata": {},
   "outputs": [],
   "source": []
  }
 ],
 "metadata": {
  "kernelspec": {
   "display_name": "Python 3 (ipykernel)",
   "language": "python",
   "name": "python3"
  },
  "language_info": {
   "codemirror_mode": {
    "name": "ipython",
    "version": 3
   },
   "file_extension": ".py",
   "mimetype": "text/x-python",
   "name": "python",
   "nbconvert_exporter": "python",
   "pygments_lexer": "ipython3",
   "version": "3.10.8"
  }
 },
 "nbformat": 4,
 "nbformat_minor": 5
}
