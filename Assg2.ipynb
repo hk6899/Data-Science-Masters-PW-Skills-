{
 "cells": [
  {
   "cell_type": "markdown",
   "id": "23c702df-bd44-4401-b0cc-820841a5c4dd",
   "metadata": {},
   "source": [
    "# Assignment 2 Jan 30"
   ]
  },
  {
   "cell_type": "markdown",
   "id": "bbce3d15-e7e4-48f0-b85b-686194372ea4",
   "metadata": {},
   "source": [
    "### Accept percentage from user and display percentage"
   ]
  },
  {
   "cell_type": "code",
   "execution_count": 1,
   "id": "af06b8cb-d0ef-46d9-ad3e-45159a75e17e",
   "metadata": {},
   "outputs": [
    {
     "name": "stdin",
     "output_type": "stream",
     "text": [
      "Enter the percentage 77\n"
     ]
    },
    {
     "name": "stdout",
     "output_type": "stream",
     "text": [
      "Grade : C\n"
     ]
    }
   ],
   "source": [
    "percent = int(input('Enter the percentage'))\n",
    "if percent>90:\n",
    "    print('Grade : A')\n",
    "elif percent>80 and percent<=90:\n",
    "    print('Grade : B')\n",
    "elif percent>60 and percent<=80:\n",
    "    print('Grade : C')\n",
    "else:\n",
    "    print('Grade : D')"
   ]
  },
  {
   "cell_type": "markdown",
   "id": "d90781d6-bcbe-4892-bf2a-6f2ac715480c",
   "metadata": {},
   "source": [
    "### 2. Tax Calculation"
   ]
  },
  {
   "cell_type": "code",
   "execution_count": 4,
   "id": "aa527434-4d19-46b7-8ae8-c23e0871453c",
   "metadata": {},
   "outputs": [
    {
     "name": "stdin",
     "output_type": "stream",
     "text": [
      "Enter the percentage 77654\n"
     ]
    },
    {
     "name": "stdout",
     "output_type": "stream",
     "text": [
      "Tax : 10%\n"
     ]
    }
   ],
   "source": [
    "cost = int(input('Enter the percentage'))\n",
    "if cost>100000:\n",
    "    print('Tax : 15%')\n",
    "elif cost>50000 and percent<=100000:\n",
    "    print('Tax : 10%')\n",
    "elif cost<50000:\n",
    "    print('Tax : 5%')\n",
    "    "
   ]
  },
  {
   "cell_type": "code",
   "execution_count": null,
   "id": "dceacc20-8ada-496f-be22-f783524e78c5",
   "metadata": {},
   "outputs": [],
   "source": []
  },
  {
   "cell_type": "code",
   "execution_count": 6,
   "id": "12fc5271-614b-4716-bc71-d230292bdfcf",
   "metadata": {},
   "outputs": [
    {
     "name": "stdin",
     "output_type": "stream",
     "text": [
      "Enter the city Delhi\n"
     ]
    },
    {
     "name": "stdout",
     "output_type": "stream",
     "text": [
      "Red Fort\n"
     ]
    }
   ],
   "source": [
    "city = input('Enter the city')\n",
    "if city == 'Delhi':\n",
    "    print('Red Fort')\n",
    "elif city == 'Agra':\n",
    "    print('Taj Mahal')\n",
    "elif city == 'Jaipur':\n",
    "    print('Jai Mahal')"
   ]
  },
  {
   "cell_type": "code",
   "execution_count": null,
   "id": "00ded296-8662-4a51-aa3b-ac3f5f9fa5e1",
   "metadata": {},
   "outputs": [],
   "source": []
  },
  {
   "cell_type": "code",
   "execution_count": 12,
   "id": "d45804e7-d133-4876-a486-c9e82f6aabbf",
   "metadata": {},
   "outputs": [
    {
     "name": "stdin",
     "output_type": "stream",
     "text": [
      "Enter the number 88\n"
     ]
    },
    {
     "name": "stdout",
     "output_type": "stream",
     "text": [
      "The number of times a number can be divided by 3 before it is less than or equal to 10 is 2\n"
     ]
    }
   ],
   "source": [
    "num = int(input('Enter the number'))\n",
    "ctr = 0\n",
    "while(num>10):\n",
    "    num/=3\n",
    "    ctr+=1\n",
    "print(f'The number of times a number can be divided by 3 before it is less than or equal to 10 is {ctr}')"
   ]
  },
  {
   "cell_type": "markdown",
   "id": "e3599ec8-0b13-4f61-9c55-17f14e344064",
   "metadata": {},
   "source": [
    "E"
   ]
  },
  {
   "cell_type": "markdown",
   "id": "d7dadd36-5e61-42b8-8cd5-86d32c286e5f",
   "metadata": {},
   "source": [
    "A While Loop is used to continue the iteration until it satisfies a specific condition. If we have a single variable iteration that has to be done for a specific number of times, a while loop is used.\n",
    "\n",
    "eg :print num of 1 to 10\n",
    "\n"
   ]
  },
  {
   "cell_type": "code",
   "execution_count": 1,
   "id": "88185623-e67f-46a3-968c-6f17b3cb7230",
   "metadata": {},
   "outputs": [
    {
     "name": "stdout",
     "output_type": "stream",
     "text": [
      "1\n",
      "2\n",
      "3\n",
      "4\n",
      "5\n",
      "6\n",
      "7\n",
      "8\n",
      "9\n",
      "10\n"
     ]
    }
   ],
   "source": [
    "i = 1\n",
    "while(i<=10):\n",
    "    print(i)\n",
    "    i+=1"
   ]
  },
  {
   "cell_type": "markdown",
   "id": "3bacdd97-1cd6-4276-afd6-381cac56f903",
   "metadata": {},
   "source": [
    "### Print 3 different Patterns"
   ]
  },
  {
   "cell_type": "code",
   "execution_count": 6,
   "id": "b25391a7-d336-4d3c-8bdf-11be5fc72b48",
   "metadata": {},
   "outputs": [
    {
     "name": "stdout",
     "output_type": "stream",
     "text": [
      "* \n",
      "\n",
      "* * \n",
      "\n",
      "* * * \n",
      "\n",
      "* * * * \n",
      "\n",
      "* * * * * \n",
      "\n"
     ]
    }
   ],
   "source": [
    "for i in range(0,5):\n",
    "    for j in range(0,i+1):\n",
    "        print('*',end=\" \")\n",
    "    print('\\n')"
   ]
  },
  {
   "cell_type": "code",
   "execution_count": 8,
   "id": "673b4c6d-7779-4531-918b-38e0903906c0",
   "metadata": {},
   "outputs": [
    {
     "name": "stdout",
     "output_type": "stream",
     "text": [
      "* * * * * \n",
      "\n",
      "* * * * \n",
      "\n",
      "* * * \n",
      "\n",
      "* * \n",
      "\n",
      "* \n",
      "\n"
     ]
    }
   ],
   "source": [
    "for i in range(5,0,-1):\n",
    "    for j in range(i,0,-1):\n",
    "        print('*',end=\" \")\n",
    "    print('\\n')"
   ]
  },
  {
   "cell_type": "code",
   "execution_count": 8,
   "id": "f31bc8ca-2069-40f6-bd33-54b8ce559811",
   "metadata": {},
   "outputs": [
    {
     "name": "stdin",
     "output_type": "stream",
     "text": [
      "Enter the number 11\n"
     ]
    },
    {
     "name": "stdout",
     "output_type": "stream",
     "text": [
      "     *     \n",
      "\n",
      "    ***    \n",
      "\n",
      "   *****   \n",
      "\n",
      "  *******  \n",
      "\n",
      " ********* \n",
      "\n"
     ]
    }
   ],
   "source": [
    "num = int(input('Enter the number'))\n",
    "div = int(num/2)\n",
    "start = div\n",
    "end = div\n",
    "p=0\n",
    "start_list = [div]\n",
    "end_list = [div]\n",
    "for i in range(0,div):\n",
    "    for j in range(0,num):\n",
    "        if j==div or j in start_list or j in end_list:\n",
    "            print(\"*\",end =\"\")\n",
    "        else:\n",
    "            print(\" \",end=\"\")\n",
    "    start -=1\n",
    "    end+=1\n",
    "    start_list.append(start)\n",
    "    end_list.append(end)\n",
    "    print('\\n')"
   ]
  },
  {
   "cell_type": "markdown",
   "id": "c7512df8-52e5-4e32-bfcb-9f2abecf5f43",
   "metadata": {},
   "source": [
    "## Display 10 to 1 in while loop"
   ]
  },
  {
   "cell_type": "code",
   "execution_count": 9,
   "id": "a8273bb2-ca04-44df-a854-bb23f458d7e0",
   "metadata": {},
   "outputs": [
    {
     "name": "stdout",
     "output_type": "stream",
     "text": [
      "10\n",
      "9\n",
      "8\n",
      "7\n",
      "6\n",
      "5\n",
      "4\n",
      "3\n",
      "2\n",
      "1\n"
     ]
    }
   ],
   "source": [
    "i=10\n",
    "while(i!=0):\n",
    "    print(i)\n",
    "    i-=1"
   ]
  },
  {
   "cell_type": "code",
   "execution_count": null,
   "id": "5d11a813-c288-4002-b45e-cdf4216efb2f",
   "metadata": {},
   "outputs": [],
   "source": []
  },
  {
   "cell_type": "code",
   "execution_count": null,
   "id": "1a2664d9-6f8e-429c-9378-e0ce9deeaa35",
   "metadata": {},
   "outputs": [],
   "source": []
  }
 ],
 "metadata": {
  "kernelspec": {
   "display_name": "Python 3 (ipykernel)",
   "language": "python",
   "name": "python3"
  },
  "language_info": {
   "codemirror_mode": {
    "name": "ipython",
    "version": 3
   },
   "file_extension": ".py",
   "mimetype": "text/x-python",
   "name": "python",
   "nbconvert_exporter": "python",
   "pygments_lexer": "ipython3",
   "version": "3.10.8"
  }
 },
 "nbformat": 4,
 "nbformat_minor": 5
}
