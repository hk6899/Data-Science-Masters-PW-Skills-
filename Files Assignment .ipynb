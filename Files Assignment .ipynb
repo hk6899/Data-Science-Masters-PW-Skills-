{
 "cells": [
  {
   "cell_type": "markdown",
   "id": "01f8ab85-5a3f-4214-bebd-25109be875b8",
   "metadata": {},
   "source": [
    "# Assignment Files Feb 10"
   ]
  },
  {
   "cell_type": "markdown",
   "id": "e36ce7dd-f2bd-45b2-a2de-4ebb779bcfc7",
   "metadata": {},
   "source": [
    "### Q1. Which function is used to open a file? What are the different modes of opening a file? Explain each mode of file opening."
   ]
  },
  {
   "cell_type": "markdown",
   "id": "4b7d477d-9cab-4242-8069-77ea177e51d4",
   "metadata": {},
   "source": [
    "open keyword is used for opening  file.\n",
    "Read Only (‘r’) : Open text file for reading. The handle is positioned at the beginning of the file. If the file does not exists, raises the I/O error. This is also the default mode in which a file is opened.\n",
    "Read and Write (‘r+’): Open the file for reading and writing. The handle is positioned at the beginning of the file. Raises I/O error if the file does not exist.\n",
    "Write Only (‘w’) : Open the file for writing. For the existing files, the data is truncated and over-written. The handle is positioned at the beginning of the file. Creates the file if the file does not exist.\n",
    "Write and Read (‘w+’) : Open the file for reading and writing. For an existing file, data is truncated and over-written. The handle is positioned at the beginning of the file.\n",
    "Append Only (‘a’): Open the file for writing. The file is created if it does not exist. The handle is positioned at the end of the file. The data being written will be inserted at the end, after the existing data.\n",
    "Append and Read (‘a+’) : Open the file for reading and writing. The file is created if it does not exist. The handle is positioned at the end of the file. The data being written will be inserted at the end, after the existing data.\n"
   ]
  },
  {
   "cell_type": "markdown",
   "id": "70d355c6-47c7-43dd-8efb-6236c1c9e279",
   "metadata": {},
   "source": [
    "### Q2. Why close() function is used? Why is it important to close a file?"
   ]
  },
  {
   "cell_type": "markdown",
   "id": "fcdee983-1d4c-4112-a35c-94d85ded4b44",
   "metadata": {},
   "source": [
    "close function is used to close the file after read and write operations. It is important to close thefile because if it is not closed, the changes made will not be reflected."
   ]
  },
  {
   "cell_type": "markdown",
   "id": "4362938a-8c31-48fa-af96-99a5ee4ef1d7",
   "metadata": {},
   "source": [
    "### Q3. Write a python program to create a text file. Write ‘I want to become a Data Scientist’ in that file. Then close the file. Open this file and read the content of the file."
   ]
  },
  {
   "cell_type": "code",
   "execution_count": 11,
   "id": "4da7e0bb-524e-437c-9705-1efea1cb8873",
   "metadata": {},
   "outputs": [],
   "source": [
    "f = open ('test.txt','w' )"
   ]
  },
  {
   "cell_type": "code",
   "execution_count": 12,
   "id": "66e6ab29-9774-4e71-82ac-01b3d3fa9070",
   "metadata": {},
   "outputs": [],
   "source": [
    "f.write('I want to become a data scientist')\n",
    "f.close()"
   ]
  },
  {
   "cell_type": "code",
   "execution_count": 13,
   "id": "8cf66b28-e684-44cc-a238-5f8588383a10",
   "metadata": {},
   "outputs": [],
   "source": [
    "with open('test.txt','r') as f:\n",
    "    data = f.read()"
   ]
  },
  {
   "cell_type": "code",
   "execution_count": 14,
   "id": "3730a938-e507-47eb-b48c-54aea8fc8f82",
   "metadata": {},
   "outputs": [
    {
     "data": {
      "text/plain": [
       "'I want to become a data scientist'"
      ]
     },
     "execution_count": 14,
     "metadata": {},
     "output_type": "execute_result"
    }
   ],
   "source": [
    "data"
   ]
  },
  {
   "cell_type": "markdown",
   "id": "ca1f36f2-595b-4909-aecc-4c9c15afa053",
   "metadata": {},
   "source": [
    "### Q4. Explain the following with python code: read(), readline() and readlines()."
   ]
  },
  {
   "cell_type": "markdown",
   "id": "8551f610-55d2-48a8-9e41-512292c7f753",
   "metadata": {},
   "source": [
    "read() is used to return specified bytes from the file. readline() returns one line from the file. readline() returns all the lines from the file."
   ]
  },
  {
   "cell_type": "code",
   "execution_count": 20,
   "id": "98de60e7-1a6e-4895-9528-18105e980861",
   "metadata": {},
   "outputs": [],
   "source": [
    "with open('test1.txt','w') as w:\n",
    "    w.write('I want to become AI engineer\\n')\n",
    "    w.write('I want to get certifications')\n"
   ]
  },
  {
   "cell_type": "code",
   "execution_count": 27,
   "id": "21efd013-e622-45f6-a41b-0ba25de6b978",
   "metadata": {},
   "outputs": [
    {
     "data": {
      "text/plain": [
       "['I want to become AI engineer\\n', 'I want to get certifications']"
      ]
     },
     "execution_count": 27,
     "metadata": {},
     "output_type": "execute_result"
    }
   ],
   "source": [
    "f = open('test1.txt','r')\n",
    "f.readlines()\n",
    "f.close()"
   ]
  },
  {
   "cell_type": "code",
   "execution_count": 31,
   "id": "58c31665-e5b4-4923-80ba-11b07575f38d",
   "metadata": {},
   "outputs": [
    {
     "data": {
      "text/plain": [
       "'I want to become AI engineer\\n'"
      ]
     },
     "execution_count": 31,
     "metadata": {},
     "output_type": "execute_result"
    }
   ],
   "source": [
    "f = open('test1.txt','r')\n",
    "f.readline()"
   ]
  },
  {
   "cell_type": "code",
   "execution_count": 32,
   "id": "e8c176bc-bd84-437b-97a1-90184973cdef",
   "metadata": {},
   "outputs": [
    {
     "data": {
      "text/plain": [
       "'I want '"
      ]
     },
     "execution_count": 32,
     "metadata": {},
     "output_type": "execute_result"
    }
   ],
   "source": [
    "f = open('test1.txt','r')\n",
    "f.read(7)"
   ]
  },
  {
   "cell_type": "markdown",
   "id": "2f15ff31-c228-476b-a73e-40e86dfdfe54",
   "metadata": {},
   "source": [
    "### Q5. Explain why with statement is used with open(). What is the advantage of using with statement and open() together?"
   ]
  },
  {
   "cell_type": "markdown",
   "id": "ca08763a-2e80-4313-b5a2-072727e79bdc",
   "metadata": {},
   "source": [
    "with keyword is used to open a file and we can use it for read and write operation in any file. The advantage is that using with we do not want to close the file as it automatically closes the file."
   ]
  },
  {
   "cell_type": "markdown",
   "id": "f1c66ed4-21b8-43db-8ccc-cbba93781fab",
   "metadata": {},
   "source": [
    "### Q6. Explain the write() and writelines() functions. Give a suitable example."
   ]
  },
  {
   "cell_type": "markdown",
   "id": "1b78d355-3aba-4447-b9ab-90db92edf486",
   "metadata": {},
   "source": [
    "write is used to write a string in an opened file where as writelines is used to write a list of string to an opened file."
   ]
  },
  {
   "cell_type": "code",
   "execution_count": 1,
   "id": "6f6a69c1-7027-4b59-a649-f8c514489aef",
   "metadata": {},
   "outputs": [],
   "source": [
    "lines = ['line1', 'line2']\n",
    "with open('demo.txt', 'w') as f:\n",
    "    f.write('\\n'.join(lines))"
   ]
  },
  {
   "cell_type": "code",
   "execution_count": 2,
   "id": "bb2dc139-a4bd-4a93-ae80-7f873a194172",
   "metadata": {},
   "outputs": [],
   "source": [
    "lines = ['line1', 'line2']\n",
    "with open('filename.txt', 'w') as f:\n",
    "    f.write('\\n'.join(lines))"
   ]
  },
  {
   "cell_type": "code",
   "execution_count": null,
   "id": "b0b5679f-8cb6-4d1c-9a3f-ab42c41a0ec9",
   "metadata": {},
   "outputs": [],
   "source": []
  }
 ],
 "metadata": {
  "kernelspec": {
   "display_name": "Python 3 (ipykernel)",
   "language": "python",
   "name": "python3"
  },
  "language_info": {
   "codemirror_mode": {
    "name": "ipython",
    "version": 3
   },
   "file_extension": ".py",
   "mimetype": "text/x-python",
   "name": "python",
   "nbconvert_exporter": "python",
   "pygments_lexer": "ipython3",
   "version": "3.10.8"
  }
 },
 "nbformat": 4,
 "nbformat_minor": 5
}
