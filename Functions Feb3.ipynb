{
 "cells": [
  {
   "cell_type": "markdown",
   "id": "21e1adb6-e34d-4ec0-91f0-2fe72cd05bbf",
   "metadata": {},
   "source": [
    "# Assignment Feb 3 Functions"
   ]
  },
  {
   "cell_type": "markdown",
   "id": "d7c52b13-e620-44b2-99dc-70a277c1d68d",
   "metadata": {},
   "source": [
    "### Q1. Which keyword is used to create a function? Create a function to return a list of odd numbers in the range of 1 to 25."
   ]
  },
  {
   "cell_type": "markdown",
   "id": "d1b9c68f-b040-41a7-9a47-bf5dc3e19e51",
   "metadata": {},
   "source": [
    "def keyword is used to create a function"
   ]
  },
  {
   "cell_type": "code",
   "execution_count": 5,
   "id": "4aeece6c-2f30-4e40-841f-c4e513c52a65",
   "metadata": {},
   "outputs": [],
   "source": [
    "def odd_numbers():\n",
    "    l=[]\n",
    "    for i in range(26):\n",
    "        if i%2!=0:\n",
    "            l.append(i)\n",
    "    return l"
   ]
  },
  {
   "cell_type": "code",
   "execution_count": 6,
   "id": "f714f0c8-0238-4c0a-aa04-9807834e2e38",
   "metadata": {},
   "outputs": [
    {
     "data": {
      "text/plain": [
       "[1, 3, 5, 7, 9, 11, 13, 15, 17, 19, 21, 23, 25]"
      ]
     },
     "execution_count": 6,
     "metadata": {},
     "output_type": "execute_result"
    }
   ],
   "source": [
    "odd_numbers()"
   ]
  },
  {
   "cell_type": "markdown",
   "id": "9e81c30f-eebb-414f-a386-f94a919e9457",
   "metadata": {},
   "source": [
    "### Q2. Why *args and **kwargs is used in some functions? Create a function each for *args and **kwargs to demonstrate their use."
   ]
  },
  {
   "cell_type": "markdown",
   "id": "3b68e962-2ab2-481e-bb5b-5ef4ff570103",
   "metadata": {},
   "source": [
    "*args means that the function can accept any number of arguments and **kwargs means it can accept anu number of parameters as key value arguments"
   ]
  },
  {
   "cell_type": "code",
   "execution_count": 5,
   "id": "89491376-ffae-4380-a871-2f9791f0023a",
   "metadata": {},
   "outputs": [],
   "source": [
    "def test_args(*args):\n",
    "    sum = 0\n",
    "    for i in args:\n",
    "        sum+=i\n",
    "    return sum\n",
    "\n",
    "def test_kwargs(**kwargs):\n",
    "    mul = 1\n",
    "    for i in kwargs.keys():\n",
    "        mul*=kwargs[i]\n",
    "    return mul"
   ]
  },
  {
   "cell_type": "code",
   "execution_count": 2,
   "id": "80cac6b1-a62c-4a83-a401-f542ab75ffb9",
   "metadata": {},
   "outputs": [
    {
     "data": {
      "text/plain": [
       "33"
      ]
     },
     "execution_count": 2,
     "metadata": {},
     "output_type": "execute_result"
    }
   ],
   "source": [
    "test_args(1,2,4,5,6,7,8)"
   ]
  },
  {
   "cell_type": "code",
   "execution_count": 6,
   "id": "77417a87-aba4-47f8-82c8-12f2ab35338f",
   "metadata": {},
   "outputs": [
    {
     "data": {
      "text/plain": [
       "45"
      ]
     },
     "execution_count": 6,
     "metadata": {},
     "output_type": "execute_result"
    }
   ],
   "source": [
    "test_kwargs(a=1,b=5,m=9)"
   ]
  },
  {
   "cell_type": "markdown",
   "id": "cde85ca8-4d7c-4faf-ab43-7bedb2cc27ab",
   "metadata": {
    "tags": []
   },
   "source": [
    "### Q3. What is an iterator in python? Name the method used to initialise the iterator object and the method used for iteration. Use these methods to print the first five elements of the given list [2, 4, 6, 8, 10, 12, 14, 16, 18, 20]."
   ]
  },
  {
   "cell_type": "markdown",
   "id": "d8ae7535-dffd-4a6b-99cf-a5908abea602",
   "metadata": {},
   "source": [
    "An iterator is an object that contains a countable number of values. An iterator is an object that can be iterated upon, meaning that you can traverse through all the values. __iter()__ and __next()__ are the methods used in iterators.We can also use loops for iterators as well"
   ]
  },
  {
   "cell_type": "code",
   "execution_count": 8,
   "id": "47421ae9-567d-4633-bfbe-fbfb6d123246",
   "metadata": {},
   "outputs": [
    {
     "name": "stdout",
     "output_type": "stream",
     "text": [
      "2\n",
      "4\n",
      "6\n",
      "8\n",
      "10\n"
     ]
    }
   ],
   "source": [
    "l = [2, 4, 6, 8, 10, 12, 14, 16, 18, 20]\n",
    "il = iter(l)\n",
    "print(next(il))\n",
    "print(next(il))\n",
    "print(next(il))\n",
    "print(next(il))\n",
    "print(next(il))"
   ]
  },
  {
   "cell_type": "code",
   "execution_count": 10,
   "id": "03ae8c88-d695-43c4-92ab-7b36482c8bcc",
   "metadata": {},
   "outputs": [
    {
     "name": "stdout",
     "output_type": "stream",
     "text": [
      "2\n",
      "4\n",
      "6\n",
      "8\n",
      "10\n"
     ]
    }
   ],
   "source": [
    "for i in range(0,5):\n",
    "    print(l[i])"
   ]
  },
  {
   "cell_type": "markdown",
   "id": "f39a3a79-e922-4687-8eb6-15d50be74188",
   "metadata": {},
   "source": [
    "### Q4. What is a generator function in python? Why yield keyword is used? Give an example of a generator function."
   ]
  },
  {
   "cell_type": "markdown",
   "id": "8a4339e5-2147-45ea-8741-aaabec6f3758",
   "metadata": {},
   "source": [
    "A generator is used when we do not want to store a large series of data into memory and instead fetch those data during run time. This makes code faster and memory efficient. yield is the keyword used in generator fuction to return the data. The yield keyword will turn any expression that is given with it into a generator object and return it to the caller."
   ]
  },
  {
   "cell_type": "code",
   "execution_count": 11,
   "id": "8543ecc9-7ffd-4932-9b3e-82e74fd44026",
   "metadata": {},
   "outputs": [],
   "source": [
    "def fib(n):\n",
    "    a,b =0,1\n",
    "    for i in range(n):\n",
    "        yield a\n",
    "        a,b = b,b+a\n",
    "       "
   ]
  },
  {
   "cell_type": "code",
   "execution_count": 12,
   "id": "9079543d-e6de-4012-bac3-9e92c2446c2b",
   "metadata": {},
   "outputs": [
    {
     "name": "stdout",
     "output_type": "stream",
     "text": [
      "0\n",
      "1\n",
      "1\n",
      "2\n",
      "3\n"
     ]
    }
   ],
   "source": [
    "for i in fib(5):\n",
    "    print(i)"
   ]
  },
  {
   "cell_type": "markdown",
   "id": "41f944ea-2f24-44d7-b0b5-344990f73995",
   "metadata": {},
   "source": [
    "### Q5. Create a generator function for prime numbers less than 1000. Use the next() method to print the first 20 prime numbers."
   ]
  },
  {
   "cell_type": "code",
   "execution_count": 35,
   "id": "3ed02bd1-21ab-4e07-836e-59998549ed45",
   "metadata": {},
   "outputs": [],
   "source": [
    "def prime(n):\n",
    "    for i in range(0,n+1):\n",
    "        if i==1 or i==2 or i ==3:\n",
    "            yield i\n",
    "        else:\n",
    "            for j in range(2,i):\n",
    "                if i%j==0:\n",
    "                    break\n",
    "                if j == i-1:\n",
    "                    yield i\n",
    "                    \n",
    "    "
   ]
  },
  {
   "cell_type": "code",
   "execution_count": 36,
   "id": "e3cb2e09-cb78-4aca-87b4-fff205f64042",
   "metadata": {},
   "outputs": [
    {
     "name": "stdout",
     "output_type": "stream",
     "text": [
      "1\n",
      "2\n",
      "3\n",
      "5\n",
      "7\n",
      "11\n",
      "13\n",
      "17\n",
      "19\n",
      "23\n",
      "29\n",
      "31\n",
      "37\n",
      "41\n",
      "43\n",
      "47\n",
      "53\n",
      "59\n",
      "61\n",
      "67\n",
      "71\n",
      "73\n",
      "79\n",
      "83\n",
      "89\n",
      "97\n",
      "101\n",
      "103\n",
      "107\n",
      "109\n",
      "113\n",
      "127\n",
      "131\n",
      "137\n",
      "139\n",
      "149\n",
      "151\n",
      "157\n",
      "163\n",
      "167\n",
      "173\n",
      "179\n",
      "181\n",
      "191\n",
      "193\n",
      "197\n",
      "199\n",
      "211\n",
      "223\n",
      "227\n",
      "229\n",
      "233\n",
      "239\n",
      "241\n",
      "251\n",
      "257\n",
      "263\n",
      "269\n",
      "271\n",
      "277\n",
      "281\n",
      "283\n",
      "293\n",
      "307\n",
      "311\n",
      "313\n",
      "317\n",
      "331\n",
      "337\n",
      "347\n",
      "349\n",
      "353\n",
      "359\n",
      "367\n",
      "373\n",
      "379\n",
      "383\n",
      "389\n",
      "397\n",
      "401\n",
      "409\n",
      "419\n",
      "421\n",
      "431\n",
      "433\n",
      "439\n",
      "443\n",
      "449\n",
      "457\n",
      "461\n",
      "463\n",
      "467\n",
      "479\n",
      "487\n",
      "491\n",
      "499\n",
      "503\n",
      "509\n",
      "521\n",
      "523\n",
      "541\n",
      "547\n",
      "557\n",
      "563\n",
      "569\n",
      "571\n",
      "577\n",
      "587\n",
      "593\n",
      "599\n",
      "601\n",
      "607\n",
      "613\n",
      "617\n",
      "619\n",
      "631\n",
      "641\n",
      "643\n",
      "647\n",
      "653\n",
      "659\n",
      "661\n",
      "673\n",
      "677\n",
      "683\n",
      "691\n",
      "701\n",
      "709\n",
      "719\n",
      "727\n",
      "733\n",
      "739\n",
      "743\n",
      "751\n",
      "757\n",
      "761\n",
      "769\n",
      "773\n",
      "787\n",
      "797\n",
      "809\n",
      "811\n",
      "821\n",
      "823\n",
      "827\n",
      "829\n",
      "839\n",
      "853\n",
      "857\n",
      "859\n",
      "863\n",
      "877\n",
      "881\n",
      "883\n",
      "887\n",
      "907\n",
      "911\n",
      "919\n",
      "929\n",
      "937\n",
      "941\n",
      "947\n",
      "953\n",
      "967\n",
      "971\n",
      "977\n",
      "983\n",
      "991\n",
      "997\n"
     ]
    }
   ],
   "source": [
    "for i in prime(1000):\n",
    "    print(i)"
   ]
  },
  {
   "cell_type": "code",
   "execution_count": null,
   "id": "7a136f8d-e71f-447e-b533-6f7f125254d4",
   "metadata": {},
   "outputs": [],
   "source": []
  }
 ],
 "metadata": {
  "kernelspec": {
   "display_name": "Python 3 (ipykernel)",
   "language": "python",
   "name": "python3"
  },
  "language_info": {
   "codemirror_mode": {
    "name": "ipython",
    "version": 3
   },
   "file_extension": ".py",
   "mimetype": "text/x-python",
   "name": "python",
   "nbconvert_exporter": "python",
   "pygments_lexer": "ipython3",
   "version": "3.10.8"
  }
 },
 "nbformat": 4,
 "nbformat_minor": 5
}
