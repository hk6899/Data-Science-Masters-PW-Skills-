{
 "cells": [
  {
   "cell_type": "markdown",
   "id": "3dc59730-e5f3-4611-a476-87f16799fc88",
   "metadata": {},
   "source": [
    "# OOPS Task Feb 9"
   ]
  },
  {
   "cell_type": "markdown",
   "id": "cb63732e-ee78-4814-8f9c-7db193512b52",
   "metadata": {},
   "source": [
    "### Q1, Create a vehicle class with an init method having instance variables as name_of_vehicle, max_speed and average_of_vehicle."
   ]
  },
  {
   "cell_type": "code",
   "execution_count": 2,
   "id": "3568949b-64b8-4e9f-adf3-867652c3c5f8",
   "metadata": {},
   "outputs": [],
   "source": [
    "class Vehicle:\n",
    "    def __init__(self,name_of_vehicle,max_speed,average_of_vehicle):\n",
    "        self.name_of_vehicle = name_of_vehicle\n",
    "        self.max_speed = max_speed\n",
    "        self.average_of_vehicle = average_of_vehicle\n",
    "    \n",
    "    def display_vehicle_properties(self, name_of_vehicle,max_speed,average_of_vehicle):\n",
    "        print(self.name_of_vehicle,self.max_speed,self.average_of_vehicle)\n",
    "    "
   ]
  },
  {
   "cell_type": "markdown",
   "id": "8b179aaf-0b9e-4981-ad23-6dd187c5bd68",
   "metadata": {},
   "source": [
    "### Q2. Create a child class car from the vehicle class created in Que 1, which will inherit the vehicle class. Create a method named seating_capacity which takes capacity as an argument and returns the name of the vehicle and its seating capacity."
   ]
  },
  {
   "cell_type": "code",
   "execution_count": 15,
   "id": "62f6c791-712d-4a32-bf34-59ce63486cc1",
   "metadata": {},
   "outputs": [],
   "source": [
    "class Car(Vehicle):\n",
    "    def seating_capacity(self, capacity):\n",
    "        return self.name_of_vehicle, capacity"
   ]
  },
  {
   "cell_type": "code",
   "execution_count": 16,
   "id": "8a03e0ae-4c99-4263-8941-c0a06937b27d",
   "metadata": {},
   "outputs": [],
   "source": [
    "a = Car(\"Baleno\",\"100\",12)"
   ]
  },
  {
   "cell_type": "code",
   "execution_count": 17,
   "id": "b5f28e57-19ab-470a-b106-0aa7455abf11",
   "metadata": {},
   "outputs": [
    {
     "data": {
      "text/plain": [
       "('Baleno', 5)"
      ]
     },
     "execution_count": 17,
     "metadata": {},
     "output_type": "execute_result"
    }
   ],
   "source": [
    "a.seating_capacity(5)"
   ]
  },
  {
   "cell_type": "markdown",
   "id": "fd6ada30-41b1-40cb-a7b2-b69811f410f3",
   "metadata": {},
   "source": [
    "### Q3. What is multiple inheritance? Write a python code to demonstrate multiple inheritance."
   ]
  },
  {
   "cell_type": "markdown",
   "id": "24f61ad9-0dba-4db4-a617-d8a06c6d4855",
   "metadata": {},
   "source": [
    "Multiple inheritance is when child class is inheriting from more than one parent class"
   ]
  },
  {
   "cell_type": "code",
   "execution_count": 8,
   "id": "ddd12ee6-7b0a-4ba8-9508-9c56b4effdc8",
   "metadata": {},
   "outputs": [],
   "source": [
    "class Parent:\n",
    "    def func(self):\n",
    "        print('parent class 1')\n",
    "class Parent2:\n",
    "    def func2(self):\n",
    "        print(\"parent class 2\")\n",
    "        \n",
    "class child(Parent,Parent2):\n",
    "    def fun3(self):\n",
    "        print(\"child class\")"
   ]
  },
  {
   "cell_type": "code",
   "execution_count": 9,
   "id": "f1ce015c-ac8e-49d4-9202-bd2686109838",
   "metadata": {},
   "outputs": [],
   "source": [
    "c = child()"
   ]
  },
  {
   "cell_type": "code",
   "execution_count": 10,
   "id": "1ac4a4cd-d609-481f-a94f-945a782b285d",
   "metadata": {},
   "outputs": [
    {
     "name": "stdout",
     "output_type": "stream",
     "text": [
      "parent class 1\n"
     ]
    }
   ],
   "source": [
    "c.func()"
   ]
  },
  {
   "cell_type": "code",
   "execution_count": 11,
   "id": "d4b8cf86-dc78-48af-a6b7-4501a941194e",
   "metadata": {},
   "outputs": [
    {
     "name": "stdout",
     "output_type": "stream",
     "text": [
      "parent class 2\n"
     ]
    }
   ],
   "source": [
    "c.func2()"
   ]
  },
  {
   "cell_type": "code",
   "execution_count": 12,
   "id": "5ea1a538-e1b4-4dc6-acad-bd2901eec850",
   "metadata": {},
   "outputs": [
    {
     "name": "stdout",
     "output_type": "stream",
     "text": [
      "child class\n"
     ]
    }
   ],
   "source": [
    "c.fun3()"
   ]
  },
  {
   "cell_type": "markdown",
   "id": "762fcafa-2c3a-41cb-9697-01b303796d9f",
   "metadata": {},
   "source": [
    "### Q4. What are getter and setter in python? Create a class and create a getter and a setter method in this class."
   ]
  },
  {
   "cell_type": "markdown",
   "id": "ea3702d6-c371-4292-9f1e-af7be3a4e6cd",
   "metadata": {},
   "source": [
    "Getter and setter are used to get and initialise the values of a private and protected class variable."
   ]
  },
  {
   "cell_type": "code",
   "execution_count": 36,
   "id": "6e6a09da-23fa-4e1f-92d9-b6859b271145",
   "metadata": {},
   "outputs": [],
   "source": [
    "class Mobile:\n",
    "    def __init__(self,model,cam,cost):\n",
    "        self.model = model\n",
    "        self.__cam = cam\n",
    "        self.__cost = cost\n",
    "        \n",
    "    @property \n",
    "    def return_cam_specs(self):\n",
    "        return self.__cam\n",
    "    \n",
    "    @return_cam_specs.setter\n",
    "    def cam_spec_set(self, cam):\n",
    "        self.__cam = cam\n",
    "        \n",
    "    "
   ]
  },
  {
   "cell_type": "code",
   "execution_count": 37,
   "id": "ded51415-be2f-48a3-8d2f-b0ff4d4732da",
   "metadata": {},
   "outputs": [],
   "source": [
    "m=Mobile(\"iphone12\",\"12MP\",50000)"
   ]
  },
  {
   "cell_type": "code",
   "execution_count": 38,
   "id": "0fc587be-19de-4b51-92b9-fb0e58e2619b",
   "metadata": {},
   "outputs": [
    {
     "data": {
      "text/plain": [
       "'12MP'"
      ]
     },
     "execution_count": 38,
     "metadata": {},
     "output_type": "execute_result"
    }
   ],
   "source": [
    "m.return_cam_specs"
   ]
  },
  {
   "cell_type": "code",
   "execution_count": 40,
   "id": "4f1c97b4-f439-4284-84bf-b0688a6e6352",
   "metadata": {},
   "outputs": [],
   "source": [
    "m.cam_spec_set = \"14 MP\""
   ]
  },
  {
   "cell_type": "code",
   "execution_count": 42,
   "id": "8c41689a-7474-42db-8f5d-7db9e47b3154",
   "metadata": {},
   "outputs": [
    {
     "data": {
      "text/plain": [
       "'14 MP'"
      ]
     },
     "execution_count": 42,
     "metadata": {},
     "output_type": "execute_result"
    }
   ],
   "source": [
    "m._Mobile__cam"
   ]
  },
  {
   "cell_type": "code",
   "execution_count": 43,
   "id": "1031beb4-e57e-45cc-a8ef-353ccd82925a",
   "metadata": {},
   "outputs": [
    {
     "data": {
      "text/plain": [
       "'14 MP'"
      ]
     },
     "execution_count": 43,
     "metadata": {},
     "output_type": "execute_result"
    }
   ],
   "source": [
    "m.return_cam_specs"
   ]
  },
  {
   "cell_type": "markdown",
   "id": "b7512acc-90f8-4809-b244-899090dd65b3",
   "metadata": {},
   "source": [
    "### Q5.What is method overriding in python? Write a python code to demonstrate method overriding."
   ]
  },
  {
   "cell_type": "markdown",
   "id": "1cc95f31-ae2e-469f-bc52-0a0b71e48b80",
   "metadata": {},
   "source": [
    "When the method name and parameters are the same in the parent and the child class, it's called overriding."
   ]
  },
  {
   "cell_type": "code",
   "execution_count": 44,
   "id": "53e126d6-d7ea-4cf5-96aa-b2c8752c01bd",
   "metadata": {},
   "outputs": [],
   "source": [
    "class A:\n",
    "    def fun1(self):\n",
    "        print('feature_1 of class A')\n",
    "         \n",
    "    def fun2(self):\n",
    "        print('feature_2 of class A')\n",
    "     \n",
    "class B(A):\n",
    "    def fun1(self):\n",
    "        print('Modified feature_1 of class A by class B')   \n",
    "\n",
    "    def fun3(self):\n",
    "        print('feature_3 of class B')"
   ]
  },
  {
   "cell_type": "code",
   "execution_count": 45,
   "id": "d551d3d0-8545-409c-8a7a-86e944dbd3ae",
   "metadata": {},
   "outputs": [],
   "source": [
    "b = B()"
   ]
  },
  {
   "cell_type": "code",
   "execution_count": 47,
   "id": "e7a830b0-d63a-4b6c-80c1-0752c8cf22d8",
   "metadata": {},
   "outputs": [
    {
     "name": "stdout",
     "output_type": "stream",
     "text": [
      "Modified feature_1 of class A by class B\n"
     ]
    }
   ],
   "source": [
    "b.fun1()"
   ]
  },
  {
   "cell_type": "code",
   "execution_count": 48,
   "id": "c9c95c93-1ae3-4fba-bdd7-21cce688f66a",
   "metadata": {},
   "outputs": [
    {
     "name": "stdout",
     "output_type": "stream",
     "text": [
      "feature_2 of class A\n"
     ]
    }
   ],
   "source": [
    "b.fun2()"
   ]
  },
  {
   "cell_type": "code",
   "execution_count": null,
   "id": "718601af-5f03-4e68-a56a-ebb5cbac82fc",
   "metadata": {},
   "outputs": [],
   "source": []
  }
 ],
 "metadata": {
  "kernelspec": {
   "display_name": "Python 3 (ipykernel)",
   "language": "python",
   "name": "python3"
  },
  "language_info": {
   "codemirror_mode": {
    "name": "ipython",
    "version": 3
   },
   "file_extension": ".py",
   "mimetype": "text/x-python",
   "name": "python",
   "nbconvert_exporter": "python",
   "pygments_lexer": "ipython3",
   "version": "3.10.8"
  }
 },
 "nbformat": 4,
 "nbformat_minor": 5
}
