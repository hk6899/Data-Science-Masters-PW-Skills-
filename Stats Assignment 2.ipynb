{
 "cells": [
  {
   "cell_type": "markdown",
   "id": "60ed9ea1-5a9e-4c0c-ab4f-c58876ccb364",
   "metadata": {},
   "source": [
    "# Statistics Assignment 2"
   ]
  },
  {
   "cell_type": "markdown",
   "id": "58f00057-b59b-4947-821a-140f7a9d7064",
   "metadata": {},
   "source": [
    "Q1. What are the three measures of central tendency?"
   ]
  },
  {
   "cell_type": "markdown",
   "id": "7a8d35bc-6049-4f09-a638-1bb35f28e779",
   "metadata": {},
   "source": [
    "Mean, Median and Mode"
   ]
  },
  {
   "cell_type": "markdown",
   "id": "ff097f62-52f9-470e-bb07-dee0dd4f791c",
   "metadata": {},
   "source": [
    "Q2. What is the difference between the mean, median, and mode? How are they used to measure the\n",
    "central tendency of a dataset?"
   ]
  },
  {
   "cell_type": "markdown",
   "id": "5156010c-5247-49ce-aed3-43ac48f37ebe",
   "metadata": {},
   "source": [
    "Mean can be used to find the avg values of a column in a dataset, Median used to find middle value in a sorted dataset.The mode is the value that appears most frequently in a data set. A set of data may have one mode, more than one mode, or no mode at all.If the data is sorted with no outliers in  symmetrical distribution, then mean median and mode will be equal."
   ]
  },
  {
   "cell_type": "markdown",
   "id": "e036548d-7d49-4490-8ccf-d43057f98543",
   "metadata": {},
   "source": [
    "Q3. Measure the three measures of central tendency for the given height data:"
   ]
  },
  {
   "cell_type": "code",
   "execution_count": 1,
   "id": "bf0872e1-5df0-45ae-be3a-a3a6f795448e",
   "metadata": {},
   "outputs": [],
   "source": [
    "import numpy as np\n",
    "a = [178,177,176,177,178.2,178,175,179,180,175,178.9,176.2,177,172.5,178,176.5]"
   ]
  },
  {
   "cell_type": "code",
   "execution_count": 9,
   "id": "3f39133c-7944-4704-bfd6-86554398f1ee",
   "metadata": {},
   "outputs": [
    {
     "data": {
      "text/plain": [
       "array([178. , 177. , 176. , 177. , 178.2, 178. , 175. , 179. , 180. ,\n",
       "       175. , 178.9, 176.2, 177. , 172.5, 178. , 176.5])"
      ]
     },
     "execution_count": 9,
     "metadata": {},
     "output_type": "execute_result"
    }
   ],
   "source": [
    "arr=np.array(a)\n",
    "arr.mean()\n",
    "arr"
   ]
  },
  {
   "cell_type": "code",
   "execution_count": 10,
   "id": "b1fbe2e7-b6e2-4a7a-9109-3dbfe10d6000",
   "metadata": {},
   "outputs": [
    {
     "data": {
      "text/plain": [
       "177.0"
      ]
     },
     "execution_count": 10,
     "metadata": {},
     "output_type": "execute_result"
    }
   ],
   "source": [
    "np.median(a)"
   ]
  },
  {
   "cell_type": "code",
   "execution_count": 13,
   "id": "8644771d-d5d6-478b-94f5-cdf33427df51",
   "metadata": {},
   "outputs": [
    {
     "data": {
      "text/plain": [
       "178"
      ]
     },
     "execution_count": 13,
     "metadata": {},
     "output_type": "execute_result"
    }
   ],
   "source": [
    "import statistics as st\n",
    "st.mode(a)"
   ]
  },
  {
   "cell_type": "markdown",
   "id": "64caad22-9004-445e-b908-76889359364d",
   "metadata": {},
   "source": [
    "Q4. Find the standard deviation for the given data:"
   ]
  },
  {
   "cell_type": "code",
   "execution_count": 14,
   "id": "c56e2916-d02a-473c-98db-992b8dae24d9",
   "metadata": {},
   "outputs": [
    {
     "data": {
      "text/plain": [
       "1.7885814036548633"
      ]
     },
     "execution_count": 14,
     "metadata": {},
     "output_type": "execute_result"
    }
   ],
   "source": [
    "a = [178,177,176,177,178.2,178,175,179,180,175,178.9,176.2,177,172.5,178,176.5]\n",
    "arr=np.array(a)\n",
    "arr.std()"
   ]
  },
  {
   "cell_type": "markdown",
   "id": "3015973a-af86-4bbe-b742-ac9a0792ad05",
   "metadata": {
    "tags": []
   },
   "source": [
    "Q5. How are measures of dispersion such as range, variance, and standard deviation used to describe\n",
    "the spread of a dataset? Provide an example."
   ]
  },
  {
   "cell_type": "markdown",
   "id": "555d5c78-3011-45f9-9f10-7c93660a6beb",
   "metadata": {
    "tags": []
   },
   "source": [
    "The range is the easiest dispersion of data or measure of variability. The range can measure by subtracting the lowest value from the massive Number. The wide range indicates high variability, and the small range specifies low variability in the distribution. Variance is a simple measure of dispersion. Variance measures how far each number in the dataset from the mean. To compute variance first, calculate the mean and squared deviations from a mean. Standard deviation is a squared root of the variance to get original values. Low standard deviation indicates data points close to mean."
   ]
  },
  {
   "cell_type": "markdown",
   "id": "513e4503-d378-4536-ab4a-02ba7986711c",
   "metadata": {},
   "source": [
    "Q6. What is a Venn diagram?"
   ]
  },
  {
   "cell_type": "markdown",
   "id": "0e3286c0-92ca-4ccc-a86e-728c05306539",
   "metadata": {},
   "source": [
    "A Venn diagram is an illustration that uses circles to show the relationships among things or finite groups of things. Venn diagrams help to visually represent the similarities and differences between two concepts.\n"
   ]
  },
  {
   "cell_type": "markdown",
   "id": "fb17cd58-9732-417e-a18f-091d40629828",
   "metadata": {
    "tags": []
   },
   "source": [
    "Q7. For the two given sets A = (2,3,4,5,6,7) & B = (0,2,6,8,10). Find:\n",
    "(i) A Intersetcion B ---(2,\n",
    "(ii) A ⋃ B"
   ]
  },
  {
   "cell_type": "markdown",
   "id": "92f26e68-257e-4189-8136-aedc6fd351b3",
   "metadata": {},
   "source": [
    "Q8. What do you understand about skewness in data?"
   ]
  },
  {
   "cell_type": "markdown",
   "id": "0fd34cd6-915c-4509-aa20-2c665baef976",
   "metadata": {},
   "source": [
    "Skewness is a measure of the asymmetry of a distribution. A distribution is asymmetrical when its left and right side are not mirror images. A distribution can have right (or positive), left (or negative), or zero skewness."
   ]
  },
  {
   "cell_type": "markdown",
   "id": "bd4f7d1e-ec44-4f57-9624-0b18c8815050",
   "metadata": {},
   "source": [
    "Q9. If a data is right skewed then what will be the position of median with respect to mean?"
   ]
  },
  {
   "cell_type": "markdown",
   "id": "33f2cbc8-f1c2-4f0f-998b-48148797c0ed",
   "metadata": {},
   "source": [
    " median>mean. Because since it is right skewed, more elements tend to be on right side of the curve, so mean also tends to be lesser than median"
   ]
  },
  {
   "cell_type": "markdown",
   "id": "1fc93cfc-5a83-4f90-990f-485bf42c761f",
   "metadata": {},
   "source": [
    "Q10. Explain the difference between covariance and correlation. How are these measures used in\n",
    "statistical analysis?"
   ]
  },
  {
   "cell_type": "markdown",
   "id": "7c2a0245-d5e5-42fc-9616-50e5924e0157",
   "metadata": {},
   "source": [
    "Covariance is used to indicate the relationship between 2 variables when one is changed. If increase or decrease in one increases or decreases other, then it is positive covariance else negative covariance. Correlation is a statistical measure that indicates how strongly two variables are related."
   ]
  },
  {
   "cell_type": "markdown",
   "id": "6a33fabe-4a7a-476a-a943-872a5451f6a3",
   "metadata": {},
   "source": [
    "Q11. What is the formula for calculating the sample mean? Provide an example calculation for a\n",
    "dataset."
   ]
  },
  {
   "cell_type": "markdown",
   "id": "be0dd27f-3941-410a-adb4-24f082f887b2",
   "metadata": {},
   "source": [
    "mean = sum of all records/total no of records"
   ]
  },
  {
   "cell_type": "code",
   "execution_count": 4,
   "id": "f62b271f-2601-4639-9b2c-53131382ee8e",
   "metadata": {},
   "outputs": [
    {
     "data": {
      "text/plain": [
       "30.272590361445783"
      ]
     },
     "execution_count": 4,
     "metadata": {},
     "output_type": "execute_result"
    }
   ],
   "source": [
    "import pandas as pd\n",
    "df = pd.read_csv('tested.csv')\n",
    "df['Age'].mean()"
   ]
  },
  {
   "cell_type": "markdown",
   "id": "e6f43c54-827c-4e63-9ac6-978a5492ee93",
   "metadata": {
    "tags": []
   },
   "source": [
    "Q12. For a normal distribution data what is the relationship between its measure of central tendency?"
   ]
  },
  {
   "cell_type": "markdown",
   "id": "509456b6-4593-4131-8fb0-ec8423089c4e",
   "metadata": {},
   "source": [
    "Any normal distribution has a graph that is perfectly symmetric about a vertical line through its peak. Therefore, all measures of central tendency (most commonly, the mean, median, and mode) give the same answer: "
   ]
  },
  {
   "cell_type": "markdown",
   "id": "6170b43f-e616-4a43-8089-a78846402f8a",
   "metadata": {
    "tags": []
   },
   "source": [
    "Q13. How is covariance different from correlation?"
   ]
  },
  {
   "cell_type": "markdown",
   "id": "20f16ac3-7b33-45c8-84d5-81103458712f",
   "metadata": {
    "tags": []
   },
   "source": [
    "covariance tells you that two variables change the same way while correlation reveals how a change in one variable affects a change in the other"
   ]
  },
  {
   "cell_type": "markdown",
   "id": "5d4e5adf-bc19-4f6a-aeb4-895689764e98",
   "metadata": {
    "tags": []
   },
   "source": [
    "Q14. How do outliers affect measures of central tendency and dispersion? Provide an example."
   ]
  },
  {
   "cell_type": "markdown",
   "id": "a05485e2-ceea-402a-b89f-ef73a36980c2",
   "metadata": {},
   "source": [
    "Outliers are numbers in a data set that are vastly larger or smaller than the other values in the set. Mean, median and mode are measures of central tendency. Mean is the only measure of central tendency that is always affected by an outlier."
   ]
  },
  {
   "cell_type": "code",
   "execution_count": null,
   "id": "6239787e-1d43-48fb-a0ed-29983e0a3363",
   "metadata": {},
   "outputs": [],
   "source": []
  },
  {
   "cell_type": "code",
   "execution_count": null,
   "id": "859c101e-9a1c-424f-bfcd-49977defc0e0",
   "metadata": {},
   "outputs": [],
   "source": []
  },
  {
   "cell_type": "code",
   "execution_count": null,
   "id": "410ace97-e54c-4dad-a761-3e88da11e1c4",
   "metadata": {},
   "outputs": [],
   "source": []
  },
  {
   "cell_type": "code",
   "execution_count": null,
   "id": "14ff83a1-19e3-4368-bf6b-2d155c91d0ff",
   "metadata": {},
   "outputs": [],
   "source": []
  }
 ],
 "metadata": {
  "kernelspec": {
   "display_name": "Python 3 (ipykernel)",
   "language": "python",
   "name": "python3"
  },
  "language_info": {
   "codemirror_mode": {
    "name": "ipython",
    "version": 3
   },
   "file_extension": ".py",
   "mimetype": "text/x-python",
   "name": "python",
   "nbconvert_exporter": "python",
   "pygments_lexer": "ipython3",
   "version": "3.10.8"
  }
 },
 "nbformat": 4,
 "nbformat_minor": 5
}
