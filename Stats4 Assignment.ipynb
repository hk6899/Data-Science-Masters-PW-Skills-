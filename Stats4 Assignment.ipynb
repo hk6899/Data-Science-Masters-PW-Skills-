{
 "cells": [
  {
   "cell_type": "markdown",
   "id": "9a8622ac-64e4-419c-b8ac-8dccbbecae68",
   "metadata": {},
   "source": [
    "# Statistics Assignment 4"
   ]
  },
  {
   "cell_type": "markdown",
   "id": "0ee1a43c-2410-48d4-96da-68d7d5f0be94",
   "metadata": {},
   "source": [
    "Q1: What are the Probability Mass Function (PMF) and Probability Density Function (PDF)? Explain with\n",
    "an example."
   ]
  },
  {
   "cell_type": "markdown",
   "id": "0b6b477a-d629-4f35-8cf9-7eaa47842f54",
   "metadata": {},
   "source": [
    "Probability density function is used to define the probablity of continous data. Eg: Height of students in class. Probability mass function is used to define the probablity od discrete data. Eg: Roll a dice"
   ]
  },
  {
   "cell_type": "markdown",
   "id": "1d9a5edc-c464-4606-9214-2ed6d9e78564",
   "metadata": {},
   "source": [
    "Q2: What is Cumulative Density Function (CDF)? Explain with an example. Why CDF is used?"
   ]
  },
  {
   "cell_type": "markdown",
   "id": "4201fb72-65f3-482b-aa31-3623e0158a45",
   "metadata": {
    "tags": []
   },
   "source": [
    "The cumulative distribution function (CDF) calculates the cumulative probability for a given x-value. Use the CDF to determine the likelihood that a random observation taken from the population will be less than or equal to a particular value."
   ]
  },
  {
   "cell_type": "markdown",
   "id": "3d63e162-adde-4cca-8482-52be9acfe382",
   "metadata": {},
   "source": [
    "Q3: What are some examples of situations where the normal distribution might be used as a model?\n",
    "Explain how the parameters of the normal distribution relate to the shape of the distribution."
   ]
  },
  {
   "cell_type": "markdown",
   "id": "9e591c6c-84e3-4de4-a5c6-d42c94e60ad2",
   "metadata": {},
   "source": [
    "The height of people is an example of normal distribution. Most of the people in a specific population are of average height. The number of people taller and shorter than the average height people is almost equal, and a very small number of people are either extremely tall or extremely short."
   ]
  },
  {
   "cell_type": "markdown",
   "id": "76f93e0e-b6ab-4d3e-b4ed-090e80308c0e",
   "metadata": {},
   "source": [
    "Q4: Explain the importance of Normal Distribution. Give a few real-life examples of Normal\n",
    "Distribution."
   ]
  },
  {
   "cell_type": "markdown",
   "id": "6b0694b4-82cd-4682-ad96-23236f176617",
   "metadata": {},
   "source": [
    "The normal distribution is an important probability distribution in math and statistics because many continuous data in nature and psychology display this bell-shaped curve when compiled and graphed. Eg :Roll a dice, height of student"
   ]
  },
  {
   "cell_type": "markdown",
   "id": "9630ad16-6cf0-4643-99cd-9692892fb775",
   "metadata": {},
   "source": [
    "Q5: What is Bernaulli Distribution? Give an Example. What is the difference between Bernoulli\n",
    "Distribution and Binomial Distribution?"
   ]
  },
  {
   "cell_type": "markdown",
   "id": "4d79f7dc-0f29-44e9-b027-6cdc81b1e2cb",
   "metadata": {},
   "source": [
    "Bernoulli Distribution is a type of discrete probability distribution where every experiment conducted asks a question that can be answered only in yes or no. In other words, the random variable can be 1 with a probability p or it can be 0 with a probability (1 - p). Such an experiment is called a Bernoulli trial. A pass or fail exam can be modeled by a Bernoulli Distribution. Binomial distribution is similar to bernoulli distribution except that binomial distribution takes a finite no of trials for the same experiment\n"
   ]
  },
  {
   "cell_type": "markdown",
   "id": "865d5ebb-9942-483e-971c-100c61a58637",
   "metadata": {},
   "source": [
    "Q6. Consider a dataset with a mean of 50 and a standard deviation of 10. If we assume that the dataset\n",
    "is normally distributed, what is the probability that a randomly selected observation will be greater\n",
    "than 60? Use the appropriate formula and show your calculations."
   ]
  },
  {
   "cell_type": "markdown",
   "id": "30715349-6f4d-4996-8ad0-40c6a0d4a339",
   "metadata": {
    "tags": []
   },
   "source": [
    "Z = (X - μ) / σ = (60-50)/10 = 1\n",
    "from z score table we get for sd 1,  0.1587 or 15.87%\n"
   ]
  },
  {
   "cell_type": "markdown",
   "id": "1b577743-cc25-43d5-84d6-63bd5ca30589",
   "metadata": {},
   "source": [
    "Q7: Explain uniform Distribution with an example."
   ]
  },
  {
   "cell_type": "markdown",
   "id": "1867072e-3c26-45ba-b50b-d30706f8f3d5",
   "metadata": {
    "tags": []
   },
   "source": [
    "Uniform distribution is a probability distribution where each value within a given range has an equal probability of occurring. It is also known as a rectangular distribution because the probability density function is a rectangle. A classic example of uniform distribution is rolling a fair die. When rolling a die, each number from 1 to 6 has an equal probability of occurring, which is 1/6 or approximately 0.1667. Thus, the probability distribution of rolling a die follows a uniform distribution."
   ]
  },
  {
   "cell_type": "markdown",
   "id": "7c58058a-be98-4625-bb6b-b3826025c4e2",
   "metadata": {
    "tags": []
   },
   "source": [
    "Q8: What is the z score? State the importance of the z score."
   ]
  },
  {
   "cell_type": "markdown",
   "id": "d841228a-7514-44e9-b204-c2f77deaa50c",
   "metadata": {},
   "source": [
    "The z-score, also known as the standard score, is a statistical measure that indicates how many standard deviations a data point is from the mean of its distribution. It is calculated by subtracting the mean of the distribution from the data point and then dividing the result by the standard deviation of the distribution.Standardization: The z-score is a standardized measure that allows us to compare observations from different distributions on the same scale. It provides a common basis for comparing data points from different samples or populations.\n",
    "\n",
    "Outlier detection: The z-score is useful in identifying outliers in a dataset. Observations with a z-score greater than a certain threshold are considered outliers and may be removed from the dataset.\n",
    "\n",
    "Probability calculations: The z-score is used in probability calculations, such as finding the probability of a data point occurring in a normal distribution. By converting data points to z-scores, we can use the standard normal distribution table to find probabilities and percentiles."
   ]
  },
  {
   "cell_type": "markdown",
   "id": "785a8c02-d7e4-4b9c-b569-c4638dbb395b",
   "metadata": {
    "tags": []
   },
   "source": [
    "Q9: What is Central Limit Theorem? State the significance of the Central Limit Theorem."
   ]
  },
  {
   "cell_type": "markdown",
   "id": "20041a0f-da1e-4a98-9744-2ae162f235b3",
   "metadata": {},
   "source": [
    "Central Limit Theorem (CLT) is a fundamental concept in statistics that states that the sampling distribution of the mean of any independent, random variable will tend towards a normal distribution as the sample size increases, regardless of the distribution of the original variable."
   ]
  },
  {
   "cell_type": "markdown",
   "id": "a70e3641-2c42-474c-ae98-150eef0de392",
   "metadata": {
    "tags": []
   },
   "source": [
    "Q10: State the assumptions of the Central Limit Theorem."
   ]
  },
  {
   "cell_type": "markdown",
   "id": "bd50f61d-b2c0-4936-9a8c-d1710be3c35c",
   "metadata": {},
   "source": [
    "Independence: The observations in the sample must be independent of each other.\n",
    "\n",
    "Sample size: The sample size should be large enough (usually n>30) to ensure that the sampling distribution of the mean is approximately normal.\n",
    "\n",
    "Sample distribution: The distribution of the population from which the sample is drawn should not be too skewed or have extreme outliers. However, this assumption can be relaxed in some cases.\n",
    "\n",
    "Identical distribution: The observations in the sample should be drawn from the same population with the same distribution."
   ]
  },
  {
   "cell_type": "code",
   "execution_count": null,
   "id": "fa37871f-81df-4a0f-a669-b7d7678fa3bc",
   "metadata": {},
   "outputs": [],
   "source": []
  },
  {
   "cell_type": "code",
   "execution_count": null,
   "id": "70f23626-5df1-42dc-b208-226d9bc192f9",
   "metadata": {},
   "outputs": [],
   "source": []
  },
  {
   "cell_type": "code",
   "execution_count": null,
   "id": "cb283ac9-f34a-4595-827f-77e77ab3f493",
   "metadata": {},
   "outputs": [],
   "source": []
  },
  {
   "cell_type": "code",
   "execution_count": null,
   "id": "94c138c3-5eb7-4f2a-9515-ff3733b9bb6c",
   "metadata": {},
   "outputs": [],
   "source": []
  },
  {
   "cell_type": "code",
   "execution_count": null,
   "id": "f5ded0ec-6c72-43b7-a7b0-125c8353b3b6",
   "metadata": {},
   "outputs": [],
   "source": []
  },
  {
   "cell_type": "code",
   "execution_count": null,
   "id": "0fa60d22-9274-4eea-b835-13cba1061f77",
   "metadata": {},
   "outputs": [],
   "source": []
  },
  {
   "cell_type": "code",
   "execution_count": null,
   "id": "5bcbf1c0-ca2b-455c-8e6f-9c93465351a5",
   "metadata": {},
   "outputs": [],
   "source": []
  },
  {
   "cell_type": "code",
   "execution_count": null,
   "id": "b4282aa4-0ba6-4323-8456-8fae10f30bb2",
   "metadata": {},
   "outputs": [],
   "source": []
  },
  {
   "cell_type": "code",
   "execution_count": null,
   "id": "b8f655fa-43ce-4ce1-a097-43936b6a9c3f",
   "metadata": {},
   "outputs": [],
   "source": []
  },
  {
   "cell_type": "code",
   "execution_count": null,
   "id": "723f5cfe-ccb2-46f8-aee8-abef46be3c92",
   "metadata": {},
   "outputs": [],
   "source": []
  },
  {
   "cell_type": "code",
   "execution_count": null,
   "id": "6ded79ab-bbcd-45f6-8539-21a19fe638ca",
   "metadata": {},
   "outputs": [],
   "source": []
  },
  {
   "cell_type": "code",
   "execution_count": null,
   "id": "bb8ecd2e-6442-493a-a45c-6f0a8752e24d",
   "metadata": {},
   "outputs": [],
   "source": []
  },
  {
   "cell_type": "code",
   "execution_count": null,
   "id": "a6dd2209-613d-4071-8f09-66c563a086b5",
   "metadata": {},
   "outputs": [],
   "source": []
  },
  {
   "cell_type": "code",
   "execution_count": null,
   "id": "b55f882c-ff0b-4955-9cab-c4ae7490ec6b",
   "metadata": {},
   "outputs": [],
   "source": []
  },
  {
   "cell_type": "code",
   "execution_count": null,
   "id": "c171b3c8-4f41-4464-ab59-6edb160ca273",
   "metadata": {},
   "outputs": [],
   "source": []
  },
  {
   "cell_type": "code",
   "execution_count": null,
   "id": "c8459f87-1b2f-4fa9-b7b3-6666e9584787",
   "metadata": {},
   "outputs": [],
   "source": []
  },
  {
   "cell_type": "code",
   "execution_count": null,
   "id": "190de56b-9f90-4467-b21f-5ae22ede9abc",
   "metadata": {},
   "outputs": [],
   "source": []
  },
  {
   "cell_type": "code",
   "execution_count": null,
   "id": "572eab90-1c3e-4e29-baab-a03b4f3b3481",
   "metadata": {},
   "outputs": [],
   "source": []
  },
  {
   "cell_type": "code",
   "execution_count": null,
   "id": "01992fca-54f5-4acd-aafd-637b57b4a344",
   "metadata": {},
   "outputs": [],
   "source": []
  },
  {
   "cell_type": "code",
   "execution_count": null,
   "id": "431838af-bcb0-459d-96c2-1e516005c325",
   "metadata": {},
   "outputs": [],
   "source": []
  },
  {
   "cell_type": "code",
   "execution_count": null,
   "id": "1244f2d7-716b-4182-9a57-1ad215468c9f",
   "metadata": {},
   "outputs": [],
   "source": []
  },
  {
   "cell_type": "code",
   "execution_count": null,
   "id": "e1cc999c-5ae2-46eb-96fe-9ebbcc05b57c",
   "metadata": {},
   "outputs": [],
   "source": []
  },
  {
   "cell_type": "code",
   "execution_count": null,
   "id": "6b4f9dc1-58e5-4491-96a1-912daa74de27",
   "metadata": {},
   "outputs": [],
   "source": []
  },
  {
   "cell_type": "code",
   "execution_count": null,
   "id": "e4f31926-65c0-45a1-9f59-12aca98f5e1f",
   "metadata": {},
   "outputs": [],
   "source": []
  },
  {
   "cell_type": "code",
   "execution_count": null,
   "id": "2e4a4095-390a-4030-be9e-eee1e4040388",
   "metadata": {},
   "outputs": [],
   "source": []
  },
  {
   "cell_type": "code",
   "execution_count": null,
   "id": "61625f4e-b119-4431-81c4-22b7b5e106fe",
   "metadata": {},
   "outputs": [],
   "source": []
  },
  {
   "cell_type": "code",
   "execution_count": null,
   "id": "0ed803c0-01cf-45cb-aed0-8c2b4a74111d",
   "metadata": {},
   "outputs": [],
   "source": []
  },
  {
   "cell_type": "code",
   "execution_count": null,
   "id": "41f3b700-9210-48d3-a66d-e41072ea4439",
   "metadata": {},
   "outputs": [],
   "source": []
  },
  {
   "cell_type": "code",
   "execution_count": null,
   "id": "cf82550b-e754-47b1-a51a-80dd7d8a2848",
   "metadata": {},
   "outputs": [],
   "source": []
  },
  {
   "cell_type": "code",
   "execution_count": null,
   "id": "5335414a-db1b-4884-bd4f-bcdb786f73c8",
   "metadata": {},
   "outputs": [],
   "source": []
  }
 ],
 "metadata": {
  "kernelspec": {
   "display_name": "Python 3 (ipykernel)",
   "language": "python",
   "name": "python3"
  },
  "language_info": {
   "codemirror_mode": {
    "name": "ipython",
    "version": 3
   },
   "file_extension": ".py",
   "mimetype": "text/x-python",
   "name": "python",
   "nbconvert_exporter": "python",
   "pygments_lexer": "ipython3",
   "version": "3.10.8"
  }
 },
 "nbformat": 4,
 "nbformat_minor": 5
}
