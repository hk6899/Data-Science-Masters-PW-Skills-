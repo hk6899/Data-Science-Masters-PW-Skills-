{
 "cells": [
  {
   "cell_type": "markdown",
   "id": "21c28c9f-4e59-444f-b92b-e8f13d894eee",
   "metadata": {},
   "source": [
    "# Python Assignment Feb7"
   ]
  },
  {
   "cell_type": "markdown",
   "id": "52c74892-8a3b-4a51-ae62-26022c887ad0",
   "metadata": {},
   "source": [
    "### Q1. You are writing code for a company. The requirement of the company is that you create a python function that will check whether the password entered by the user is correct or not. The function should take the password as input and return the string “Valid Password” if the entered password follows the below-given password guidelines else it should return “Invalid Password”. \n",
    "Note: 1. The Password should contain at least two uppercase letters and at least two lowercase letters.\n",
    "2. The Password should contain at least a number and three special characters.\n",
    "3. The length of the password should be 10 characters long."
   ]
  },
  {
   "cell_type": "code",
   "execution_count": 19,
   "id": "a01be7f1-54ee-4eb7-a519-e8d147577acf",
   "metadata": {},
   "outputs": [],
   "source": [
    "def check_password(p):\n",
    "    if len(p)!=10:\n",
    "        return \"Invalid Password\"\n",
    "    else:\n",
    "        count_dict = {'upper':0,'lower':0,'number':0,'special':0}\n",
    "        for i in p:\n",
    "            if i.isupper():\n",
    "                count_dict['upper']+=1\n",
    "            elif i.islower():\n",
    "                count_dict['lower']+=1\n",
    "            elif i.isdigit():\n",
    "                count_dict['number']+=1\n",
    "            elif not (i.isalpha() or i.isdigit() or i == ' '):\n",
    "                count_dict['special']+=1\n",
    "        if count_dict['upper']>=2 and count_dict['lower']>=2 and count_dict['number']>0 and count_dict['special']>=3 :\n",
    "            return \"Valid Password\"\n",
    "        return \"Invalid Password\""
   ]
  },
  {
   "cell_type": "code",
   "execution_count": 20,
   "id": "cb7d58c6-03a0-400b-9802-24b6d5cdd04b",
   "metadata": {},
   "outputs": [
    {
     "name": "stdin",
     "output_type": "stream",
     "text": [
      "enter the password QWer1#$%4p\n"
     ]
    },
    {
     "data": {
      "text/plain": [
       "'Valid Password'"
      ]
     },
     "execution_count": 20,
     "metadata": {},
     "output_type": "execute_result"
    }
   ],
   "source": [
    "a = input('enter the password')\n",
    "check_password(a)"
   ]
  },
  {
   "cell_type": "markdown",
   "id": "90f91701-0435-4fc2-a79f-e20097a7480b",
   "metadata": {},
   "source": [
    "### Q2. Solve the below-given questions using at least one of the following:\n",
    "1. Lambda function\n",
    "2. Filter functioJ\n",
    "3. map function\n",
    "4. List Comprehension"
   ]
  },
  {
   "cell_type": "code",
   "execution_count": 59,
   "id": "5b173319-7b8d-48c6-8fcd-03d3c42aea98",
   "metadata": {},
   "outputs": [],
   "source": [
    "#Check if the string starts with a particular letter \n",
    "p = \"parrot\"\n",
    "a = [True if p.startswith(p) else False]\n",
    "a"
   ]
  },
  {
   "cell_type": "code",
   "execution_count": 57,
   "id": "ac3438a8-ec1c-441a-8ec8-ba9f3eeed6bf",
   "metadata": {},
   "outputs": [
    {
     "data": {
      "text/plain": [
       "[True]"
      ]
     },
     "execution_count": 57,
     "metadata": {},
     "output_type": "execute_result"
    }
   ],
   "source": [
    "#Check if the string is numericY\n",
    "a = '123'\n",
    "a = [True if a.isnumeric else False]\n",
    "a"
   ]
  },
  {
   "cell_type": "code",
   "execution_count": 54,
   "id": "1600e199-f2ea-4ca5-a145-4aefcd0da051",
   "metadata": {},
   "outputs": [
    {
     "data": {
      "text/plain": [
       "[('orange', 80), ('mango', 99), ('grapes', 1000)]"
      ]
     },
     "execution_count": 54,
     "metadata": {},
     "output_type": "execute_result"
    }
   ],
   "source": [
    "#Sort a list of tuples having fruit names and their quantity.\n",
    "a =  [(\"mango\",99),(\"orange\",80), (\"grapes\", 1000)]\n",
    "p = sorted(a,key = lambda x:x[1])\n",
    "p"
   ]
  },
  {
   "cell_type": "code",
   "execution_count": 22,
   "id": "7dba9da0-0a6d-4a39-aae2-7ec85d59cfdc",
   "metadata": {},
   "outputs": [
    {
     "data": {
      "text/plain": [
       "[1, 4, 9, 16, 25, 36, 49, 64, 81, 100]"
      ]
     },
     "execution_count": 22,
     "metadata": {},
     "output_type": "execute_result"
    }
   ],
   "source": [
    "#Find the squares of numbers from 1 to 10\n",
    "e = list(range(1,11))\n",
    "list(map(lambda x:x*x,e))         "
   ]
  },
  {
   "cell_type": "code",
   "execution_count": 26,
   "id": "105724d9-23a4-4576-954d-1b01e05932b3",
   "metadata": {},
   "outputs": [
    {
     "data": {
      "text/plain": [
       "[1.0,\n",
       " 1.2599210498948732,\n",
       " 1.4422495703074083,\n",
       " 1.5874010519681994,\n",
       " 1.7099759466766968,\n",
       " 1.8171205928321397,\n",
       " 1.912931182772389,\n",
       " 2.0,\n",
       " 2.080083823051904,\n",
       " 2.154434690031884]"
      ]
     },
     "execution_count": 26,
     "metadata": {},
     "output_type": "execute_result"
    }
   ],
   "source": [
    "# Find the cube root of numbers from 1 to 10\n",
    "list(map(lambda x:x**(1/3),e))         "
   ]
  },
  {
   "cell_type": "code",
   "execution_count": 33,
   "id": "a15b629f-13ad-4367-8fcc-296b0a48bd3d",
   "metadata": {},
   "outputs": [
    {
     "data": {
      "text/plain": [
       "True"
      ]
     },
     "execution_count": 33,
     "metadata": {},
     "output_type": "execute_result"
    }
   ],
   "source": [
    "# Check if a given number is even\n",
    "check = lambda x: True if x%2==0 else False\n",
    "check(2)"
   ]
  },
  {
   "cell_type": "code",
   "execution_count": 34,
   "id": "7d0a5469-dd3a-4e17-8055-de5d2cb6f232",
   "metadata": {},
   "outputs": [
    {
     "data": {
      "text/plain": [
       "[1, 3, 5, 7, 9]"
      ]
     },
     "execution_count": 34,
     "metadata": {},
     "output_type": "execute_result"
    }
   ],
   "source": [
    "# Filter odd numbers from the given list.\n",
    "a = [1,2,3,4,5,6,7,8,9,10]\n",
    "list(filter(lambda x:x%2!=0,a))"
   ]
  },
  {
   "cell_type": "code",
   "execution_count": 50,
   "id": "cea9d9ce-dedd-4ba7-a016-a7268903bfbc",
   "metadata": {},
   "outputs": [],
   "source": [
    "# Sort a list of integers into positive and negative integers lists.\n",
    "a = [1,2,3,4,5,6,-1,-2,-3,-4,-5,0]\n",
    "p = sorted(a)\n",
    "q = [i for i in p if i<0]\n",
    "r =  [i for i in p if i>0]"
   ]
  },
  {
   "cell_type": "code",
   "execution_count": 51,
   "id": "df3af0ab-b039-4f5a-b990-575db5fc782b",
   "metadata": {},
   "outputs": [
    {
     "data": {
      "text/plain": [
       "([-5, -4, -3, -2, -1, 0, 1, 2, 3, 4, 5, 6],\n",
       " [-5, -4, -3, -2, -1],\n",
       " [1, 2, 3, 4, 5, 6])"
      ]
     },
     "execution_count": 51,
     "metadata": {},
     "output_type": "execute_result"
    }
   ],
   "source": [
    "p,q,r"
   ]
  },
  {
   "cell_type": "code",
   "execution_count": null,
   "id": "e168b402-940f-49fc-9bfb-672f39e87c40",
   "metadata": {},
   "outputs": [],
   "source": []
  },
  {
   "cell_type": "code",
   "execution_count": null,
   "id": "88b8d58e-2115-40db-9e95-17c5fb71be33",
   "metadata": {},
   "outputs": [],
   "source": []
  },
  {
   "cell_type": "code",
   "execution_count": null,
   "id": "4844937c-18e5-4ffa-a77f-d93a8818978d",
   "metadata": {},
   "outputs": [],
   "source": []
  },
  {
   "cell_type": "code",
   "execution_count": null,
   "id": "c7463d08-1e1d-4e70-a211-4658916ffe78",
   "metadata": {},
   "outputs": [],
   "source": []
  }
 ],
 "metadata": {
  "kernelspec": {
   "display_name": "Python 3 (ipykernel)",
   "language": "python",
   "name": "python3"
  },
  "language_info": {
   "codemirror_mode": {
    "name": "ipython",
    "version": 3
   },
   "file_extension": ".py",
   "mimetype": "text/x-python",
   "name": "python",
   "nbconvert_exporter": "python",
   "pygments_lexer": "ipython3",
   "version": "3.10.8"
  }
 },
 "nbformat": 4,
 "nbformat_minor": 5
}
