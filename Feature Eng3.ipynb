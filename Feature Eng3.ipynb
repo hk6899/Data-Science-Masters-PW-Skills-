{
 "cells": [
  {
   "cell_type": "markdown",
   "id": "3e917794-5bb9-468b-9bdc-6f3690c4f11d",
   "metadata": {},
   "source": [
    "# Feature Engineering Assignment - Encoding"
   ]
  },
  {
   "cell_type": "markdown",
   "id": "31624a35-8c57-4d67-820b-6f346178a979",
   "metadata": {},
   "source": [
    "Q1. What is the difference between Ordinal Encoding and Label Encoding? Provide an example of when you\n",
    "might choose one over the other."
   ]
  },
  {
   "cell_type": "markdown",
   "id": "f28a0200-c586-44e3-ab7b-ec4f025fd64d",
   "metadata": {
    "tags": []
   },
   "source": [
    "Label encoding involves assigning a unique numerical label to each category in the variable. The labels are usually assigned in alphabetical order or based on the frequency of the categories. Ordinal Encoding, It is used to encode categorical data that have an intrinsic order or ranking. In this technique, each category is assigned a numerical value based on its position in the order. We can use Ordinal Encoding wen the values has a ranking order eg degree, while label encoding can be used when we just need to assign a numerical encoded value which does not have any rank or priorities"
   ]
  },
  {
   "cell_type": "markdown",
   "id": "895f22fe-37a4-46d0-96cf-2ff4349ec8d5",
   "metadata": {
    "tags": []
   },
   "source": [
    "Q2. Explain how Target Guided Ordinal Encoding works and provide an example of when you might use it in\n",
    "a machine learning project."
   ]
  },
  {
   "cell_type": "markdown",
   "id": "752a17a9-4b0f-45d8-bb05-7f343446a441",
   "metadata": {},
   "source": [
    "It is a technique used to encode categorical variables based on their relationship with the target variable. This encoding technique is useful when we have a categorical variable with a large number of unique categories, and we want to use this variable as a feature in our machine learning model.In Target Guided Ordinal Encoding, we replace each category in the categorical variable with a numerical value based on the mean or median of the target variable for that category. This creates a monotonic relationship between the categorical variable and the target variable, which can improve the predictive power of our model."
   ]
  },
  {
   "cell_type": "markdown",
   "id": "8feb6902-f82f-49da-85e2-44a17622bcbc",
   "metadata": {},
   "source": [
    "Q3. Define covariance and explain why it is important in statistical analysis. How is covariance calculated?"
   ]
  },
  {
   "cell_type": "markdown",
   "id": "c65e51d0-9b1a-4401-932e-7a307cb67886",
   "metadata": {},
   "source": [
    "Covariance indicates the relationship between 2 variables when one changes. If increase in one increases the other the its positve covariance, when decrease in one decreases other, its negative covariance. "
   ]
  },
  {
   "cell_type": "markdown",
   "id": "d3844acc-a5f3-49ec-b4fe-09ad13199117",
   "metadata": {
    "tags": []
   },
   "source": [
    "Q4. For a dataset with the following categorical variables: Color (red, green, blue), Size (small, medium,\n",
    "large), and Material (wood, metal, plastic), perform label encoding using Python's scikit-learn library.\n",
    "Show your code and explain the output."
   ]
  },
  {
   "cell_type": "code",
   "execution_count": 1,
   "id": "f52b58e4-3dde-4b49-b6d3-855b2671939f",
   "metadata": {},
   "outputs": [
    {
     "name": "stdout",
     "output_type": "stream",
     "text": [
      "Color\n",
      "Size\n",
      "Material\n",
      "   Color  Size  Material\n",
      "0      2     2         2\n",
      "1      1     1         0\n",
      "2      0     0         1\n",
      "3      2     1         2\n",
      "4      0     2         0\n"
     ]
    }
   ],
   "source": [
    "import pandas as pd\n",
    "from sklearn.preprocessing import LabelEncoder\n",
    "\n",
    "# Create a pandas DataFrame with the categorical variables\n",
    "data = {\n",
    "    'Color': ['red', 'green', 'blue', 'red', 'blue'],\n",
    "    'Size': ['small', 'medium', 'large', 'medium', 'small'],\n",
    "    'Material': ['wood', 'metal', 'plastic', 'wood', 'metal']\n",
    "}\n",
    "\n",
    "df = pd.DataFrame(data)\n",
    "\n",
    "# Create a label encoder and apply it to the DataFrame\n",
    "label_encoders = {}\n",
    "encoded_data = pd.DataFrame()\n",
    "\n",
    "for col in df.columns:\n",
    "    print(col)\n",
    "    le = LabelEncoder()\n",
    "    encoded_data[col] = le.fit_transform(df[col])\n",
    "    label_encoders[col] = le\n",
    "print(encoded_data)"
   ]
  },
  {
   "cell_type": "markdown",
   "id": "ccf638e7-dd6d-47aa-8273-54c49e12d148",
   "metadata": {},
   "source": [
    "Q5. Calculate the covariance matrix for the following variables in a dataset: Age, Income, and Education\n",
    "level. Interpret the results."
   ]
  },
  {
   "cell_type": "code",
   "execution_count": 5,
   "id": "bf968916-7c88-4446-a4d3-cd057b49c9e3",
   "metadata": {},
   "outputs": [
    {
     "name": "stdout",
     "output_type": "stream",
     "text": [
      "[[4.93e+01 4.93e+04 2.20e+01]\n",
      " [4.93e+04 4.93e+07 2.20e+04]\n",
      " [2.20e+01 2.20e+04 1.00e+01]]\n",
      "                     Age      Income  Education_Level\n",
      "Age                 49.3     49300.0             22.0\n",
      "Income           49300.0  49300000.0          22000.0\n",
      "Education_Level     22.0     22000.0             10.0\n"
     ]
    }
   ],
   "source": [
    "import numpy as np\n",
    "import pandas as pd\n",
    "# Sample data for Age, Income, and Education level\n",
    "data = {\n",
    "    'Age': [30, 40, 35, 28, 45],\n",
    "    'Income': [50000, 60000, 55000, 48000, 65000],\n",
    "    'Education_Level': [12, 16, 14, 10, 18],\n",
    "}\n",
    "df = pd.DataFrame(data)\n",
    "\n",
    "# Create a numpy array from the data\n",
    "data_matrix = np.array([data['Age'], data['Income'], data['Education_Level']])\n",
    "\n",
    "# Calculate the covariance matrix\n",
    "cov_matrix = np.cov(data_matrix)\n",
    "\n",
    "print(cov_matrix)\n",
    "print(df.cov())"
   ]
  },
  {
   "cell_type": "markdown",
   "id": "6c10d73f-b3b1-437b-8694-59332ac5fc0c",
   "metadata": {},
   "source": [
    "Q6. You are working on a machine learning project with a dataset containing several categorical\n",
    "variables, including \"Gender\" (Male/Female), \"Education Level\" (High School/Bachelor's/Master's/PhD),\n",
    "and \"Employment Status\" (Unemployed/Part-Time/Full-Time). Which encoding method would you use for\n",
    "each variable, and why?"
   ]
  },
  {
   "cell_type": "markdown",
   "id": "f8dd8cc2-ceee-4fa6-83a6-3bd90b6070d1",
   "metadata": {},
   "source": [
    "For gender, we could use label encoding because it does not have an preference or ranking and also its a binary class.Education level is ordinal, meaning there's a natural order or ranking among the categories. You can assign numerical values to represent the order, such as 0 for High School, 1 for Bachelor's, 2 for Master's, and 3 for PhD. This maintains the ordinal relationship in the data.Since employment status is nominal, meaning there's no inherent order or ranking among the categories, one-hot encoding is a suitable choice. Create binary columns for each category (e.g., Unemployed, Part-Time, Full-Time) and assign 1 or 0 to indicate the presence or absence of each category."
   ]
  },
  {
   "cell_type": "markdown",
   "id": "b307f810-8751-4fac-8afe-65787cc6e69b",
   "metadata": {},
   "source": [
    "Q7. You are analyzing a dataset with two continuous variables, \"Temperature\" and \"Humidity\", and two\n",
    "categorical variables, \"Weather Condition\" (Sunny/Cloudy/Rainy) and \"Wind Direction\" (North/South/\n",
    "East/West). Calculate the covariance between each pair of variables and interpret the results."
   ]
  },
  {
   "cell_type": "code",
   "execution_count": 8,
   "id": "8a8621aa-5fbd-4df9-9a8e-76e7dc41a92a",
   "metadata": {},
   "outputs": [
    {
     "name": "stdout",
     "output_type": "stream",
     "text": [
      "Covariance between Temperature and Humidity: 35.0\n"
     ]
    }
   ],
   "source": [
    "import numpy as np\n",
    "\n",
    "# Sample data for Temperature and Humidity\n",
    "temperature = [25, 30, 35, 20, 28]\n",
    "humidity = [60, 55, 70, 50, 65]\n",
    "\n",
    "# Calculate the covariance\n",
    "covariance = np.cov(temperature, humidity)[0, 1]\n",
    "\n",
    "print(\"Covariance between Temperature and Humidity:\", covariance)\n"
   ]
  },
  {
   "cell_type": "code",
   "execution_count": null,
   "id": "87ac61da-3bf9-4ddc-871e-5b559a4660bb",
   "metadata": {},
   "outputs": [],
   "source": []
  },
  {
   "cell_type": "code",
   "execution_count": null,
   "id": "e21a5f79-d9a0-49c5-9b85-a25df0fde4ab",
   "metadata": {},
   "outputs": [],
   "source": []
  },
  {
   "cell_type": "code",
   "execution_count": null,
   "id": "912bc9f1-0122-41b2-a168-660431d994e3",
   "metadata": {},
   "outputs": [],
   "source": []
  },
  {
   "cell_type": "code",
   "execution_count": null,
   "id": "f71dd61b-c11f-4b55-86f6-1862a019f09f",
   "metadata": {},
   "outputs": [],
   "source": []
  },
  {
   "cell_type": "code",
   "execution_count": null,
   "id": "d01a8197-4c9c-4607-8eae-2a4230f5ab9b",
   "metadata": {},
   "outputs": [],
   "source": []
  },
  {
   "cell_type": "code",
   "execution_count": null,
   "id": "089a5bb3-d2b3-4592-97e5-11f20e565ed7",
   "metadata": {},
   "outputs": [],
   "source": []
  },
  {
   "cell_type": "code",
   "execution_count": null,
   "id": "7077aea8-4853-4d1a-8d8c-505d1189b71c",
   "metadata": {},
   "outputs": [],
   "source": []
  },
  {
   "cell_type": "code",
   "execution_count": null,
   "id": "3479cd5e-613a-43e9-9ba8-e7de1af78c14",
   "metadata": {},
   "outputs": [],
   "source": []
  },
  {
   "cell_type": "code",
   "execution_count": null,
   "id": "2a9933b0-4bb5-4aa8-8bc7-0d48a928c363",
   "metadata": {},
   "outputs": [],
   "source": []
  },
  {
   "cell_type": "code",
   "execution_count": null,
   "id": "73425f84-2526-4bf6-8028-a821a2b42bef",
   "metadata": {},
   "outputs": [],
   "source": []
  },
  {
   "cell_type": "code",
   "execution_count": null,
   "id": "10aff0e5-d191-49db-a662-925e99725432",
   "metadata": {},
   "outputs": [],
   "source": []
  },
  {
   "cell_type": "code",
   "execution_count": null,
   "id": "7fad5067-e46c-4eb6-a67f-c192949b617a",
   "metadata": {},
   "outputs": [],
   "source": []
  },
  {
   "cell_type": "code",
   "execution_count": null,
   "id": "12310a8f-4bd3-45fe-9061-fd4b28984d21",
   "metadata": {},
   "outputs": [],
   "source": []
  },
  {
   "cell_type": "code",
   "execution_count": null,
   "id": "5d316cef-0124-4d64-be86-18fe1d8dda6c",
   "metadata": {},
   "outputs": [],
   "source": []
  },
  {
   "cell_type": "code",
   "execution_count": null,
   "id": "60d41472-8eca-4049-b100-4d527cb256ad",
   "metadata": {},
   "outputs": [],
   "source": []
  },
  {
   "cell_type": "code",
   "execution_count": null,
   "id": "23c4bd83-4cc7-47b0-8491-4d4d7967a049",
   "metadata": {},
   "outputs": [],
   "source": []
  },
  {
   "cell_type": "code",
   "execution_count": null,
   "id": "cae4ffcb-1f4d-4c11-8b10-83297bf0c4bd",
   "metadata": {},
   "outputs": [],
   "source": []
  },
  {
   "cell_type": "code",
   "execution_count": null,
   "id": "760a7d8a-569e-4dfb-90e6-7cf61ac79387",
   "metadata": {},
   "outputs": [],
   "source": []
  },
  {
   "cell_type": "code",
   "execution_count": null,
   "id": "bc004b3e-6fe5-4a54-893b-d63a74a9737f",
   "metadata": {},
   "outputs": [],
   "source": []
  },
  {
   "cell_type": "code",
   "execution_count": null,
   "id": "ed59183b-fc6b-4313-af18-8d7105b06169",
   "metadata": {},
   "outputs": [],
   "source": []
  },
  {
   "cell_type": "code",
   "execution_count": null,
   "id": "9c874432-c4de-4fcc-a7e6-a5fa6f30f8ed",
   "metadata": {},
   "outputs": [],
   "source": []
  },
  {
   "cell_type": "code",
   "execution_count": null,
   "id": "7bef1499-edb1-4a7d-a157-39972fd072b7",
   "metadata": {},
   "outputs": [],
   "source": []
  },
  {
   "cell_type": "code",
   "execution_count": null,
   "id": "59b5e61b-c68b-4b15-876a-94b68afaf2e3",
   "metadata": {},
   "outputs": [],
   "source": []
  },
  {
   "cell_type": "code",
   "execution_count": null,
   "id": "da5b1f68-8b3a-4f54-8746-0a187a4c38b4",
   "metadata": {},
   "outputs": [],
   "source": []
  },
  {
   "cell_type": "code",
   "execution_count": null,
   "id": "926e35c7-1ddf-44ce-8a10-4e87448fd61e",
   "metadata": {},
   "outputs": [],
   "source": []
  },
  {
   "cell_type": "code",
   "execution_count": null,
   "id": "a25ecdeb-b7cd-4eac-a785-0dd6d8c12cc5",
   "metadata": {},
   "outputs": [],
   "source": []
  },
  {
   "cell_type": "code",
   "execution_count": null,
   "id": "748d467e-bd73-4614-900b-1aa7e76c112d",
   "metadata": {},
   "outputs": [],
   "source": []
  },
  {
   "cell_type": "code",
   "execution_count": null,
   "id": "078e369e-16d5-4b49-9bac-173f24f5a70d",
   "metadata": {},
   "outputs": [],
   "source": []
  },
  {
   "cell_type": "code",
   "execution_count": null,
   "id": "8e0aca01-fe12-40b4-bec5-b8ea8ed3d21b",
   "metadata": {},
   "outputs": [],
   "source": []
  },
  {
   "cell_type": "code",
   "execution_count": null,
   "id": "ef44f73c-ea2c-49aa-9c89-ccb6f8fc4b4c",
   "metadata": {},
   "outputs": [],
   "source": []
  }
 ],
 "metadata": {
  "kernelspec": {
   "display_name": "Python 3 (ipykernel)",
   "language": "python",
   "name": "python3"
  },
  "language_info": {
   "codemirror_mode": {
    "name": "ipython",
    "version": 3
   },
   "file_extension": ".py",
   "mimetype": "text/x-python",
   "name": "python",
   "nbconvert_exporter": "python",
   "pygments_lexer": "ipython3",
   "version": "3.10.8"
  }
 },
 "nbformat": 4,
 "nbformat_minor": 5
}
