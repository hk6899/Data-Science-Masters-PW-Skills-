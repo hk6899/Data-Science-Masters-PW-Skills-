{
 "cells": [
  {
   "cell_type": "markdown",
   "id": "ecb0cad4-4aa5-44fc-ad02-90fa3461fb73",
   "metadata": {},
   "source": [
    "# Assignment Feb 2 Sets, Tuples, Dictionaries"
   ]
  },
  {
   "cell_type": "markdown",
   "id": "7edd1e42-2916-4415-aa3a-ea29964f38f8",
   "metadata": {},
   "source": [
    "### Q1. What are the characteristics of the tuples? Is tuple immutable?"
   ]
  },
  {
   "cell_type": "markdown",
   "id": "a96dba88-6806-42cb-a682-76f37e0b000a",
   "metadata": {},
   "source": [
    "Tuples are denoted b '()'. Tuples are immutable which means no value can be added once it is defined. It can support datas like string, list, int, float etc..They are indexed and can have duplicate value."
   ]
  },
  {
   "cell_type": "markdown",
   "id": "fcb07852-9061-4771-be4c-ad0f0ce77131",
   "metadata": {},
   "source": [
    "### Q2. What are the two tuple methods in python? Give an example of each method. Give a reason why tuples have only two in-built methods as compared to Lists."
   ]
  },
  {
   "cell_type": "markdown",
   "id": "4685f39e-e2fd-4325-a7b1-710a2916ce27",
   "metadata": {},
   "source": [
    "count and index are 2 inbuilt methods in a tuple. Count is used to find count of occurence and index is used to find index of an element. Tuples. It has 2 in built methods because of its immutabiity, (ie) no operations can be done in a tuple once it is defined hence it supports 2 methods.\\\n",
    "Eg:\n",
    "    z = (1, 3, 7, 8, 7, 5, 4, 6, 8, 5)\n",
    "    x = z.count(8)\n",
    "    y = z.index(3)\n",
    "    print(y) -->1\n",
    "    print(x) --> 2\n",
    "    \n"
   ]
  },
  {
   "cell_type": "markdown",
   "id": "bfbc6d67-f933-4550-a88b-f34817a13168",
   "metadata": {},
   "source": [
    "### Q3. Which collection datatypes in python do not allow duplicate items? Write a code using a set to remove duplicates from the given list."
   ]
  },
  {
   "cell_type": "markdown",
   "id": "b07bb476-e882-4551-8fa2-0dc9212124db",
   "metadata": {},
   "source": [
    "Set collection datatypes in python do not allow duplicate item"
   ]
  },
  {
   "cell_type": "code",
   "execution_count": 5,
   "id": "c3fd5495-c011-4b25-a6cf-b7a9749dbc6f",
   "metadata": {},
   "outputs": [
    {
     "name": "stdout",
     "output_type": "stream",
     "text": [
      "{1, 2, 3, 4}\n"
     ]
    }
   ],
   "source": [
    "List = [1, 1, 1, 2, 1, 3, 1, 4, 2, 1, 2, 2, 2, 3, 2, 4, 3, 1, 3, 2, 3, 3, 3, 4, 4, 1, 4, 2, 4, 3, 4, 4]\n",
    "print(set(List))"
   ]
  },
  {
   "cell_type": "markdown",
   "id": "bd679dec-88f7-4e93-8d23-c984c1fa3d2e",
   "metadata": {},
   "source": [
    "### Q4. Explain the difference between the union() and update() methods for a set. Give an example of each method."
   ]
  },
  {
   "cell_type": "markdown",
   "id": "ade8dda0-7ced-4056-a188-8b58fca0f344",
   "metadata": {},
   "source": [
    "Union returns all the elements present in either set. Update method updates the current set from the values of the other set"
   ]
  },
  {
   "cell_type": "code",
   "execution_count": 12,
   "id": "be57b406-8371-4c41-82b8-65f684bc04a8",
   "metadata": {},
   "outputs": [
    {
     "data": {
      "text/plain": [
       "{1, 2, 3, 4, 11, 22, 56}"
      ]
     },
     "execution_count": 12,
     "metadata": {},
     "output_type": "execute_result"
    }
   ],
   "source": [
    "p = {1,2,3,4,11}\n",
    "q = {1,2,3,56,11,22}\n",
    "p.union(q)\n"
   ]
  },
  {
   "cell_type": "code",
   "execution_count": 13,
   "id": "c1ecc5f9-325e-4d12-be8c-db83e29ea147",
   "metadata": {},
   "outputs": [
    {
     "data": {
      "text/plain": [
       "{1, 2, 3, 4, 11, 22, 56}"
      ]
     },
     "execution_count": 13,
     "metadata": {},
     "output_type": "execute_result"
    }
   ],
   "source": [
    "p = {1,2,3,4,11}\n",
    "q = {1,2,3,56,11,22}\n",
    "p.update(q)\n",
    "p"
   ]
  },
  {
   "cell_type": "markdown",
   "id": "b576638c-fd93-41ef-b55c-fd55a65f2a34",
   "metadata": {},
   "source": [
    "### Q5. What is a dictionary? Give an example. Also, state whether a dictionary is ordered or unordered."
   ]
  },
  {
   "cell_type": "markdown",
   "id": "7f1c86cf-7e27-42eb-b477-0afb0a29eb59",
   "metadata": {},
   "source": [
    "A dictionary is a data structure in python, that supports key value pairs of data. The data value can be accessed with the help of keys. The keys should be unique. The key can be of int, str or tuple while value can be of any data type. A dictionary is unordered because when you loop through the keys, we are uncertain of what key we get in order.\n",
    "\n",
    "Eg a = {'key':'value',1:2}"
   ]
  },
  {
   "cell_type": "markdown",
   "id": "06f084dc-d36e-42ac-8dcd-ea5396088a17",
   "metadata": {},
   "source": [
    "### Q6. Can we create a nested dictionary? If so, please give an example by creating a simple one-level nested dictionary."
   ]
  },
  {
   "cell_type": "markdown",
   "id": "1dd539a9-3c9b-48b5-a57a-bd23a6cb9e04",
   "metadata": {},
   "source": [
    "We can support nested dictionary."
   ]
  },
  {
   "cell_type": "code",
   "execution_count": 15,
   "id": "f09d45c5-1556-471d-8af1-532abd809477",
   "metadata": {},
   "outputs": [],
   "source": [
    "a = {'key':{'nested':'nested value'}}"
   ]
  },
  {
   "cell_type": "code",
   "execution_count": 16,
   "id": "373064ae-b4ba-47c5-ad2f-333f0290b281",
   "metadata": {},
   "outputs": [
    {
     "data": {
      "text/plain": [
       "'nested value'"
      ]
     },
     "execution_count": 16,
     "metadata": {},
     "output_type": "execute_result"
    }
   ],
   "source": [
    "a['key']['nested']"
   ]
  },
  {
   "cell_type": "markdown",
   "id": "d28c8dd0-3e2b-47d4-afaf-10be26ffbe37",
   "metadata": {},
   "source": [
    "### Q7. Using setdefault() method, create key named topics in the given dictionary and also add the value of the key as this list ['Python', 'Machine Learning’, 'Deep Learning']"
   ]
  },
  {
   "cell_type": "code",
   "execution_count": 24,
   "id": "8c77a9f0-f337-437f-b408-d4b2c06e3a14",
   "metadata": {},
   "outputs": [
    {
     "data": {
      "text/plain": [
       "['Python', 'Machine Learning', 'Deep Learning']"
      ]
     },
     "execution_count": 24,
     "metadata": {},
     "output_type": "execute_result"
    }
   ],
   "source": [
    "dict1 = {'language' : 'Python', 'course': 'Data Science Masters'}\n",
    "dict1.setdefault('topics',['Python','Machine Learning','Deep Learning'])"
   ]
  },
  {
   "cell_type": "code",
   "execution_count": 25,
   "id": "d6dbddd9-a0bb-4a5e-a6b0-a72f8446563e",
   "metadata": {},
   "outputs": [
    {
     "data": {
      "text/plain": [
       "{'language': 'Python',\n",
       " 'course': 'Data Science Masters',\n",
       " 'topics': ['Python', 'Machine Learning', 'Deep Learning']}"
      ]
     },
     "execution_count": 25,
     "metadata": {},
     "output_type": "execute_result"
    }
   ],
   "source": [
    "dict1"
   ]
  },
  {
   "cell_type": "markdown",
   "id": "47c70fac-b930-408b-a92c-fe7c737da434",
   "metadata": {},
   "source": [
    "### Q8. What are the three view objects in dictionaries? Use the three in-built methods in python to display these three view objects for the given dictionary."
   ]
  },
  {
   "cell_type": "markdown",
   "id": "761e74cd-bd6c-43f8-bdf3-ecd44f9294df",
   "metadata": {},
   "source": [
    "Key, Values and Items are the three view objects in dictionaries"
   ]
  },
  {
   "cell_type": "code",
   "execution_count": 26,
   "id": "9b9d7f35-74ae-41a4-9a33-bb75b2a75645",
   "metadata": {},
   "outputs": [],
   "source": [
    "dict1 = {'Sport': 'Cricket' , 'Teams': ['India', 'Australia', 'England', 'South Africa', 'Sri Lanka', 'New Zealand']}"
   ]
  },
  {
   "cell_type": "code",
   "execution_count": 28,
   "id": "a8427036-e7b5-435c-859d-aa30baffcc4b",
   "metadata": {},
   "outputs": [
    {
     "data": {
      "text/plain": [
       "dict_keys(['Sport', 'Teams'])"
      ]
     },
     "execution_count": 28,
     "metadata": {},
     "output_type": "execute_result"
    }
   ],
   "source": [
    "dict1.keys()"
   ]
  },
  {
   "cell_type": "code",
   "execution_count": 29,
   "id": "7c77a440-35db-403c-ac7e-28c792d2d2e7",
   "metadata": {},
   "outputs": [
    {
     "data": {
      "text/plain": [
       "dict_items([('Sport', 'Cricket'), ('Teams', ['India', 'Australia', 'England', 'South Africa', 'Sri Lanka', 'New Zealand'])])"
      ]
     },
     "execution_count": 29,
     "metadata": {},
     "output_type": "execute_result"
    }
   ],
   "source": [
    "dict1.items()"
   ]
  },
  {
   "cell_type": "code",
   "execution_count": 30,
   "id": "4cce29ab-6dbd-4d62-8a91-a485e99ac4eb",
   "metadata": {},
   "outputs": [
    {
     "data": {
      "text/plain": [
       "dict_values(['Cricket', ['India', 'Australia', 'England', 'South Africa', 'Sri Lanka', 'New Zealand']])"
      ]
     },
     "execution_count": 30,
     "metadata": {},
     "output_type": "execute_result"
    }
   ],
   "source": [
    "dict1.values()"
   ]
  },
  {
   "cell_type": "code",
   "execution_count": null,
   "id": "184f340d-17fa-4d3a-ba61-04edd9307d6f",
   "metadata": {},
   "outputs": [],
   "source": []
  }
 ],
 "metadata": {
  "kernelspec": {
   "display_name": "Python 3 (ipykernel)",
   "language": "python",
   "name": "python3"
  },
  "language_info": {
   "codemirror_mode": {
    "name": "ipython",
    "version": 3
   },
   "file_extension": ".py",
   "mimetype": "text/x-python",
   "name": "python",
   "nbconvert_exporter": "python",
   "pygments_lexer": "ipython3",
   "version": "3.10.8"
  }
 },
 "nbformat": 4,
 "nbformat_minor": 5
}
