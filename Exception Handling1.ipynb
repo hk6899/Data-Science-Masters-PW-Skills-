{
 "cells": [
  {
   "cell_type": "markdown",
   "id": "6a459472-397b-4694-8139-a22eb7b1b5dd",
   "metadata": {},
   "source": [
    "# Exception Handling Assignment"
   ]
  },
  {
   "cell_type": "markdown",
   "id": "56b469d8-2ac1-430f-82a3-fbfff60cb4fc",
   "metadata": {},
   "source": [
    "Q1. Exception is an an event that happens during the execution of a program that disrupts the flow or execution of a program.\n",
    "The difference between exception and syntax error is that exceptions are formed when the logic or the function written can not be executed due to resons where as syntax error is caused due to improper syntax"
   ]
  },
  {
   "cell_type": "markdown",
   "id": "ea4fcd09-e25d-4c2c-93cc-f66f32d32c1e",
   "metadata": {},
   "source": [
    "Q2 When Exception is not handled, the flow of the program gets interupted."
   ]
  },
  {
   "cell_type": "code",
   "execution_count": 1,
   "id": "acb338cd-ed0c-4807-9d40-3cbd01947552",
   "metadata": {},
   "outputs": [
    {
     "ename": "ZeroDivisionError",
     "evalue": "division by zero",
     "output_type": "error",
     "traceback": [
      "\u001b[0;31m---------------------------------------------------------------------------\u001b[0m",
      "\u001b[0;31mZeroDivisionError\u001b[0m                         Traceback (most recent call last)",
      "Cell \u001b[0;32mIn[1], line 1\u001b[0m\n\u001b[0;32m----> 1\u001b[0m a \u001b[38;5;241m=\u001b[39m \u001b[38;5;241;43m1\u001b[39;49m\u001b[38;5;241;43m/\u001b[39;49m\u001b[38;5;241;43m0\u001b[39;49m\n\u001b[1;32m      2\u001b[0m b \u001b[38;5;241m=\u001b[39m \u001b[38;5;241m4\u001b[39m\u001b[38;5;241m/\u001b[39m\u001b[38;5;241m2\u001b[39m\n\u001b[1;32m      3\u001b[0m \u001b[38;5;28mprint\u001b[39m(a,b)\n",
      "\u001b[0;31mZeroDivisionError\u001b[0m: division by zero"
     ]
    }
   ],
   "source": [
    "a = 1/0\n",
    "b = 4/2\n",
    "print(a,b)"
   ]
  },
  {
   "cell_type": "markdown",
   "id": "c83c8d94-9f5b-4bb8-9e2c-a3552810505a",
   "metadata": {},
   "source": [
    "Q3. Try and except are used to catch and handle exception"
   ]
  },
  {
   "cell_type": "code",
   "execution_count": 4,
   "id": "acb7ff7e-cd70-4429-be6e-a6c96045529f",
   "metadata": {},
   "outputs": [
    {
     "name": "stdout",
     "output_type": "stream",
     "text": [
      "[Errno 2] No such file or directory: 'test5.txt'\n"
     ]
    }
   ],
   "source": [
    "try:\n",
    "    a= open('test5.txt','r')\n",
    "except Exception as e:\n",
    "    print(e)"
   ]
  },
  {
   "cell_type": "code",
   "execution_count": null,
   "id": "a6b432e9-e21a-405e-a528-0dc60977d4ca",
   "metadata": {},
   "outputs": [],
   "source": [
    "Q4 Explain try, else, finally"
   ]
  },
  {
   "cell_type": "code",
   "execution_count": 5,
   "id": "4a16949d-fab9-4619-a4b3-54afa7e3f59a",
   "metadata": {},
   "outputs": [
    {
     "name": "stdout",
     "output_type": "stream",
     "text": [
      "No module named 'a'\n",
      "execution over\n"
     ]
    }
   ],
   "source": [
    "try:\n",
    "    import a\n",
    "except Exception as e:\n",
    "    print(e)\n",
    "finally:\n",
    "    print('execution over')"
   ]
  },
  {
   "cell_type": "markdown",
   "id": "60c2e7ee-a808-4b99-aede-6e77ac39c103",
   "metadata": {
    "tags": []
   },
   "source": [
    "Q5 Custom Exceptions are the user defined exceptions where the user can know what type of exception the code might give and handle them."
   ]
  },
  {
   "cell_type": "markdown",
   "id": "e396a569-3c7c-4840-8768-3d66f34a174d",
   "metadata": {},
   "source": [
    "Q6. Explain custom exception with example"
   ]
  },
  {
   "cell_type": "code",
   "execution_count": 8,
   "id": "65a8f9cd-590c-462d-9d18-6a697a9c45eb",
   "metadata": {},
   "outputs": [],
   "source": [
    "class Validatescore(Exception):\n",
    "    def __init__(self,score):\n",
    "        self.score = score\n",
    "def validate_score(score):\n",
    "    if score<0:\n",
    "        raise Validatescore('Score should be greater than 0')\n",
    "    else:\n",
    "        print('Valid Score')"
   ]
  },
  {
   "cell_type": "code",
   "execution_count": 9,
   "id": "be58288f-7c9c-4bb5-8561-c577c332e857",
   "metadata": {},
   "outputs": [
    {
     "name": "stdin",
     "output_type": "stream",
     "text": [
      "Enter the score -1\n"
     ]
    },
    {
     "name": "stdout",
     "output_type": "stream",
     "text": [
      "Score should be greater than 0\n"
     ]
    }
   ],
   "source": [
    "try:\n",
    "    a = int(input('Enter the score'))\n",
    "    validate_score(a)\n",
    "except Validatescore as e:\n",
    "    print(e)"
   ]
  },
  {
   "cell_type": "code",
   "execution_count": null,
   "id": "3a23fba2-044e-46a9-b025-681777444800",
   "metadata": {},
   "outputs": [],
   "source": []
  },
  {
   "cell_type": "code",
   "execution_count": null,
   "id": "8880a602-9a11-4408-a0d8-e17971828033",
   "metadata": {},
   "outputs": [],
   "source": []
  },
  {
   "cell_type": "code",
   "execution_count": null,
   "id": "79b57e11-f268-42a4-8788-401fcf7b2918",
   "metadata": {},
   "outputs": [],
   "source": []
  }
 ],
 "metadata": {
  "kernelspec": {
   "display_name": "Python 3 (ipykernel)",
   "language": "python",
   "name": "python3"
  },
  "language_info": {
   "codemirror_mode": {
    "name": "ipython",
    "version": 3
   },
   "file_extension": ".py",
   "mimetype": "text/x-python",
   "name": "python",
   "nbconvert_exporter": "python",
   "pygments_lexer": "ipython3",
   "version": "3.10.8"
  }
 },
 "nbformat": 4,
 "nbformat_minor": 5
}
