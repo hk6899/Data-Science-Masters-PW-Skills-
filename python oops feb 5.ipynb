{
 "cells": [
  {
   "cell_type": "markdown",
   "id": "3774a6a7-f969-4053-9a29-6f6877862037",
   "metadata": {},
   "source": [
    "# Assignment OOPS"
   ]
  },
  {
   "cell_type": "markdown",
   "id": "a3d55ec8-b8f9-45ba-a878-5498d8f9fa3f",
   "metadata": {},
   "source": [
    "### Q1. Explain Class and Object with respect to Object-Oriented Programming. Give a suitable example."
   ]
  },
  {
   "cell_type": "markdown",
   "id": "dad144a9-9687-4888-b6c0-294bf35645be",
   "metadata": {},
   "source": [
    "Class is nothing but a blueprint or template which defines some properties or behaviour. An object is an real time entity or an instance of the class in which the properties of the class are attached."
   ]
  },
  {
   "cell_type": "code",
   "execution_count": 31,
   "id": "147dd877-af0c-4898-9e44-24c54aa44630",
   "metadata": {},
   "outputs": [],
   "source": [
    "class Mobile:\n",
    "    def __init__(self,model,camera_pixels):\n",
    "        self.model = model\n",
    "        self.camera_pixels = camera_pixels\n",
    "    def return_model(self):\n",
    "        return self.model\n",
    "    def return_camera_pixels(self):\n",
    "        return self.camera_pixels"
   ]
  },
  {
   "cell_type": "code",
   "execution_count": 32,
   "id": "c5d45df0-44e9-42bd-b4bd-6c4e5cdc5859",
   "metadata": {},
   "outputs": [
    {
     "data": {
      "text/plain": [
       "<__main__.Mobile at 0x7f66de6e5cc0>"
      ]
     },
     "execution_count": 32,
     "metadata": {},
     "output_type": "execute_result"
    }
   ],
   "source": [
    "a = Mobile('iphone 12','12 MP')\n",
    "a"
   ]
  },
  {
   "cell_type": "code",
   "execution_count": 33,
   "id": "78e4278c-68ff-44a5-8a3e-5d43cabf1055",
   "metadata": {},
   "outputs": [
    {
     "data": {
      "text/plain": [
       "'iphone 12'"
      ]
     },
     "execution_count": 33,
     "metadata": {},
     "output_type": "execute_result"
    }
   ],
   "source": [
    "a.return_model()"
   ]
  },
  {
   "cell_type": "code",
   "execution_count": 34,
   "id": "72115a3c-c662-40da-b41e-75c88bbb7e51",
   "metadata": {},
   "outputs": [
    {
     "data": {
      "text/plain": [
       "'12 MP'"
      ]
     },
     "execution_count": 34,
     "metadata": {},
     "output_type": "execute_result"
    }
   ],
   "source": [
    "a.return_camera_pixels()"
   ]
  },
  {
   "cell_type": "markdown",
   "id": "3b9dcb0e-031d-4f2f-91f5-e4b5710ac367",
   "metadata": {},
   "source": [
    "### Q2. Name the four pillars of OOPs."
   ]
  },
  {
   "cell_type": "markdown",
   "id": "73c6a83d-ba85-46e8-b353-be905ab3f980",
   "metadata": {},
   "source": [
    "Inheritance, Abstraction, Encapsulation, Polymorphism"
   ]
  },
  {
   "cell_type": "markdown",
   "id": "85fa58ea-c14c-4457-b479-ab18fbd02382",
   "metadata": {},
   "source": [
    "### Q3. Explain why the __init__() function is used. Give a suitable example."
   ]
  },
  {
   "cell_type": "markdown",
   "id": "945bb397-4f7b-4967-ac09-355832687293",
   "metadata": {},
   "source": [
    "init() is a constructor type of object used in a class. It is used to initilaise the object attributes to the class when an object of the class is created."
   ]
  },
  {
   "cell_type": "code",
   "execution_count": 35,
   "id": "b2749843-e1b7-4d6f-bc4b-4bbb40c03e90",
   "metadata": {},
   "outputs": [],
   "source": [
    "class Student:\n",
    "    def __init__(self,name,age):\n",
    "        self.name = name\n",
    "        self.age = age\n",
    "    def return_name(self):\n",
    "        return self.name\n",
    "    def return_age(self):\n",
    "        return self.age"
   ]
  },
  {
   "cell_type": "code",
   "execution_count": 36,
   "id": "4cddf344-a189-42c4-a398-be83e43ff99e",
   "metadata": {},
   "outputs": [],
   "source": [
    "r = Student('Rohan',23)"
   ]
  },
  {
   "cell_type": "code",
   "execution_count": 37,
   "id": "c1f0e6a6-766a-49fd-a26e-c2a1afa3c952",
   "metadata": {},
   "outputs": [
    {
     "data": {
      "text/plain": [
       "'Rohan'"
      ]
     },
     "execution_count": 37,
     "metadata": {},
     "output_type": "execute_result"
    }
   ],
   "source": [
    "r.return_name()"
   ]
  },
  {
   "cell_type": "markdown",
   "id": "86e6c2f4-ce04-43b2-86b9-6f2dea43c9eb",
   "metadata": {},
   "source": [
    "### Q4. Why self is used in OOPs?"
   ]
  },
  {
   "cell_type": "markdown",
   "id": "d20abbbe-33d5-43c2-aa7a-e811d7adc7d9",
   "metadata": {},
   "source": [
    "self keyword is used in python to make sure that the attributes of the object are belonging to that specific class. It represents the instance of that class and everytime you can access the class methods,attriutes using self"
   ]
  },
  {
   "cell_type": "markdown",
   "id": "9280c96a-4a37-45a0-8f36-0e152b12f93f",
   "metadata": {},
   "source": [
    "### Q5. What is inheritance? Give an example for each type of inheritance."
   ]
  },
  {
   "cell_type": "markdown",
   "id": "3973e217-8885-4baf-a25c-2c9b31e5e64c",
   "metadata": {},
   "source": [
    "The process of acquiring base class properties is called as inheritance. \n",
    "Single Inheritance, Multiple Inheritance, Multilevel Inheritance, Hierarichal Inheritance, Hybrid Inheritance"
   ]
  },
  {
   "cell_type": "code",
   "execution_count": 38,
   "id": "31ba99ab-d1b5-4d8d-8a67-dd052b1689fc",
   "metadata": {},
   "outputs": [],
   "source": [
    "# Single Inheritance\n",
    "class A:\n",
    "    def func1(self):\n",
    "        print('this is class A parent class')\n",
    "class B(A):\n",
    "    def func2(self):\n",
    "        print('this is class B child class')"
   ]
  },
  {
   "cell_type": "code",
   "execution_count": 42,
   "id": "0e4ab6c9-e083-4c2e-b8bc-091678cfe249",
   "metadata": {},
   "outputs": [],
   "source": [
    "obj = B()"
   ]
  },
  {
   "cell_type": "code",
   "execution_count": 43,
   "id": "0557c644-46ba-4c50-91b7-78e765ebace6",
   "metadata": {},
   "outputs": [
    {
     "name": "stdout",
     "output_type": "stream",
     "text": [
      "this is class A parent class\n"
     ]
    }
   ],
   "source": [
    "obj.func1()"
   ]
  },
  {
   "cell_type": "code",
   "execution_count": 44,
   "id": "68f978b8-34d1-4d2d-b0c1-0ee0fcab7a2e",
   "metadata": {},
   "outputs": [
    {
     "name": "stdout",
     "output_type": "stream",
     "text": [
      "this is class B child class\n"
     ]
    }
   ],
   "source": [
    "obj.func2()"
   ]
  },
  {
   "cell_type": "code",
   "execution_count": 45,
   "id": "541e2fac-748e-4f0f-a592-a9d45d114944",
   "metadata": {},
   "outputs": [],
   "source": [
    "# Multiple Inheritance\n",
    "class A:\n",
    "    def func1(self):\n",
    "        print('this is class A')\n",
    "class B:\n",
    "    def func2(self):\n",
    "        print('this is class B')\n",
    "class C(A,B):\n",
    "    def func3(self):\n",
    "        print('This is class C inheriting from A and B')"
   ]
  },
  {
   "cell_type": "code",
   "execution_count": 46,
   "id": "7337bf69-cb62-4b31-8a2e-79061dfd117b",
   "metadata": {},
   "outputs": [
    {
     "name": "stdout",
     "output_type": "stream",
     "text": [
      "this is class A\n"
     ]
    }
   ],
   "source": [
    "obj1 = C()\n",
    "obj1.func1()"
   ]
  },
  {
   "cell_type": "code",
   "execution_count": 47,
   "id": "f8bb582e-494a-4af9-b27c-a2d7fe799471",
   "metadata": {},
   "outputs": [
    {
     "name": "stdout",
     "output_type": "stream",
     "text": [
      "this is class B\n"
     ]
    }
   ],
   "source": [
    "obj1.func2()"
   ]
  },
  {
   "cell_type": "code",
   "execution_count": 48,
   "id": "6ed0bf9d-d993-4f92-b5d0-0837c4795306",
   "metadata": {},
   "outputs": [
    {
     "name": "stdout",
     "output_type": "stream",
     "text": [
      "This is class C inheriting from A and B\n"
     ]
    }
   ],
   "source": [
    "obj1.func3()"
   ]
  },
  {
   "cell_type": "code",
   "execution_count": 49,
   "id": "8c5aea4b-827f-46c7-babf-48ce3ea42b6c",
   "metadata": {},
   "outputs": [],
   "source": [
    "# Multilevel Inheritance\n",
    "class A:\n",
    "    def func1(self):\n",
    "        print('this is class A')\n",
    "class B(A):\n",
    "    def func2(self):\n",
    "        print('this is class B inheriting from A')\n",
    "class C(B):\n",
    "    def func3(self):\n",
    "        print('This is class C inheriting from B')"
   ]
  },
  {
   "cell_type": "code",
   "execution_count": 50,
   "id": "d24b57a6-bd0f-46e1-8ddf-f61064043792",
   "metadata": {},
   "outputs": [],
   "source": [
    "obj3 = C()"
   ]
  },
  {
   "cell_type": "code",
   "execution_count": 51,
   "id": "f9e42d52-d5ce-437b-b90d-947f44d298e5",
   "metadata": {},
   "outputs": [
    {
     "name": "stdout",
     "output_type": "stream",
     "text": [
      "this is class A\n"
     ]
    }
   ],
   "source": [
    "obj3.func1()"
   ]
  },
  {
   "cell_type": "code",
   "execution_count": 53,
   "id": "8feed67d-397f-4d53-875e-530389733fb9",
   "metadata": {},
   "outputs": [
    {
     "name": "stdout",
     "output_type": "stream",
     "text": [
      "this is class B inheriting from A\n"
     ]
    }
   ],
   "source": [
    "obj3.func2()"
   ]
  },
  {
   "cell_type": "code",
   "execution_count": 54,
   "id": "2fe7afe0-2f15-4052-bd38-0cd7e1bdaa0e",
   "metadata": {},
   "outputs": [
    {
     "name": "stdout",
     "output_type": "stream",
     "text": [
      "This is class C inheriting from B\n"
     ]
    }
   ],
   "source": [
    "obj3.func3()"
   ]
  },
  {
   "cell_type": "code",
   "execution_count": 55,
   "id": "371abf10-9a62-47b7-8c0f-f0f745c90682",
   "metadata": {},
   "outputs": [],
   "source": [
    "# Hierarrichal Inheritance (single base class, more than one derived class)\n",
    "class A:\n",
    "    def func1(self):\n",
    "        print('this is class A')\n",
    "class B(A):\n",
    "    def func2(self):\n",
    "        print('this is class B inheriting from A')\n",
    "class C(A):\n",
    "    def func3(self):\n",
    "        print('This is class C inheriting from A')"
   ]
  },
  {
   "cell_type": "code",
   "execution_count": 56,
   "id": "67e3e508-c5c0-4f48-8561-81ce3405fcd6",
   "metadata": {},
   "outputs": [
    {
     "name": "stdout",
     "output_type": "stream",
     "text": [
      "this is class A\n"
     ]
    }
   ],
   "source": [
    "objb = B()\n",
    "objb.func1()"
   ]
  },
  {
   "cell_type": "code",
   "execution_count": 57,
   "id": "989843d1-6890-44c4-a301-ed570a2986a5",
   "metadata": {},
   "outputs": [
    {
     "name": "stdout",
     "output_type": "stream",
     "text": [
      "this is class B inheriting from A\n"
     ]
    }
   ],
   "source": [
    "objb.func2()"
   ]
  },
  {
   "cell_type": "code",
   "execution_count": 58,
   "id": "3105e13d-c5a2-4012-8646-05607c9574b5",
   "metadata": {},
   "outputs": [
    {
     "name": "stdout",
     "output_type": "stream",
     "text": [
      "this is class A\n"
     ]
    }
   ],
   "source": [
    "objc=C()\n",
    "objc.func1()"
   ]
  },
  {
   "cell_type": "code",
   "execution_count": 60,
   "id": "ae58f42b-c7ac-427f-9196-38275bba79f4",
   "metadata": {},
   "outputs": [
    {
     "name": "stdout",
     "output_type": "stream",
     "text": [
      "This is class C inheriting from A\n"
     ]
    }
   ],
   "source": [
    "objc.func3()"
   ]
  },
  {
   "cell_type": "code",
   "execution_count": 61,
   "id": "568093bb-5b82-482b-85a0-f3ade770d2cb",
   "metadata": {},
   "outputs": [],
   "source": [
    "# Hybrid Inheritance (Multiple types of Inheritance)\n",
    "class A:\n",
    "    def func1(self):\n",
    "        print('this is class A')\n",
    "class B:\n",
    "    def func2(self):\n",
    "        print('this is class B ')\n",
    "class C(B):\n",
    "    def func3(self):\n",
    "        print('This is class C inheriting from B')\n",
    "class D(A,B):\n",
    "    def func4(self):\n",
    "        print('This is class D inheriting from A,B')"
   ]
  },
  {
   "cell_type": "code",
   "execution_count": 62,
   "id": "07412b6f-33b7-4ea0-b925-48b2d0455c0f",
   "metadata": {},
   "outputs": [
    {
     "name": "stdout",
     "output_type": "stream",
     "text": [
      "this is class A\n"
     ]
    }
   ],
   "source": [
    "obd = D()\n",
    "obd.func1()"
   ]
  },
  {
   "cell_type": "code",
   "execution_count": 63,
   "id": "027a1d69-9cc7-4a4c-8264-95e86ad2f8af",
   "metadata": {},
   "outputs": [
    {
     "name": "stdout",
     "output_type": "stream",
     "text": [
      "this is class B \n"
     ]
    }
   ],
   "source": [
    "obd.func2()"
   ]
  },
  {
   "cell_type": "code",
   "execution_count": 64,
   "id": "5412bf10-412d-41d8-868c-e54512acf7aa",
   "metadata": {},
   "outputs": [
    {
     "name": "stdout",
     "output_type": "stream",
     "text": [
      "This is class D inheriting from A,B\n"
     ]
    }
   ],
   "source": [
    "obd.func4()"
   ]
  },
  {
   "cell_type": "code",
   "execution_count": 65,
   "id": "a9152d41-1804-4401-950a-5e59baebfe0e",
   "metadata": {},
   "outputs": [
    {
     "name": "stdout",
     "output_type": "stream",
     "text": [
      "this is class B \n"
     ]
    }
   ],
   "source": [
    "obc = C()\n",
    "obc.func2()"
   ]
  },
  {
   "cell_type": "code",
   "execution_count": 66,
   "id": "303d0b9b-63a2-4c71-8066-edab8ce309b6",
   "metadata": {},
   "outputs": [
    {
     "name": "stdout",
     "output_type": "stream",
     "text": [
      "This is class C inheriting from B\n"
     ]
    }
   ],
   "source": [
    "obc.func3()"
   ]
  },
  {
   "cell_type": "code",
   "execution_count": null,
   "id": "8e12b2d6-9c1b-477c-8b7f-01c06100ff8b",
   "metadata": {},
   "outputs": [],
   "source": []
  }
 ],
 "metadata": {
  "kernelspec": {
   "display_name": "Python 3 (ipykernel)",
   "language": "python",
   "name": "python3"
  },
  "language_info": {
   "codemirror_mode": {
    "name": "ipython",
    "version": 3
   },
   "file_extension": ".py",
   "mimetype": "text/x-python",
   "name": "python",
   "nbconvert_exporter": "python",
   "pygments_lexer": "ipython3",
   "version": "3.10.8"
  }
 },
 "nbformat": 4,
 "nbformat_minor": 5
}
