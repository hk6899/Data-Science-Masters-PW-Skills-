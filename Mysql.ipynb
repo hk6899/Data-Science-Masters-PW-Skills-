{
 "cells": [
  {
   "cell_type": "markdown",
   "id": "1e16df04-2791-48f1-8033-157146113810",
   "metadata": {},
   "source": [
    "# Assignment MySQL"
   ]
  },
  {
   "cell_type": "markdown",
   "id": "77e36df5-9e24-4a5e-bc69-74ad2ee42748",
   "metadata": {},
   "source": [
    "Q1. What is a database? Differentiate between SQL and NoSQL databases."
   ]
  },
  {
   "cell_type": "markdown",
   "id": "b4af5633-a780-4d4d-8580-bd25965d87b5",
   "metadata": {
    "tags": []
   },
   "source": [
    "A database is an ordered collection of data electronically in an computer system. The data maybe relational(Table type data) or non relational(images, text etc). SQL is used for relational data EG MySQL, Postgresql. NoSQL is used for storing and processing non relational data. EG Mongodb, cassandra"
   ]
  },
  {
   "cell_type": "markdown",
   "id": "237dd355-5fcc-42a0-85d5-9e3b10dc8255",
   "metadata": {},
   "source": [
    "Q2. What is DDL? Explain why CREATE, DROP, ALTER, and TRUNCATE are used with an example."
   ]
  },
  {
   "cell_type": "markdown",
   "id": "a1aa0061-5f15-4229-92d5-d5eb9728547d",
   "metadata": {
    "tags": []
   },
   "source": [
    "DDL is Data Definition Language which is used to define data structures. For example: create table, alter table are instructions in SQL.\n",
    "Create is used to create a database table, Drop is used to drop the table. Alter is used to add, delete, or modify columns in an existing table.TRUNCATE TABLE removes all rows from a table, but the table structure and its columns, constraints, indexes, and so on remain"
   ]
  },
  {
   "cell_type": "markdown",
   "id": "9566d94f-84fe-4896-b8d9-8c11953407af",
   "metadata": {
    "tags": []
   },
   "source": [
    "Q3. What is DML? Explain INSERT, UPDATE, and DELETE with an example."
   ]
  },
  {
   "cell_type": "markdown",
   "id": "51987104-9577-4fd7-9a1f-ac62cca287c9",
   "metadata": {},
   "source": [
    "DML is Data Manipulation language which is used for performing data manipulation operations. Insert is used for insert data, update is used to update the existing data, delete is used to delete the data."
   ]
  },
  {
   "cell_type": "markdown",
   "id": "21032cb5-3694-483e-aa52-7f6742cbb289",
   "metadata": {},
   "source": [
    "Q4. What is DQL? Explain SELECT with an example."
   ]
  },
  {
   "cell_type": "markdown",
   "id": "96fc3922-3c1e-4b92-8f6e-3dc55e4bc14b",
   "metadata": {},
   "source": [
    "DQL statements are used for performing queries on the data within schema objects. The purpose of the DQL Command is to get some schema relation based on the query passed to it. Select is used to retrive data from database."
   ]
  },
  {
   "cell_type": "markdown",
   "id": "d4cc2889-89f8-4444-9593-c2e7ab806c4e",
   "metadata": {},
   "source": [
    "Q5. Explain Primary Key and Foreign Key."
   ]
  },
  {
   "cell_type": "markdown",
   "id": "5a0dd5b8-6f54-4b96-81c0-0ffefe10db39",
   "metadata": {},
   "source": [
    "Primary key is the unique identification key in a database. A foreign key is a key which helps in forming relation between 2 tables. The primary key of one table can be a foreign key of oher table, and they can be used for join operations."
   ]
  },
  {
   "cell_type": "markdown",
   "id": "3b6f8bbe-4ce0-4d28-97ea-89c3f26ffabc",
   "metadata": {},
   "source": [
    "Q6. Write a python code to connect MySQL to python. Explain the cursor() and execute() method."
   ]
  },
  {
   "cell_type": "code",
   "execution_count": null,
   "id": "585bf4b8-9637-41f9-96e6-85b5ee577497",
   "metadata": {},
   "outputs": [],
   "source": [
    "\n",
    "# Importing module\n",
    "import mysql.connector\n",
    " \n",
    "# Creating connection object\n",
    "mydb = mysql.connector.connect(\n",
    "    host = \"localhost\",\n",
    "    user = \"yourusername\",\n",
    "    password = \"your_password\"\n",
    ")\n",
    "mycursor = mydb.cursor()\n",
    "mycursor.execute('SHOW DATABASE')\n",
    "# Printing the connection object\n",
    "print(mydb)"
   ]
  },
  {
   "cell_type": "markdown",
   "id": "57433db0-dc3d-4f2e-ba1a-f27028aed904",
   "metadata": {
    "tags": []
   },
   "source": [
    "A cursor in database is a construct which allows you to iterate/traversal the records of a table. In MySQL you can use cursors with in a stored program such as procedures, functions etc. READ ONLY − Using these cursors you cannot update any table. Executemethod is used to execute whatever the cursor commands is in. "
   ]
  },
  {
   "cell_type": "markdown",
   "id": "a784a773-b3f5-4e0c-9c41-08ec26962d8f",
   "metadata": {},
   "source": [
    "Q7. Give the order of execution of SQL clauses in an SQL query."
   ]
  },
  {
   "cell_type": "code",
   "execution_count": null,
   "id": "9758a873-585b-43b4-b606-25a0e6f40d81",
   "metadata": {},
   "outputs": [],
   "source": []
  },
  {
   "cell_type": "code",
   "execution_count": null,
   "id": "5f973625-1f96-4f1a-a43f-d0d1e851a78c",
   "metadata": {},
   "outputs": [],
   "source": []
  }
 ],
 "metadata": {
  "kernelspec": {
   "display_name": "Python 3 (ipykernel)",
   "language": "python",
   "name": "python3"
  },
  "language_info": {
   "codemirror_mode": {
    "name": "ipython",
    "version": 3
   },
   "file_extension": ".py",
   "mimetype": "text/x-python",
   "name": "python",
   "nbconvert_exporter": "python",
   "pygments_lexer": "ipython3",
   "version": "3.10.8"
  }
 },
 "nbformat": 4,
 "nbformat_minor": 5
}
