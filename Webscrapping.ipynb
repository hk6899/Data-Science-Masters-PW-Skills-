{
 "cells": [
  {
   "cell_type": "markdown",
   "id": "2a8961fb-9f37-4de7-8a9a-8fd6871c0c7b",
   "metadata": {},
   "source": [
    "# Assignment Web Scrapping"
   ]
  },
  {
   "cell_type": "markdown",
   "id": "d2b9e0d1-0797-467a-8194-07867fffdd95",
   "metadata": {
    "tags": []
   },
   "source": [
    "Q1. What is Web Scraping? Why is it Used? Give three areas where Web Scraping is used to get data."
   ]
  },
  {
   "cell_type": "markdown",
   "id": "14d589ba-27d3-4956-a825-12566882c75e",
   "metadata": {},
   "source": [
    "Web Scrapping is used to get or scrap the information out of any website. It is used so that we can use the data scrapped for generating insights. It can be used for price monitoring, market reasearch, sentiment analysis"
   ]
  },
  {
   "cell_type": "markdown",
   "id": "416de8bf-c86b-4e14-b1a4-eb2ba028c9e9",
   "metadata": {},
   "source": [
    "Q2. What are the different methods used for Web Scraping?"
   ]
  },
  {
   "cell_type": "markdown",
   "id": "35ed7e84-0e61-4915-92ae-88372c81591a",
   "metadata": {},
   "source": [
    "HTML Parsing\n",
    "HTML parsing involves the use of JavaScript to target a linear or nested HTML page. It is a powerful and fast method for extracting text and links (e.g. a nested link or email address), scraping screens and pulling resources.\n",
    "\n",
    "DOM Parsing\n",
    "The Document Object Model (DOM) defines the structure, style and content of an XML file. Scrapers typically use a DOM parser to view the structure of web pages in depth. DOM parsers can be used to access the nodes that contain information and scrape the web page with tools like XPath. For dynamically generated content, scrapers can embed web browsers like Firefox and Internet Explorer to extract whole web pages (or parts of them).\n",
    "\n",
    "Vertical Aggregation\n",
    "Companies that use extensive computing power can create vertical aggregation platforms to target particular verticals. These are data harvesting platforms that can be run on the cloud and are used to automatically generate and monitor bots for certain verticals with minimal human intervention. Bots are generated according to the information required to each vertical, and their efficiency is determined by the quality of data they extract.\n",
    "\n",
    "XPath\n",
    "XPath is short for XML Path Language, which is a query language for XML documents. XML documents have tree-like structures, so scrapers can use XPath to navigate through them by selecting nodes according to various parameters. A scraper may combine DOM parsing with XPath to extract whole web pages and publish them on a destination site.\n",
    "\n",
    "Google Sheets\n",
    "Google Sheets is a popular tool for data scraping. Scarpers can use the IMPORTXML function in Sheets to scrape from a website, which is useful if they want to extract a specific pattern or data from the website. This command also makes it possible to check if a website can be scraped or is protected."
   ]
  },
  {
   "cell_type": "markdown",
   "id": "393cdf29-4399-4c30-adf1-7ce4e22fb505",
   "metadata": {},
   "source": [
    "Q3. What is Beautiful Soup? Why is it used?"
   ]
  },
  {
   "cell_type": "markdown",
   "id": "5c506911-1941-4e64-8942-40fb9b1072a6",
   "metadata": {},
   "source": [
    "Beautiful Soup is a library that makes it easy to scrape information from web pages. It sits atop an HTML or XML parser, providing Pythonic idioms for iterating, searching, and modifying the parse tree."
   ]
  },
  {
   "cell_type": "markdown",
   "id": "18c6bb82-1e3b-4a6f-a32d-111a80a32e9c",
   "metadata": {
    "tags": []
   },
   "source": [
    "Q4. Why is flask used in this Web Scraping project?"
   ]
  },
  {
   "cell_type": "markdown",
   "id": "74677e9e-6580-4917-9c27-38b408e8a865",
   "metadata": {},
   "source": [
    "Flask is used for creating api and rendering the scrapped information into the UI also store the user search results into database."
   ]
  },
  {
   "cell_type": "markdown",
   "id": "ffc2b32f-0350-4739-a624-59b4d9d42826",
   "metadata": {
    "tags": []
   },
   "source": [
    "Q5. Write the names of AWS services used in this project. Also, explain the use of each service."
   ]
  },
  {
   "cell_type": "markdown",
   "id": "f39359bf-6789-4b64-8531-7c383fd0ecac",
   "metadata": {},
   "source": [
    "AWS CodePipeline is a fully managed continuous delivery service that helps you automate your release pipelines for fast and reliable application and infrastructure updates. "
   ]
  },
  {
   "cell_type": "code",
   "execution_count": null,
   "id": "f170173c-3d1e-45f8-b7c9-536dd1cefad8",
   "metadata": {},
   "outputs": [],
   "source": []
  },
  {
   "cell_type": "code",
   "execution_count": null,
   "id": "6c233f45-2e97-4537-a5d1-87c4a688e3d6",
   "metadata": {},
   "outputs": [],
   "source": []
  },
  {
   "cell_type": "code",
   "execution_count": null,
   "id": "aa5f9b25-2b6c-492f-8ab5-53d477b6dd19",
   "metadata": {},
   "outputs": [],
   "source": []
  }
 ],
 "metadata": {
  "kernelspec": {
   "display_name": "Python 3 (ipykernel)",
   "language": "python",
   "name": "python3"
  },
  "language_info": {
   "codemirror_mode": {
    "name": "ipython",
    "version": 3
   },
   "file_extension": ".py",
   "mimetype": "text/x-python",
   "name": "python",
   "nbconvert_exporter": "python",
   "pygments_lexer": "ipython3",
   "version": "3.10.8"
  }
 },
 "nbformat": 4,
 "nbformat_minor": 5
}
