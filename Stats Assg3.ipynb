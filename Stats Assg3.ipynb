{
 "cells": [
  {
   "cell_type": "markdown",
   "id": "5d20133c-099a-415b-be5f-6e968f8f5752",
   "metadata": {
    "tags": []
   },
   "source": [
    "# Statistics Assignment 3"
   ]
  },
  {
   "cell_type": "markdown",
   "id": "477c349f-3839-42be-bfdf-9e10e50ee101",
   "metadata": {},
   "source": [
    "Q1. What is the Probability density function?"
   ]
  },
  {
   "cell_type": "markdown",
   "id": "6e6f5dcf-6f16-4bf4-8ea1-d51b18268df9",
   "metadata": {},
   "source": [
    "Probability density function is used to define the probablity od continous data. Eg: Height of students in class"
   ]
  },
  {
   "cell_type": "markdown",
   "id": "57fe8510-260a-456c-b232-b4cc54b7a4a6",
   "metadata": {},
   "source": [
    "Q2. What are the types of Probability distribution?"
   ]
  },
  {
   "cell_type": "markdown",
   "id": "cb0ad96e-89b5-4c28-9414-f6e355dbb291",
   "metadata": {},
   "source": [
    "Normal/Gaussian distribution, Bernoulli distribution, Uniform distribution, Log Normal distribution, Poisson distribution, Power Low distribution, Binomial distribution"
   ]
  },
  {
   "cell_type": "markdown",
   "id": "1ea49fb8-c44a-4b68-b634-5ad5b1ded27f",
   "metadata": {},
   "source": [
    "Q3. Write a Python function to calculate the probability density function of a normal distribution with\n",
    "given mean and standard deviation at a given point."
   ]
  },
  {
   "cell_type": "code",
   "execution_count": 1,
   "id": "2ee22f3d-adf2-4135-812b-0f3442ce8f3f",
   "metadata": {},
   "outputs": [
    {
     "name": "stdout",
     "output_type": "stream",
     "text": [
      "Requirement already satisfied: scipy in /opt/conda/lib/python3.10/site-packages (1.9.3)\n",
      "Requirement already satisfied: numpy<1.26.0,>=1.18.5 in /opt/conda/lib/python3.10/site-packages (from scipy) (1.23.5)\n",
      "Note: you may need to restart the kernel to use updated packages.\n"
     ]
    }
   ],
   "source": [
    "pip install scipy"
   ]
  },
  {
   "cell_type": "code",
   "execution_count": 2,
   "id": "52cfff02-8507-48c4-9a78-880c59c28e66",
   "metadata": {},
   "outputs": [
    {
     "name": "stdout",
     "output_type": "stream",
     "text": [
      "0.0804410163156249\n"
     ]
    }
   ],
   "source": [
    "from scipy.stats import norm\n",
    "import numpy as np\n",
    "  \n",
    "data_start = -5\n",
    "data_end = 5\n",
    "data_points = 11\n",
    "data = np.linspace(data_start, data_end, data_points)\n",
    "  \n",
    "mean = np.mean(data)\n",
    "std = np.std(data)\n",
    "  \n",
    "probability_pdf = norm.pdf(3, loc=mean, scale=std)\n",
    "print(probability_pdf)"
   ]
  },
  {
   "cell_type": "markdown",
   "id": "15d2bea3-8a2b-4390-a349-dd09727e233a",
   "metadata": {
    "tags": []
   },
   "source": [
    "Q4. What are the properties of Binomial distribution? Give two examples of events where binomial\n",
    "distribution can be applied."
   ]
  },
  {
   "cell_type": "markdown",
   "id": "12b2764a-52f5-4408-b1f9-e7f297f1718a",
   "metadata": {},
   "source": [
    "In binomial probability distribution, the number of ‘Success’ in a sequence of n experiments, where each time a question is asked for yes-no, then the boolean-valued outcome is represented either with success/yes/true/one (probability p) or failure/no/false/zero (probability q = 1 − p). A single success/failure test is also called a Bernoulli trial or Bernoulli experiment, and a series of outcomes is called a Bernoulli process. For n = 1, i.e. a single experiment, the binomial distribution is a Bernoulli distribution. The binomial distribution is the base for the famous binomial test of statistical importance. Eg: Toss a coin for 10 times, roll a dice 5 times"
   ]
  },
  {
   "cell_type": "markdown",
   "id": "accc937a-9c20-41b0-8e9d-788be6396864",
   "metadata": {
    "tags": []
   },
   "source": [
    "Q5. Generate a random sample of size 1000 from a binomial distribution with probability of success 0.4\n",
    "and plot a histogram of the results using matplotlib."
   ]
  },
  {
   "cell_type": "code",
   "execution_count": 7,
   "id": "75bc72da-46bc-4936-a741-32ff3c49b340",
   "metadata": {},
   "outputs": [
    {
     "data": {
      "text/plain": [
       "array([413, 397, 397, 412, 434, 388, 408, 394, 387, 423])"
      ]
     },
     "execution_count": 7,
     "metadata": {},
     "output_type": "execute_result"
    }
   ],
   "source": [
    "import numpy as np\n",
    "s = np.random.binomial(1000, 0.4, 10)\n",
    "s"
   ]
  },
  {
   "cell_type": "markdown",
   "id": "3c5c3005-8ce0-4d09-8771-182cd4ce31c0",
   "metadata": {
    "tags": []
   },
   "source": [
    "Q6. Write a Python function to calculate the cumulative distribution function of a Poisson distribution\n",
    "with given mean at a given point."
   ]
  },
  {
   "cell_type": "code",
   "execution_count": 10,
   "id": "3193647e-1099-4323-a9c3-ce729165689c",
   "metadata": {},
   "outputs": [
    {
     "ename": "NameError",
     "evalue": "name 'k' is not defined",
     "output_type": "error",
     "traceback": [
      "\u001b[0;31m---------------------------------------------------------------------------\u001b[0m",
      "\u001b[0;31mNameError\u001b[0m                                 Traceback (most recent call last)",
      "Cell \u001b[0;32mIn[10], line 1\u001b[0m\n\u001b[0;32m----> 1\u001b[0m cdf \u001b[38;5;241m=\u001b[39m poisson\u001b[38;5;241m.\u001b[39mcdf(\u001b[43mk\u001b[49m, mu\u001b[38;5;241m=\u001b[39m\u001b[38;5;241m7\u001b[39m)\n\u001b[1;32m      2\u001b[0m cdf \u001b[38;5;241m=\u001b[39m np\u001b[38;5;241m.\u001b[39mround(cdf, \u001b[38;5;241m3\u001b[39m)\n\u001b[1;32m      4\u001b[0m \u001b[38;5;28mprint\u001b[39m(cdf)\n",
      "\u001b[0;31mNameError\u001b[0m: name 'k' is not defined"
     ]
    }
   ],
   "source": [
    "k = np.arange(0, 17)\n",
    "cdf = poisson.cdf(k, mu=7)\n",
    "cdf = np.round(cdf, 3)\n",
    "\n",
    "print(cdf)"
   ]
  },
  {
   "cell_type": "markdown",
   "id": "53f53955-d266-431b-8956-173c86c7cef4",
   "metadata": {},
   "source": [
    "Q7. How Binomial distribution different from Poisson distribution?"
   ]
  },
  {
   "cell_type": "markdown",
   "id": "9932fabc-40cf-42b4-b50a-6e737059a395",
   "metadata": {},
   "source": [
    "In binomial distribution, The number of trials for a success/failure test is considerd.In Poisoson, the The number of trials for a success/failure test in a defined interval of time. Binomial distribution describes the distribution of binary data from a finite sample. Thus it gives the probability of getting r events out of n trials. Poisson distribution describes the distribution of binary data from an infinite sample. Thus it gives the probability of getting r events in a population."
   ]
  },
  {
   "cell_type": "markdown",
   "id": "9ef305fa-5bc9-41cf-9161-0e64b1d4591e",
   "metadata": {},
   "source": [
    "Q8. Generate a random sample of size 1000 from a Poisson distribution with mean 5 and calculate the\n",
    "sample mean and variance."
   ]
  },
  {
   "cell_type": "code",
   "execution_count": 9,
   "id": "5aa97c4d-d1b5-4353-842c-0c70e1648f4d",
   "metadata": {},
   "outputs": [
    {
     "data": {
      "text/plain": [
       "array([ 4,  7,  7,  4, 10, 10,  6,  4,  7,  3,  3,  3,  2,  6,  5,  7,  4,\n",
       "        6,  5,  8,  7,  8,  2,  9,  3,  6,  5,  3,  6,  5,  8,  5,  3,  2,\n",
       "        2, 13,  4,  4,  6,  3,  7,  4,  3,  3,  4,  9,  5,  6,  6,  5,  6,\n",
       "        4,  5,  3,  1,  3,  3,  5,  7,  9,  9,  2,  4,  6,  8,  4,  8,  4,\n",
       "        5,  1,  1,  5,  8,  3,  5,  6,  4,  4,  4,  5,  9,  5,  9,  6,  7,\n",
       "        4,  6,  8,  3,  5,  4,  1,  3,  5,  6,  3,  1,  3,  5,  3,  8,  9,\n",
       "        2,  1,  6,  2,  4,  8,  4,  5,  6,  3,  5,  3,  6,  7,  4,  5,  1,\n",
       "        3,  7,  3,  3,  2,  5,  5,  3,  3,  6,  3,  1,  2,  5, 10,  3,  4,\n",
       "        8,  7,  8,  2,  8,  8,  3,  6,  4,  4,  1,  4,  9,  4,  9,  5,  3,\n",
       "        3,  4,  2,  3,  2,  6,  7,  6,  6,  5,  4,  9,  5,  5,  4,  5,  3,\n",
       "        8,  4,  5,  4,  4,  3,  7,  6,  3,  5,  5,  7,  4,  7,  8,  5, 10,\n",
       "        3,  7,  3,  9,  6,  2,  5,  6,  1,  3,  7,  4,  4,  4,  4,  6,  5,\n",
       "        3, 12,  3,  5,  4, 11,  8,  3,  3,  9,  9,  6,  3,  4,  4,  9,  4,\n",
       "        5,  2,  8,  6,  4, 10,  6,  5,  5,  2,  4,  5,  6,  2,  5,  6,  7,\n",
       "        7,  8,  6,  5,  3,  7,  2,  5,  6,  4, 11,  2,  3,  5,  5,  6,  5,\n",
       "        5,  2,  5,  6,  4,  4,  6,  4,  9,  0,  7,  3,  4,  4,  5,  4,  5,\n",
       "        4,  1,  9,  3,  4,  3,  5,  4,  3,  2,  3,  2,  3,  3,  6,  3,  4,\n",
       "        7,  2,  7,  8,  3,  5,  6,  6,  5,  6,  4,  5,  8,  6,  7,  3,  4,\n",
       "        4,  5,  5,  3,  6,  4,  4,  5,  6,  2,  4,  3,  4,  3,  7,  4,  4,\n",
       "        4,  4,  4,  7,  4,  2,  5,  2,  2, 11,  6,  6,  3,  9,  2,  1,  5,\n",
       "        8,  4,  3,  6,  5,  5,  2,  6,  6,  3,  5, 10,  3,  4,  7,  8,  7,\n",
       "        4,  8,  5,  3,  2,  2,  6,  6,  7,  0,  5,  4,  4,  6,  6, 10,  3,\n",
       "        5,  4,  5,  5,  7,  9,  1,  1,  8,  7,  4,  5,  5,  4,  5,  1,  4,\n",
       "        6,  5,  5,  5,  6, 10,  4,  4,  3,  5,  4,  6,  7,  6,  4,  2,  7,\n",
       "        5,  4,  7,  3,  5,  2,  8,  6,  3,  3,  6, 12,  5,  3,  4,  1,  4,\n",
       "        5,  3,  2,  5, 10,  2,  6,  8,  5,  3,  6,  5,  2,  2,  2,  2,  4,\n",
       "        8,  5, 12,  6,  7,  7,  8,  4,  5,  5,  5,  2,  7,  7,  5,  4,  5,\n",
       "        4,  7,  3,  2,  7,  8,  5,  6,  6,  1,  7,  7,  6,  7,  6,  4,  4,\n",
       "        5,  2,  5,  5,  5,  9,  5,  4,  4,  6,  2,  5,  2,  5,  3,  3,  4,\n",
       "        4,  4,  5,  6,  5,  4, 10,  5,  6,  3,  9,  8,  4,  7,  4,  4,  5,\n",
       "        2,  2,  4,  6,  6,  4,  4,  3,  6,  3,  6,  4,  5,  7,  7,  6,  6,\n",
       "        5,  7,  6,  3,  2,  7,  2,  1,  2,  3,  7,  2,  4,  6,  2,  3,  3,\n",
       "        7,  4,  3,  7,  0,  0,  6,  2,  7,  6,  6,  2,  1,  7,  8,  5, 11,\n",
       "        3,  4,  5,  4,  4,  7,  5,  1,  5,  7,  3,  6,  6,  5,  9,  4,  4,\n",
       "        5,  5,  2,  2,  5,  6,  8,  1,  5,  4,  4,  2,  4,  4,  9,  7,  7,\n",
       "        3,  5,  5,  5,  8,  3,  4,  2,  2,  4,  2,  3,  5,  3,  5,  5,  4,\n",
       "        6,  6,  6,  7,  6,  1,  3,  4,  5,  3,  7,  3,  9,  7,  5,  7,  6,\n",
       "        5,  3,  7,  5,  7,  4,  5,  9,  3,  4,  5,  7,  5,  4,  5,  2,  3,\n",
       "        9,  5,  5,  5,  3,  6,  2,  6,  4,  8,  1,  3,  7,  8,  6,  7,  6,\n",
       "        4,  3, 10,  4,  3,  4,  3,  5,  6,  2,  6,  8,  7,  5,  5,  5,  5,\n",
       "        8,  9,  7,  4,  6,  9,  6,  2,  6,  4,  1,  4,  7,  6,  8,  4,  6,\n",
       "        4,  6,  9,  3,  6,  6,  5,  4,  3,  2,  6,  5,  2,  2,  8,  9,  4,\n",
       "        6,  7,  7,  8,  2,  5,  6,  5,  2,  6,  5,  3,  3,  2,  7,  1,  6,\n",
       "        4,  4,  3,  7,  4,  6,  2,  6,  8,  8,  6,  5,  4,  7,  5,  4,  7,\n",
       "        2,  2,  7,  3,  4,  7,  3,  7,  8,  3,  2,  5,  8,  5,  3,  2,  6,\n",
       "       11,  2,  6,  3,  5, 10,  9,  5, 10,  9,  4,  3,  2,  3,  5,  4,  4,\n",
       "        7,  7,  4, 10,  5,  3,  5,  2,  6,  7,  2,  6,  2,  2,  8,  4,  4,\n",
       "        5,  2,  4,  3,  5,  5,  3,  9,  2,  3,  5,  5,  5,  5, 11,  9,  1,\n",
       "        8,  4,  3,  6,  5,  7,  3,  3,  8,  8,  5,  6,  5,  2,  7,  5,  5,\n",
       "        7,  6,  6,  6,  5,  6,  3,  9,  2,  4,  1,  8,  3,  3,  3, 10,  4,\n",
       "        6,  1,  6,  3,  4,  3,  4,  4,  2,  5,  4,  7,  2,  5,  3,  6,  7,\n",
       "        8,  2,  5,  6,  5,  5,  7,  0,  8,  3,  6,  2,  6,  2,  5,  3,  6,\n",
       "        9,  5,  2,  3,  7,  5, 10,  1,  9,  2,  6,  6,  6,  4,  5,  7,  5,\n",
       "        9,  7,  7,  3,  7,  4,  6,  2,  5, 10,  6,  6,  4,  5,  9,  6,  6,\n",
       "        8,  2,  2,  6,  5,  4,  7,  5,  6,  2,  6,  4,  5,  3, 11,  7,  7,\n",
       "        5,  6,  3,  8,  5,  4,  7,  5,  8,  3,  6,  2,  4,  5,  8,  2,  8,\n",
       "        0,  5, 10,  7,  4,  4,  2,  6,  3,  9,  4,  8, 12,  6,  2,  5,  8,\n",
       "        7,  8,  5,  5,  6, 11,  3,  5,  7,  5,  5,  7, 10,  1,  4,  3,  4,\n",
       "        3,  2,  6,  6,  1,  4,  3,  3,  8, 13,  4,  8,  7,  2])"
      ]
     },
     "execution_count": 9,
     "metadata": {},
     "output_type": "execute_result"
    }
   ],
   "source": [
    "from scipy.stats import poisson\n",
    "\n",
    "#generate random values from Poisson distribution with mean=3 and sample size=10\n",
    "poisson.rvs(mu=5, size=1000)\n"
   ]
  },
  {
   "cell_type": "markdown",
   "id": "8a06496c-3b0e-401c-ab55-78c8ea0b09cf",
   "metadata": {
    "tags": []
   },
   "source": [
    "Q9. How mean and variance are related in Binomial distribution and Poisson distribution?"
   ]
  },
  {
   "cell_type": "markdown",
   "id": "2296c6d5-62a7-49d6-9cf1-b197a60f1297",
   "metadata": {},
   "source": [
    "The mean of the binomial distribution is always equal to p, and the variance is always equal to pq/N. In poisson mean and variace is equal to Lambda*T. "
   ]
  },
  {
   "cell_type": "markdown",
   "id": "cc933990-4270-4094-8859-b3033fdc65e6",
   "metadata": {},
   "source": [
    "Q10. In normal distribution with respect to mean position, where does the least frequent data appear?"
   ]
  },
  {
   "cell_type": "markdown",
   "id": "470e7745-c2f5-4cc3-b8ca-1a2edfaeb2c5",
   "metadata": {},
   "source": [
    "The least frequent data occurs either at + or - 3 std values from the mean."
   ]
  },
  {
   "cell_type": "code",
   "execution_count": null,
   "id": "ef739558-cce4-4a6c-87bf-64fa540e53d0",
   "metadata": {},
   "outputs": [],
   "source": []
  },
  {
   "cell_type": "code",
   "execution_count": null,
   "id": "d80acce7-0e75-4b5a-b9d1-70ac2cb88f9a",
   "metadata": {},
   "outputs": [],
   "source": []
  },
  {
   "cell_type": "code",
   "execution_count": null,
   "id": "a83fde57-94a6-4753-a9d1-ecf4a7afe2a2",
   "metadata": {},
   "outputs": [],
   "source": []
  },
  {
   "cell_type": "code",
   "execution_count": null,
   "id": "cbc72380-29a1-4b49-8f87-d0493e2c1b00",
   "metadata": {},
   "outputs": [],
   "source": []
  },
  {
   "cell_type": "code",
   "execution_count": null,
   "id": "5a5e5a48-5ec4-4101-9c89-a73e46a34f69",
   "metadata": {},
   "outputs": [],
   "source": []
  },
  {
   "cell_type": "code",
   "execution_count": null,
   "id": "887225fe-62ab-4646-9db8-8ff598e8ca80",
   "metadata": {},
   "outputs": [],
   "source": []
  },
  {
   "cell_type": "code",
   "execution_count": null,
   "id": "241f0ee1-ff61-401b-8b93-401f23a78de8",
   "metadata": {},
   "outputs": [],
   "source": []
  },
  {
   "cell_type": "code",
   "execution_count": null,
   "id": "615974a2-7746-43b2-8ffe-708d5ff0ccee",
   "metadata": {},
   "outputs": [],
   "source": []
  },
  {
   "cell_type": "code",
   "execution_count": null,
   "id": "357a84dd-83cf-4fcd-b803-a585caf2f3af",
   "metadata": {},
   "outputs": [],
   "source": []
  },
  {
   "cell_type": "code",
   "execution_count": null,
   "id": "dcae83e5-809a-4646-8bfc-d91916e12870",
   "metadata": {},
   "outputs": [],
   "source": []
  },
  {
   "cell_type": "code",
   "execution_count": null,
   "id": "3549a99c-0abb-407f-93bc-9dffc3048737",
   "metadata": {},
   "outputs": [],
   "source": []
  },
  {
   "cell_type": "code",
   "execution_count": null,
   "id": "1540bfd0-07ba-4ad4-9608-b852af9d668e",
   "metadata": {},
   "outputs": [],
   "source": []
  },
  {
   "cell_type": "code",
   "execution_count": null,
   "id": "be2e4a7a-8ae1-4249-aa3c-386079e1cb21",
   "metadata": {},
   "outputs": [],
   "source": []
  },
  {
   "cell_type": "code",
   "execution_count": null,
   "id": "f468c4fc-2314-486b-8747-8e0ac03b7cdc",
   "metadata": {},
   "outputs": [],
   "source": []
  },
  {
   "cell_type": "code",
   "execution_count": null,
   "id": "a1aee06c-ad33-4c77-884e-1927ab327e5a",
   "metadata": {},
   "outputs": [],
   "source": []
  },
  {
   "cell_type": "code",
   "execution_count": null,
   "id": "680c1bf6-53d1-432b-9f4b-33c8f8c3033a",
   "metadata": {},
   "outputs": [],
   "source": []
  },
  {
   "cell_type": "code",
   "execution_count": null,
   "id": "4bb136a6-bcea-4ede-b8c2-d146eca4031a",
   "metadata": {},
   "outputs": [],
   "source": []
  },
  {
   "cell_type": "code",
   "execution_count": null,
   "id": "e4555d62-4907-45b5-a86b-66ad2e861d62",
   "metadata": {},
   "outputs": [],
   "source": []
  },
  {
   "cell_type": "code",
   "execution_count": null,
   "id": "f0306ec6-aae8-4315-a3ca-f2672a36edaa",
   "metadata": {},
   "outputs": [],
   "source": []
  },
  {
   "cell_type": "code",
   "execution_count": null,
   "id": "5d2756eb-2c4b-4ccc-a351-8468208fa3a4",
   "metadata": {},
   "outputs": [],
   "source": []
  },
  {
   "cell_type": "code",
   "execution_count": null,
   "id": "0cf23a65-50d8-4f70-9611-25fe046dbc79",
   "metadata": {},
   "outputs": [],
   "source": []
  },
  {
   "cell_type": "code",
   "execution_count": null,
   "id": "dc729ae2-89d7-4ed0-861e-7b31ffb24988",
   "metadata": {},
   "outputs": [],
   "source": []
  },
  {
   "cell_type": "code",
   "execution_count": null,
   "id": "9c563bf6-42fb-404b-aea8-41e3826dc321",
   "metadata": {},
   "outputs": [],
   "source": []
  },
  {
   "cell_type": "code",
   "execution_count": null,
   "id": "36caa2b1-4606-4057-9e31-8dfbe0e87e3c",
   "metadata": {},
   "outputs": [],
   "source": []
  },
  {
   "cell_type": "code",
   "execution_count": null,
   "id": "2b5b0d3b-13fd-4544-b96e-aec4e48153b3",
   "metadata": {},
   "outputs": [],
   "source": []
  },
  {
   "cell_type": "code",
   "execution_count": null,
   "id": "8124ada6-dd7f-49b2-8269-5bb148b7027e",
   "metadata": {},
   "outputs": [],
   "source": []
  },
  {
   "cell_type": "code",
   "execution_count": null,
   "id": "bcb04cee-2d7c-450d-9a3e-042277e267ba",
   "metadata": {},
   "outputs": [],
   "source": []
  },
  {
   "cell_type": "code",
   "execution_count": null,
   "id": "1b76bcf0-fb03-4f7f-b09a-5d07c464bd7d",
   "metadata": {},
   "outputs": [],
   "source": []
  },
  {
   "cell_type": "code",
   "execution_count": null,
   "id": "759fc978-5cef-4c2f-9258-7354d4825fdf",
   "metadata": {},
   "outputs": [],
   "source": []
  },
  {
   "cell_type": "code",
   "execution_count": null,
   "id": "757bb008-fefa-4570-a29e-b6fecf835b68",
   "metadata": {},
   "outputs": [],
   "source": []
  },
  {
   "cell_type": "code",
   "execution_count": null,
   "id": "a43dc410-ab88-4489-9d42-d6032792c7d5",
   "metadata": {},
   "outputs": [],
   "source": []
  },
  {
   "cell_type": "code",
   "execution_count": null,
   "id": "9dd7d935-7d8a-46b3-b0c0-53f38aeb4b7a",
   "metadata": {},
   "outputs": [],
   "source": []
  }
 ],
 "metadata": {
  "kernelspec": {
   "display_name": "Python 3 (ipykernel)",
   "language": "python",
   "name": "python3"
  },
  "language_info": {
   "codemirror_mode": {
    "name": "ipython",
    "version": 3
   },
   "file_extension": ".py",
   "mimetype": "text/x-python",
   "name": "python",
   "nbconvert_exporter": "python",
   "pygments_lexer": "ipython3",
   "version": "3.10.8"
  }
 },
 "nbformat": 4,
 "nbformat_minor": 5
}
