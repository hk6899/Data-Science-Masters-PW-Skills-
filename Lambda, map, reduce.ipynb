{
 "cells": [
  {
   "cell_type": "markdown",
   "id": "2bc3a62b-4769-4993-8647-34682761781a",
   "metadata": {},
   "source": [
    "# Assignment Feb4 Functions"
   ]
  },
  {
   "cell_type": "markdown",
   "id": "bcc11ae3-ad5b-4421-96ef-20d4d750efde",
   "metadata": {},
   "source": [
    "### Q1. Create a python program to sort the given list of tuples based on integer value using a lambda function."
   ]
  },
  {
   "cell_type": "code",
   "execution_count": 1,
   "id": "fa508f24-cce9-4d69-ba63-15bec3967253",
   "metadata": {},
   "outputs": [],
   "source": [
    "a = [('Sachin Tendulkar', 34357), ('Ricky Ponting', 27483), ('Jack Kallis', 25534), ('Virat Kohli', 24936)]\n"
   ]
  },
  {
   "cell_type": "code",
   "execution_count": 20,
   "id": "fcbfe83f-bac1-4ab0-9481-9864a4de38de",
   "metadata": {},
   "outputs": [
    {
     "data": {
      "text/plain": [
       "[('Virat Kohli', 24936),\n",
       " ('Jack Kallis', 25534),\n",
       " ('Ricky Ponting', 27483),\n",
       " ('Sachin Tendulkar', 34357)]"
      ]
     },
     "execution_count": 20,
     "metadata": {},
     "output_type": "execute_result"
    }
   ],
   "source": [
    "sorted(a, key=lambda x: x[1]) "
   ]
  },
  {
   "cell_type": "markdown",
   "id": "787e7606-e5d6-496b-9f9c-3dd32320286d",
   "metadata": {},
   "source": [
    "### Q2. Write a Python Program to find the squares of all the numbers in the given list of integers using lambda and map functions."
   ]
  },
  {
   "cell_type": "code",
   "execution_count": 22,
   "id": "8cdbb311-009b-495d-81aa-4fb140847b3e",
   "metadata": {},
   "outputs": [],
   "source": [
    "b = [1, 2, 3, 4, 5, 6, 7, 8, 9, 10]"
   ]
  },
  {
   "cell_type": "code",
   "execution_count": 24,
   "id": "e7c8c712-3662-45ce-b0a7-020ae62556da",
   "metadata": {},
   "outputs": [
    {
     "data": {
      "text/plain": [
       "[1, 4, 9, 16, 25, 36, 49, 64, 81, 100]"
      ]
     },
     "execution_count": 24,
     "metadata": {},
     "output_type": "execute_result"
    }
   ],
   "source": [
    "list(map(lambda x:x**2,b))"
   ]
  },
  {
   "cell_type": "markdown",
   "id": "5cac32db-b8e3-493d-b95e-35836f0643f3",
   "metadata": {},
   "source": [
    "### Q3. Write a python program to convert the given list of integers into a tuple of strings. Use map and lambda functions"
   ]
  },
  {
   "cell_type": "code",
   "execution_count": 29,
   "id": "3718c464-53f8-4c48-a368-671188100854",
   "metadata": {},
   "outputs": [],
   "source": [
    "given= [1, 2, 3, 4, 5, 6, 7, 8, 9, 10]"
   ]
  },
  {
   "cell_type": "code",
   "execution_count": 31,
   "id": "03118044-48b3-455c-b71f-078b80a5136f",
   "metadata": {},
   "outputs": [
    {
     "data": {
      "text/plain": [
       "('1', '2', '3', '4', '5', '6', '7', '8', '9', '10')"
      ]
     },
     "execution_count": 31,
     "metadata": {},
     "output_type": "execute_result"
    }
   ],
   "source": [
    "tuple(map(lambda x:str(x),given))"
   ]
  },
  {
   "cell_type": "markdown",
   "id": "8022f2b0-2f5d-4b3a-847f-caaa7244093b",
   "metadata": {},
   "source": [
    "### Q4. Write a python program using reduce function to compute the product of a list containing numbers from 1 to 25."
   ]
  },
  {
   "cell_type": "code",
   "execution_count": 34,
   "id": "dc4acf03-9c9a-40bc-9d0d-d493b8537105",
   "metadata": {},
   "outputs": [],
   "source": [
    "d = list(range(1,26))"
   ]
  },
  {
   "cell_type": "code",
   "execution_count": 37,
   "id": "42be67dc-9c09-426d-920f-773885d739b9",
   "metadata": {},
   "outputs": [],
   "source": [
    "from functools import reduce"
   ]
  },
  {
   "cell_type": "code",
   "execution_count": 38,
   "id": "884b5e6a-0294-4f8a-a833-81e8fb604789",
   "metadata": {},
   "outputs": [
    {
     "data": {
      "text/plain": [
       "15511210043330985984000000"
      ]
     },
     "execution_count": 38,
     "metadata": {},
     "output_type": "execute_result"
    }
   ],
   "source": [
    "reduce(lambda x,y:x*y,d)"
   ]
  },
  {
   "cell_type": "markdown",
   "id": "fa6d9485-a4db-403b-819c-c668c398fab6",
   "metadata": {},
   "source": [
    "### Q5. Write a python program to filter the numbers in a given list that are divisible by 2 and 3 using the filter function."
   ]
  },
  {
   "cell_type": "code",
   "execution_count": 39,
   "id": "ff1774c7-7cb4-46f2-b1c9-ac67543cd367",
   "metadata": {},
   "outputs": [],
   "source": [
    "e = [2, 3, 6, 9, 27, 60, 90, 120, 55, 46]"
   ]
  },
  {
   "cell_type": "code",
   "execution_count": 46,
   "id": "63b851e5-e51b-490b-82cd-7ed6c60cc8f6",
   "metadata": {},
   "outputs": [
    {
     "data": {
      "text/plain": [
       "[6, 60, 90, 120]"
      ]
     },
     "execution_count": 46,
     "metadata": {},
     "output_type": "execute_result"
    }
   ],
   "source": [
    "list(filter(lambda x:x%2==0 and x%3==0,e))"
   ]
  },
  {
   "cell_type": "markdown",
   "id": "759a83c2-13c1-4f3b-bd8f-780057dd8f1c",
   "metadata": {},
   "source": [
    "### Q6. Write a python program to find palindromes in the given list of strings using lambda and filter function."
   ]
  },
  {
   "cell_type": "code",
   "execution_count": 47,
   "id": "120c6f6b-9d73-493c-a27a-9360e0792b27",
   "metadata": {},
   "outputs": [],
   "source": [
    "f = ['python', 'php', 'aba', 'radar', 'level']"
   ]
  },
  {
   "cell_type": "code",
   "execution_count": 48,
   "id": "9cd8a39f-337b-4f0c-8a22-82192baf4e3c",
   "metadata": {},
   "outputs": [
    {
     "data": {
      "text/plain": [
       "['php', 'aba', 'radar', 'level']"
      ]
     },
     "execution_count": 48,
     "metadata": {},
     "output_type": "execute_result"
    }
   ],
   "source": [
    "list(filter(lambda x : x[::-1]==x,f))"
   ]
  },
  {
   "cell_type": "code",
   "execution_count": null,
   "id": "0ed93982-7a23-4c55-931a-f3cca758403c",
   "metadata": {},
   "outputs": [],
   "source": []
  }
 ],
 "metadata": {
  "kernelspec": {
   "display_name": "Python 3 (ipykernel)",
   "language": "python",
   "name": "python3"
  },
  "language_info": {
   "codemirror_mode": {
    "name": "ipython",
    "version": 3
   },
   "file_extension": ".py",
   "mimetype": "text/x-python",
   "name": "python",
   "nbconvert_exporter": "python",
   "pygments_lexer": "ipython3",
   "version": "3.10.8"
  }
 },
 "nbformat": 4,
 "nbformat_minor": 5
}
