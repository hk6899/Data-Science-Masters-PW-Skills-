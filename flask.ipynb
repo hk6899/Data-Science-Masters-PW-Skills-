{
 "cells": [
  {
   "cell_type": "markdown",
   "id": "8e10b3cf-e120-458c-862e-90255f3cb38f",
   "metadata": {},
   "source": [
    "# Assignment Flask"
   ]
  },
  {
   "cell_type": "markdown",
   "id": "aa500f13-d20a-4f55-8392-0f0aa229747d",
   "metadata": {},
   "source": [
    "Q1. What is Flask Framework? What are the advantages of Flask Framework?"
   ]
  },
  {
   "cell_type": "markdown",
   "id": "a38e76d4-a2d9-493c-b2ef-bd4458e5ab77",
   "metadata": {},
   "source": [
    "Flask is used for developing web applications using python, implemented on Werkzeug and Jinja2. Advantages of using Flask framework are: There is a built-in development server and a fast debugger provided"
   ]
  },
  {
   "cell_type": "markdown",
   "id": "eb4a8910-fdae-4247-8c2a-01e81d1baaa0",
   "metadata": {
    "tags": []
   },
   "source": [
    "Q2. Create a simple Flask application to display ‘Hello World!!’. Attach the screenshot of the output in\n",
    "Jupyter Notebook."
   ]
  },
  {
   "cell_type": "code",
   "execution_count": 1,
   "id": "2b3d6858-5536-4a77-9011-8cc1238d4a24",
   "metadata": {},
   "outputs": [
    {
     "data": {
      "image/png": "[encoded data removed]",
      "text/plain": [
       "<IPython.core.display.Image object>"
      ]
     },
     "execution_count": 1,
     "metadata": {},
     "output_type": "execute_result"
    }
   ],
   "source": [
    "from IPython.display import Image\n",
    "Image(\"Picture1.png\")"
   ]
  },
  {
   "cell_type": "markdown",
   "id": "810fc98f-5d6a-4f6f-9ede-03abf3254eb2",
   "metadata": {
    "tags": []
   },
   "source": [
    "Q3. What is App routing in Flask? Why do we use app routes?"
   ]
  },
  {
   "cell_type": "markdown",
   "id": "09411b90-9448-424e-822d-0292ed59b9e8",
   "metadata": {},
   "source": [
    "App Routing means mapping the URLs to a specific function that will handle the logic for that URL. Modern web frameworks use more meaningful URLs to help users remember the URLs and make navigation simpler."
   ]
  },
  {
   "cell_type": "markdown",
   "id": "a775b3bf-212a-48d0-85fb-742d482af8e3",
   "metadata": {
    "tags": []
   },
   "source": [
    "Q4. Create a “/welcome” route to display the welcome message “Welcome to ABC Corporation” and a “/”\n",
    "route to show the following details:\n",
    "Company Name: ABC Corporation\n",
    "Location: India\n",
    "Contact Detail: 999-999-9999"
   ]
  },
  {
   "cell_type": "code",
   "execution_count": 2,
   "id": "ac538e16-33a9-4ec0-b34f-9c399f7b4066",
   "metadata": {},
   "outputs": [
    {
     "data": {
      "image/png": "[encoded data removed]",
      "text/plain": [
       "<IPython.core.display.Image object>"
      ]
     },
     "execution_count": 2,
     "metadata": {},
     "output_type": "execute_result"
    }
   ],
   "source": [
    "Image(\"Picture2.png\")"
   ]
  },
  {
   "cell_type": "markdown",
   "id": "8004c3f3-61bd-4629-a760-191e969c46f9",
   "metadata": {
    "tags": []
   },
   "source": [
    "Q5. What function is used in Flask for URL Building? Write a Python code to demonstrate the working of the\n",
    "url_for() function."
   ]
  },
  {
   "cell_type": "markdown",
   "id": "2b0ded01-8832-4ca9-9378-b905a58c966b",
   "metadata": {},
   "source": [
    "The url_for() method, is used to prepare a URL, for a function dynamically, such that, changing URLs, in the application, is avoided. It accepts, the name of the view function, as the first argument, and, any number of keywords, to be sent(to the view function), as the second argument. "
   ]
  },
  {
   "cell_type": "code",
   "execution_count": null,
   "id": "8065ce68-070a-44bd-b697-82fa397b8e4b",
   "metadata": {},
   "outputs": [],
   "source": []
  },
  {
   "cell_type": "code",
   "execution_count": null,
   "id": "e0f063bb-26d9-479c-ac22-bcdd67ae2e74",
   "metadata": {},
   "outputs": [],
   "source": []
  },
  {
   "cell_type": "code",
   "execution_count": null,
   "id": "4e280df2-18f6-43e0-86a5-331e27611d18",
   "metadata": {},
   "outputs": [],
   "source": []
  },
  {
   "cell_type": "code",
   "execution_count": null,
   "id": "7f7ec2fb-ffb3-427b-ba4b-27d89f8b5cde",
   "metadata": {},
   "outputs": [],
   "source": []
  },
  {
   "cell_type": "code",
   "execution_count": null,
   "id": "6558a56e-8d3c-4d12-8e9d-5bdfdc19b957",
   "metadata": {},
   "outputs": [],
   "source": []
  },
  {
   "cell_type": "code",
   "execution_count": null,
   "id": "da4f22fb-c3ff-4306-b856-914788858bed",
   "metadata": {},
   "outputs": [],
   "source": []
  },
  {
   "cell_type": "code",
   "execution_count": null,
   "id": "5ccfd3ed-b4fb-406a-b2db-595ee56e9365",
   "metadata": {},
   "outputs": [],
   "source": []
  },
  {
   "cell_type": "code",
   "execution_count": null,
   "id": "78afe73e-520d-4977-8b9b-acca33340795",
   "metadata": {},
   "outputs": [],
   "source": []
  }
 ],
 "metadata": {
  "kernelspec": {
   "display_name": "Python 3 (ipykernel)",
   "language": "python",
   "name": "python3"
  },
  "language_info": {
   "codemirror_mode": {
    "name": "ipython",
    "version": 3
   },
   "file_extension": ".py",
   "mimetype": "text/x-python",
   "name": "python",
   "nbconvert_exporter": "python",
   "pygments_lexer": "ipython3",
   "version": "3.10.8"
  }
 },
 "nbformat": 4,
 "nbformat_minor": 5
}
