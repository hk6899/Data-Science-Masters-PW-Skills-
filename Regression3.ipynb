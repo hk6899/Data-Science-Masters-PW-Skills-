{
 "cells": [
  {
   "cell_type": "markdown",
   "id": "19fa3ffa-86bf-4543-aa71-0598be094868",
   "metadata": {},
   "source": [
    "# Regression 3"
   ]
  },
  {
   "cell_type": "markdown",
   "id": "9c6ee59f-9a8d-4594-96b6-5e2f4cf540f9",
   "metadata": {},
   "source": [
    "Q1. What is Ridge Regression, and how does it differ from ordinary least squares regression?"
   ]
  },
  {
   "cell_type": "markdown",
   "id": "e56ac18b-e052-4e78-81ae-a55ad9b62216",
   "metadata": {},
   "source": [
    "Ridge is also called L2 regularisation. It adds a penality to the normal regression cost function, helps in prevent overfitting."
   ]
  },
  {
   "cell_type": "markdown",
   "id": "f717e3a5-643d-45eb-a6b0-9262e6f9444f",
   "metadata": {},
   "source": [
    "Q2. What are the assumptions of Ridge Regression?"
   ]
  },
  {
   "cell_type": "markdown",
   "id": "63c88272-8ddf-4e5f-826a-51b54789e0a3",
   "metadata": {},
   "source": [
    "1. Linearity: The relationship between the independent variables and the dependent variable is assumed to be linear.\n",
    "2. Independence: The observations are assumed to be independent of each other, meaning that the value of one observation does not depend on the value of any other observation.\n",
    "3. Homoscedasticity: The variance of the residuals is assumed to be constant across all levels of the independent variables.\n",
    "4. Normality: The residuals are assumed to be normally distributed with a mean of zero and a constant variance.\n",
    "5. No multicollinearity: The independent variables are not highly correlated with each other.\n",
    "6. No omitted variable bias: The model includes all relevant independent variables that affect the dependent variable.\n",
    "7. No outliers: The data does not contain any outliers or influential observations that may affect the model's fit."
   ]
  },
  {
   "cell_type": "markdown",
   "id": "d2626498-f2bd-4d6d-a300-9f15ce38b17c",
   "metadata": {},
   "source": [
    "Q3. How do you select the value of the tuning parameter (lambda) in Ridge Regression?"
   ]
  },
  {
   "cell_type": "markdown",
   "id": "020b6b20-d76f-4314-ad46-216bfd62e5e5",
   "metadata": {},
   "source": [
    "1. Grid Search: This involves trying out multiple values of lambda and evaluating the performance of the model on a validation set. The value of lambda that results in the best performance is then chosen.\n",
    "2. Lambda Selection Criteria: This method uses a set of criteria to choose the optimal value of lambda. The criteria can include things like Akaike information criterion (AIC), Bayesian information criterion (BIC), mean squared error (MSE), mean absolute error (MAE), etc.\n",
    "3. Cross-Validation: This method involves splitting the data into training and validation sets and using the training set to train the model and the validation set to evaluate the performance of the model for different values of lambda. The value of lambda that results in the best performance is then chosen.\n",
    "4. Gradient-based optimization: This method uses gradient-based optimization algorithms to search for the optimal value of lambda. It is a computationally efficient method and can be useful when the number of parameters is large."
   ]
  },
  {
   "cell_type": "markdown",
   "id": "3ef07fa0-67cc-4eb6-910d-b49bb45441fd",
   "metadata": {},
   "source": [
    "Q4. Can Ridge Regression be used for feature selection? If yes, how?"
   ]
  },
  {
   "cell_type": "markdown",
   "id": "00a50a2a-de55-47e5-b8bc-9bc09ea2d6fa",
   "metadata": {},
   "source": [
    "No, as the gradient descent of predicted value and the independent feature vlaues global minima never becomes 0 unlike lasso for different values of lambda."
   ]
  },
  {
   "cell_type": "markdown",
   "id": "902976f0-f376-462e-8fae-279b058e4b86",
   "metadata": {},
   "source": [
    "Q5. How does the Ridge Regression model perform in the presence of multicollinearity?"
   ]
  },
  {
   "cell_type": "markdown",
   "id": "015fd267-0ff8-42e8-a2db-f692d71edb08",
   "metadata": {
    "tags": []
   },
   "source": [
    "Multicollinearity happens when predictor variables exhibit a correlation among themselves. Ridge regression aims at reducing the standard error by adding some bias in the estimates of the regression. The reduction of the standard error in regression estimates significantly increases the reliability of the estimates."
   ]
  },
  {
   "cell_type": "markdown",
   "id": "83dcad38-6384-425d-b0e0-6507b05eae99",
   "metadata": {},
   "source": [
    "Q6. Can Ridge Regression handle both categorical and continuous independent variables?"
   ]
  },
  {
   "cell_type": "markdown",
   "id": "cc43c4ce-29a3-49c4-86f2-abaa6bd3524d",
   "metadata": {
    "tags": []
   },
   "source": [
    "It is possible to include categorical predictors in a regression analysis, but it requires some extra work in performing the analysis and extra work in properly interpreting the results."
   ]
  },
  {
   "cell_type": "markdown",
   "id": "d8e155d6-7d0c-420e-a8fb-9c3a87720a5a",
   "metadata": {},
   "source": [
    "Q7. How do you interpret the coefficients of Ridge Regression?"
   ]
  },
  {
   "cell_type": "markdown",
   "id": "fb1f4dbc-0f86-49a8-9132-83844b66c97b",
   "metadata": {},
   "source": [
    "The coefficients of a Ridge Regression model represent the change in the expected value of the dependent variable for a one-unit change in the independent variable, while holding all other independent variables constant.\n",
    "In Ridge Regression, the coefficients are shrunk towards zero by an amount that is proportional to the magnitude of the correlation between the independent variables. This shrinkage is known as L2 regularization."
   ]
  },
  {
   "cell_type": "markdown",
   "id": "e371401b-00d0-43a6-8574-945c2cc5b6be",
   "metadata": {},
   "source": []
  },
  {
   "cell_type": "code",
   "execution_count": null,
   "id": "8abd674c-a5de-4011-8977-57a37a65e84e",
   "metadata": {},
   "outputs": [],
   "source": []
  },
  {
   "cell_type": "code",
   "execution_count": null,
   "id": "14916673-94ef-4454-8831-aecedb3e7039",
   "metadata": {},
   "outputs": [],
   "source": []
  },
  {
   "cell_type": "code",
   "execution_count": null,
   "id": "57e38829-ccff-4d2b-a533-abc01cfa062a",
   "metadata": {},
   "outputs": [],
   "source": []
  },
  {
   "cell_type": "code",
   "execution_count": null,
   "id": "a3a4a44d-9f27-4b26-8413-1854724580aa",
   "metadata": {},
   "outputs": [],
   "source": []
  },
  {
   "cell_type": "code",
   "execution_count": null,
   "id": "c77f70a7-58c0-4d1c-9585-3f51afa73ae1",
   "metadata": {},
   "outputs": [],
   "source": []
  },
  {
   "cell_type": "code",
   "execution_count": null,
   "id": "838990a7-35a8-44c8-845a-1612325c743a",
   "metadata": {},
   "outputs": [],
   "source": []
  },
  {
   "cell_type": "code",
   "execution_count": null,
   "id": "c8853c3b-3045-4321-bf2a-3ed47fe29446",
   "metadata": {},
   "outputs": [],
   "source": []
  },
  {
   "cell_type": "code",
   "execution_count": null,
   "id": "2f7cb90b-a25b-43e5-b0ab-bcd0d66e4636",
   "metadata": {},
   "outputs": [],
   "source": []
  },
  {
   "cell_type": "code",
   "execution_count": null,
   "id": "950640c5-181e-4fe5-86bb-33239e8c5257",
   "metadata": {},
   "outputs": [],
   "source": []
  },
  {
   "cell_type": "code",
   "execution_count": null,
   "id": "b15c9f5e-436e-4e2e-a72b-3ee2a4187fd5",
   "metadata": {},
   "outputs": [],
   "source": []
  },
  {
   "cell_type": "code",
   "execution_count": null,
   "id": "24d29e1f-bd1f-47fb-a5b2-63916aed827a",
   "metadata": {},
   "outputs": [],
   "source": []
  },
  {
   "cell_type": "code",
   "execution_count": null,
   "id": "f318eb3e-8e1a-4b6b-899a-7e36c98b2749",
   "metadata": {},
   "outputs": [],
   "source": []
  },
  {
   "cell_type": "code",
   "execution_count": null,
   "id": "a59ef35e-b9b3-47d9-9efe-cbab3d4ae8b6",
   "metadata": {},
   "outputs": [],
   "source": []
  },
  {
   "cell_type": "code",
   "execution_count": null,
   "id": "0e5a0720-3180-45fe-8df8-68f72c5519c0",
   "metadata": {},
   "outputs": [],
   "source": []
  },
  {
   "cell_type": "code",
   "execution_count": null,
   "id": "38f818f7-a67e-4829-b017-4611ed120402",
   "metadata": {},
   "outputs": [],
   "source": []
  },
  {
   "cell_type": "code",
   "execution_count": null,
   "id": "3e0d35f6-6212-4726-ba80-359138699fd2",
   "metadata": {},
   "outputs": [],
   "source": []
  },
  {
   "cell_type": "code",
   "execution_count": null,
   "id": "4562820f-2f1e-424e-85fe-30327cd055ab",
   "metadata": {},
   "outputs": [],
   "source": []
  },
  {
   "cell_type": "code",
   "execution_count": null,
   "id": "5e97b4ec-7bea-4ffa-85ec-f00a8fd3c1d8",
   "metadata": {},
   "outputs": [],
   "source": []
  }
 ],
 "metadata": {
  "kernelspec": {
   "display_name": "Python 3 (ipykernel)",
   "language": "python",
   "name": "python3"
  },
  "language_info": {
   "codemirror_mode": {
    "name": "ipython",
    "version": 3
   },
   "file_extension": ".py",
   "mimetype": "text/x-python",
   "name": "python",
   "nbconvert_exporter": "python",
   "pygments_lexer": "ipython3",
   "version": "3.10.8"
  }
 },
 "nbformat": 4,
 "nbformat_minor": 5
}
